{
 "cells": [
  {
   "cell_type": "code",
   "execution_count": 337,
   "id": "8d4ca75d",
   "metadata": {},
   "outputs": [],
   "source": [
    "import json\n",
    "import os\n",
    "import pandas as pd\n",
    "from datetime import datetime\n",
    "import pickle \n",
    "from matplotlib import pyplot as plt\n",
    "from collections import Counter\n",
    "import numpy as np\n",
    "import torch\n",
    "import logging\n",
    "from tqdm import tqdm\n",
    "from datetime import datetime\n",
    "import ast\n",
    "from operator import itemgetter\n",
    "from collections import OrderedDict\n",
    "\n",
    "\n",
    "from utils.tree_utils import *\n",
    "from utils.utils import *\n",
    "from dataset import *\n",
    "from model import *\n",
    "import torch\n",
    "\n",
    "import torch\n",
    "import torch.nn as nn\n",
    "import torch.nn.functional as F\n",
    "from torch import optim\n",
    "from torch.utils.data import TensorDataset, DataLoader\n",
    "import math\n",
    "from matplotlib import pyplot as plt"
   ]
  },
  {
   "cell_type": "code",
   "execution_count": 3,
   "id": "590c2652",
   "metadata": {},
   "outputs": [],
   "source": [
    "## People\n",
    "## Time\n",
    "## Topic\n",
    "## Media Contents\n"
   ]
  },
  {
   "cell_type": "code",
   "execution_count": 598,
   "id": "69cd3410",
   "metadata": {},
   "outputs": [],
   "source": [
    "out_dir = '../data'\n",
    "data_dir = '../data'\n",
    "journalist = 'muyixiao'\n",
    "batch_size = 4"
   ]
  },
  {
   "cell_type": "code",
   "execution_count": 599,
   "id": "da562edf",
   "metadata": {},
   "outputs": [
    {
     "name": "stderr",
     "output_type": "stream",
     "text": [
      "100%|██████████| 16/16 [00:00<00:00, 16202.04it/s]\n",
      "100%|██████████| 16/16 [00:00<00:00, 9721.70it/s]\n"
     ]
    }
   ],
   "source": [
    "### Data (normalize input inter-event times, then padding to create dataloaders)\n",
    "num_classes, num_sequences = 0, 0\n",
    "seq_dataset = []\n",
    "arr = []\n",
    "dp = []\n",
    "rel = []\n",
    "\n",
    "split = [12, 16]\n",
    "# JiayangFan: 80: 84\n",
    "# muyixiao: 12: 16\n",
    "# lingling: 98, 99\n",
    "# alice: 100, 150\n",
    "# marianna: 2: 10\n",
    "val = 0\n",
    "journal_sort = pd.read_csv((os.path.join(data_dir, f'{journalist}/{journalist}_conv_labels.csv')))\n",
    "ids = []\n",
    "for item in list(journal_sort['conversation_id']):\n",
    "    if item not in ids:\n",
    "        ids.append(item)\n",
    "id_pair = {}\n",
    "id_conv = {}\n",
    "for idx in ids:\n",
    "    id_pair[idx], id_conv[idx] = create_conversation_list(journal_sort[journal_sort['conversation_id']==idx], idx)\n",
    "id_data, uid, data, label = create_data(journal_sort, ids)\n",
    "prob = pkl.load(open(os.path.join(data_dir, f'{journalist}/{journalist}_edgeprob.pkl'), 'rb'))\n",
    "\n",
    "with open(os.path.join(data_dir, f'{journalist}/{journalist}_global_path.txt'), \"r\") as f:\n",
    "    for line in tqdm(f, total=get_number_of_lines(f)):\n",
    "        dp.append(json.loads(line.strip()))\n",
    "\n",
    "with open(os.path.join(data_dir, f'{journalist}/{journalist}_local_path.txt'), \"r\") as f:\n",
    "    for line in tqdm(f, total=get_number_of_lines(f)):\n",
    "        rel.append(json.loads(line.strip()))\n",
    "\n",
    "global_input = convert_global(dp, id_data)\n",
    "local_data = convert_local(rel)\n",
    "local_mat = generate_local_mat(local_data, id_data)\n",
    "local_input = create_mat(local_mat, mat_type='concat')\n",
    "logging.info(f'loaded split {journalist}...')\n",
    "num_classes = 3\n",
    "#num_sequences += len(data[split]['arrival_times'])\n",
    "num_sequences = len(set(journal_sort['conversation_id']))\n",
    "\n",
    "id_train, id_dev, id_test = id_data[:split[0]], id_data[split[0]:split[1]], id_data[split[1]:]\n",
    "uid_train, uid_dev, uid_test = uid[:split[0]], uid[split[0]:split[1]], uid[split[1]:]\n",
    "X_train, X_dev, X_test = data[:split[0]], data[split[0]:split[1]], data[split[1]:]\n",
    "prob_train, prob_dev, prob_test = prob[:split[0]], prob[split[0]:split[1]], prob[split[1]:]\n",
    "global_train, global_dev, global_test = global_input[:split[0]], global_input[split[0]:split[1]], global_input[split[1]:]\n",
    "local_train, local_dev, local_test = local_input[:split[0]], local_input[split[0]:split[1]], local_input[split[1]:]\n",
    "label_train, label_dev, label_test = label[:split[0]], label[split[0]:split[1]], label[split[1]:]\n",
    "\n",
    "d_train = TreeDataset(id_train, uid_train, X_train, prob_train, global_train, local_train, label_train)\n",
    "d_val = TreeDataset(id_dev, uid_dev, X_dev, prob_dev, global_dev, local_dev, label_dev)  \n",
    "d_test  = TreeDataset(id_test, uid_test, X_test, prob_test, global_test, local_test, label_test)   \n",
    "\n",
    "# for padding input sequences to maxlen of batch for running on gpu, and arranging them by length efficient\n",
    "collate = collate  \n",
    "train = torch.utils.data.DataLoader(d_train, batch_size=batch_size, shuffle=False, collate_fn=collate)\n",
    "val = torch.utils.data.DataLoader(d_val, batch_size=batch_size, shuffle=False, collate_fn=collate)\n",
    "test = torch.utils.data.DataLoader(d_test, batch_size=batch_size, shuffle=False, collate_fn=collate)\n"
   ]
  },
  {
   "cell_type": "code",
   "execution_count": 600,
   "id": "eb6cb12a",
   "metadata": {},
   "outputs": [],
   "source": [
    "# val\n",
    "with open(os.path.join(out_dir, f'{journalist}/strat_val.pkl'), 'rb') as file:\n",
    "    strat_val = pickle.load(file)\n",
    "\n",
    "with open(os.path.join(out_dir, f'{journalist}/true_labels.pkl'), 'rb') as file:\n",
    "    true_labels = pickle.load(file)\n",
    "\n",
    "with open(os.path.join(out_dir, f'{journalist}/pred_val.pkl'), 'rb') as file:\n",
    "    pred_val = pickle.load(file)\n",
    "\n",
    "with open(os.path.join(out_dir, f'{journalist}/output_val.pkl'), 'rb') as file:\n",
    "    output_val = pickle.load(file)\n",
    "\n",
    "# with open(os.path.join(out_dir, f'{journalist}/predicted.pkl'), 'rb') as file:\n",
    "#     predicted = pickle.load(file)\n",
    "# train\n",
    "with open(os.path.join(out_dir, f'{journalist}/strat_tr.pkl'), 'rb') as file:\n",
    "    strat_train = pickle.load(file)\n",
    "\n",
    "with open(os.path.join(out_dir, f'{journalist}/pred_tr.pkl'), 'rb') as file:\n",
    "    pred_train = pickle.load(file)\n",
    "    \n",
    "with open(os.path.join(out_dir, f'{journalist}/output.pkl'), 'rb') as file:\n",
    "    output_train = pickle.load(file)\n",
    "# test\n",
    "with open(os.path.join(out_dir, f'{journalist}/strat_te.pkl'), 'rb') as file:\n",
    "    strat_test = pickle.load(file)\n",
    "\n",
    "with open(os.path.join(out_dir, f'{journalist}/pred_te.pkl'), 'rb') as file:\n",
    "    pred_test = pickle.load(file)"
   ]
  },
  {
   "cell_type": "code",
   "execution_count": 601,
   "id": "4ca02c73",
   "metadata": {},
   "outputs": [],
   "source": [
    "pred_te = []\n",
    "for item in pred_test:\n",
    "    for x in item:\n",
    "        pred_te.append(x)\n",
    "\n",
    "label_id = {}\n",
    "for i in range(len(id_test)):\n",
    "    for j in range(len(id_test[i])):\n",
    "        if j >= len(pred_te[i]):\n",
    "            continue\n",
    "        label_id[id_test[i][j]] = pred_te[i][j]\n",
    "for index, row in journal_sort.iterrows():\n",
    "    tid = row['tweet_id']\n",
    "    l = row['labels']\n",
    "    if tid not in label_id.keys():\n",
    "        journal_sort.loc[index, 'labels'] = 1\n",
    "    else: \n",
    "        journal_sort.loc[index, 'labels'] = label_id[tid]\n"
   ]
  },
  {
   "cell_type": "code",
   "execution_count": 602,
   "id": "ea6901fd",
   "metadata": {},
   "outputs": [],
   "source": [
    "strat_all = []\n",
    "for item in (strat_train + strat_val + strat_test):\n",
    "    for x in item:\n",
    "        strat_all.append(x)\n",
    "\n",
    "strat_id = {}\n",
    "for i in range(len(id_data)):\n",
    "    for j in range(len(id_data[i])):\n",
    "        if j >= len(strat_all[i]):\n",
    "            continue\n",
    "        strat_id[id_data[i][j]] = strat_all[i][j]\n",
    "\n",
    "journal_sort['strategy'] = journal_sort['tweet_id'].map(strat_id)"
   ]
  },
  {
   "cell_type": "code",
   "execution_count": 603,
   "id": "cc9fd57d",
   "metadata": {},
   "outputs": [],
   "source": [
    "date_format = '%Y-%m-%d %H:%M:%S'\n",
    "collect_time = datetime.strptime('2023-01-01 00:00:00', date_format)\n",
    "conv = journal_sort.dropna(subset=['strategy']).reset_index(drop=True)"
   ]
  },
  {
   "cell_type": "code",
   "execution_count": 604,
   "id": "a2f680ab",
   "metadata": {},
   "outputs": [],
   "source": [
    "journal = conv['author_id'][0]\n",
    "conv['utility_a'] = None\n",
    "conv['utility_b'] = None\n",
    "conv['utility_c'] = None\n",
    "strat_id = {}\n",
    "reply_utility_a = []\n",
    "reply_utility_b = []\n",
    "reply_utility_c = []\n",
    "\n",
    "for index, row in conv.iterrows():\n",
    "    tweet_id = row['tweet_id']\n",
    "    time = datetime.strptime(row['created_at'][:19], date_format)\n",
    "    refer = conv[conv['reference_id']==tweet_id]\n",
    "    count_a = row['like_count'] + row['quote_count'] + np.log(row['impression_count']+1) \\\n",
    "                    + row['reply_count'] + row['retweet_count']\n",
    "    if len(refer)==0:\n",
    "        attacked = 0\n",
    "        by_journal = 0\n",
    "    else:\n",
    "        if row['labels'] == 0:\n",
    "            attacked = len(refer[refer['labels']==2]) + len(refer[refer['labels']==1])\n",
    "        else:\n",
    "            attacked = len(refer[refer['labels']==0]) + len(refer[refer['labels']==1])\n",
    "        by_journal = len(refer[refer['user_id']==journal])\n",
    "        # count_all = attacked + by_journal + row['like_count'] + row['quote_count'] + \\\n",
    "        #             (np.log(row['impression_count']+1)) + row['reply_count'] + row['retweet_count']\n",
    "    delta_time_dirty = (collect_time - time).total_seconds() \n",
    "    delta_time = float(divmod(delta_time_dirty, 3600)[0]) / 480\n",
    "    utility_a = count_a / delta_time\n",
    "    utility_b = attacked / delta_time\n",
    "    utility_c = by_journal / delta_time\n",
    "    conv.loc[index, 'utility_a'] = utility_a\n",
    "    conv.loc[index, 'utility_b'] = utility_b\n",
    "    conv.loc[index, 'utility_c'] = utility_c\n",
    "\n",
    "    reply_utility_a.append([np.argmax(row['strategy']), utility_a])\n",
    "    reply_utility_b.append([np.argmax(row['strategy']), utility_b])\n",
    "    reply_utility_c.append([np.argmax(row['strategy']), utility_c])\n",
    "    if row['user_id'] not in strat_id.keys():\n",
    "        strat_id[row['user_id']] = {'strategy':[row['strategy']], \n",
    "                                    'utility_a':[utility_a],\n",
    "                                    'utility_b':[utility_b],\n",
    "                                    'utility_c':[utility_c]\n",
    "                                    }\n",
    "    else:\n",
    "        strat_id[row['user_id']]['strategy'].append(row['strategy'])\n",
    "        strat_id[row['user_id']]['utility_a'].append(utility_a)\n",
    "        strat_id[row['user_id']]['utility_b'].append(utility_b)\n",
    "        strat_id[row['user_id']]['utility_c'].append(utility_c)"
   ]
  },
  {
   "cell_type": "code",
   "execution_count": 605,
   "id": "a8a3e2e7",
   "metadata": {},
   "outputs": [],
   "source": [
    "user_utility = []\n",
    "for k, v in strat_id.items():\n",
    "    strat = np.argmax(np.mean(strat_id[k]['strategy'], axis=0))\n",
    "    u_a = np.mean(strat_id[k]['utility_a'])\n",
    "    u_b = np.mean(strat_id[k]['utility_b'])\n",
    "    u_c = np.mean(strat_id[k]['utility_c'])\n",
    "    user_utility.append([strat, u_a, u_b, u_c])"
   ]
  },
  {
   "cell_type": "code",
   "execution_count": 606,
   "id": "1c39d4a6",
   "metadata": {},
   "outputs": [],
   "source": [
    "strategy = {'a':{}, 'b':{}, 'c':{}}\n",
    "for item in user_utility:\n",
    "    if item[0] not in strategy['a'].keys():\n",
    "        strategy['a'][item[0]] = [item[1]]\n",
    "        strategy['b'][item[0]] = [item[2]]\n",
    "        strategy['c'][item[0]] = [item[3]]\n",
    "    else:\n",
    "        strategy['a'][item[0]].append(item[1])\n",
    "        strategy['b'][item[0]].append(item[2])\n",
    "        strategy['c'][item[0]].append(item[3])\n",
    "\n",
    "sorted_dict = {'a': OrderedDict(sorted(strategy['a'].items())),\n",
    "                       'b': OrderedDict(sorted(strategy['b'].items())),\n",
    "                       'c': OrderedDict(sorted(strategy['c'].items())),\n",
    "                       }"
   ]
  },
  {
   "cell_type": "code",
   "execution_count": 533,
   "id": "b86c376b",
   "metadata": {},
   "outputs": [],
   "source": [
    "#sorted_dict_muyixiao = sorted_dict\n",
    "#sorted_dict_jiayangfan = sorted_dict\n",
    "#sorted_dict_lingling\n",
    "# with open('../result/payoff_muyixiao.pkl', 'wb') as pickle_file:\n",
    "#     pickle.dump(sorted_dict_muyixiao, pickle_file)\n",
    "with open('../result/payoff_jiayangfan.pkl', 'wb') as pickle_file:\n",
    "    pickle.dump(sorted_dict_jiayangfan, pickle_file)\n",
    "# with open('../result/payoff_lingling.pkl', 'wb') as pickle_file:\n",
    "#     pickle.dump(sorted_dict_lingling, pickle_file)\n",
    "# with open('../result/payoff_meifong.pkl', 'wb') as pickle_file:\n",
    "#     pickle.dump(sorted_dict_meifong, pickle_file)\n",
    "# with open('../result/payoff_alice.pkl', 'wb') as pickle_file:\n",
    "#     pickle.dump(sorted_dict, pickle_file)\n",
    "    \n",
    "    "
   ]
  },
  {
   "cell_type": "code",
   "execution_count": 548,
   "id": "4fb18f42",
   "metadata": {},
   "outputs": [],
   "source": [
    "sorted_all = {}\n",
    "for ind, item in sorted_dict_meifong.items():\n",
    "    sorted_all[ind] = {}\n",
    "    for k, v in item.items():\n",
    "        sorted_all[ind][k] = v + sorted_dict_jiayangfan[ind][k] \n",
    "    # if k in sorted_dict_meifong.keys():\n",
    "    #     sorted_all[k] = sorted_all[k] + sorted_dict_meifong[k]\n",
    "    # if k in sorted_dict_alice.keys():\n",
    "    #     sorted_all[k] = sorted_all[k] + sorted_dict_alice[k]"
   ]
  },
  {
   "cell_type": "code",
   "execution_count": 551,
   "id": "f1ba8455",
   "metadata": {},
   "outputs": [
    {
     "name": "stdout",
     "output_type": "stream",
     "text": [
      "31 6.237929565040203\n",
      "1970 25.87273024701456\n",
      "240 29.47543765714043\n",
      "5797 69.82885085574573\n",
      "13 0.1177047572339382\n",
      "4996 32.931605602660206\n",
      "348 0.3902439024390244\n",
      "======\n",
      "31 0.027783405203600266\n",
      "1970 0.3926380368098159\n",
      "240 0.7079646017699115\n",
      "5797 5.353159851301116\n",
      "13 0.0\n",
      "4996 0.18334606569900688\n",
      "348 0.1951219512195122\n",
      "======\n",
      "31 0.013891702601800133\n",
      "1970 0.05239602663464687\n",
      "240 0.05901155642980084\n",
      "5797 0.05223636957231472\n",
      "13 0.0\n",
      "4996 0.23357664233576644\n",
      "348 0.025884383088869714\n",
      "======\n"
     ]
    }
   ],
   "source": [
    "count = {}\n",
    "for ind, item in sorted_all.items():\n",
    "    count[ind] = 0\n",
    "    for k, v in item.items():\n",
    "        for x in v:\n",
    "            if x > 0.1:\n",
    "                count[ind] += 1\n",
    "        print(len(v), max(v))\n",
    "    print(\"======\")"
   ]
  },
  {
   "cell_type": "code",
   "execution_count": 552,
   "id": "e2f1d696",
   "metadata": {},
   "outputs": [
    {
     "data": {
      "text/plain": [
       "{'a': [0.527685156866969,\n",
       "  0.16696968193614986,\n",
       "  1.6827044503455757,\n",
       "  0.13238463217781368,\n",
       "  0.010602868957726682,\n",
       "  0.06163436914344921,\n",
       "  0.005436084304544172],\n",
       " 'b': [0.0015284400439466443,\n",
       "  0.0029786323078753248,\n",
       "  0.003578353164063416,\n",
       "  0.007248280192625641,\n",
       "  0.0,\n",
       "  0.0009693802733898417,\n",
       "  0.0013620226660278501],\n",
       " 'c': [0.0004481194387677462,\n",
       "  0.0002943686124466576,\n",
       "  0.0003152729222208325,\n",
       "  0.00023342530178280236,\n",
       "  0.0,\n",
       "  0.0005853387368363964,\n",
       "  0.00030251180068450475]}"
      ]
     },
     "execution_count": 552,
     "metadata": {},
     "output_type": "execute_result"
    }
   ],
   "source": [
    "mean = {}\n",
    "for ind, item in sorted_all.items():\n",
    "    mean[ind] = []\n",
    "    for k, v in item.items():\n",
    "        mean[ind].append(np.mean(v))\n",
    "mean"
   ]
  },
  {
   "cell_type": "code",
   "execution_count": 596,
   "id": "ca34f98a",
   "metadata": {},
   "outputs": [
    {
     "name": "stdout",
     "output_type": "stream",
     "text": [
      "{'a': {0: 0.527685156866969, 1: 0.16696968193614986, 2: 1.6827044503455757, 3: 0.13238463217781368, 4: 0.010602868957726682, 5: 0.06163436914344921, 7: 0.005436084304544172}, 'b': {0: 0.0015284400439466443, 1: 0.0029786323078753248, 2: 0.003578353164063416, 3: 0.007248280192625641, 4: 0.0, 5: 0.0009693802733898417, 7: 0.0013620226660278501}, 'c': {0: 0.0004481194387677462, 1: 0.0002943686124466576, 2: 0.0003152729222208325, 3: 0.00023342530178280236, 4: 0.0, 5: 0.0005853387368363964, 7: 0.00030251180068450475}}\n",
      "0.012094064949608062\n"
     ]
    }
   ],
   "source": [
    "scale = 1\n",
    "sorted_scale = {'a': {}, 'b': {}, 'c': {}}\n",
    "for ind, item in sorted_all.items():\n",
    "    for k, v in item.items():\n",
    "        sorted_scale[ind][k] = [scale * x for x in v]\n",
    "\n",
    "mean = {'a': {}, 'b': {}, 'c': {}}\n",
    "for ind, item in sorted_scale.items():\n",
    "    for k, v in item.items():\n",
    "        mean[ind][k] = np.mean(v)\n",
    "print(mean)\n",
    "\n",
    "c = 0\n",
    "total_len = 0\n",
    "for k, v in sorted_scale['a'].items():\n",
    "    total_len += len(v)\n",
    "    for item in v:\n",
    "        if item >= 1.68:\n",
    "            c += 1\n",
    "print(c / total_len)"
   ]
  },
  {
   "cell_type": "code",
   "execution_count": 585,
   "id": "18256a52",
   "metadata": {},
   "outputs": [
    {
     "name": "stdout",
     "output_type": "stream",
     "text": [
      "0.027783405203600266\n",
      "0.3926380368098159\n",
      "0.7079646017699115\n",
      "5.353159851301116\n",
      "0.0\n",
      "0.18334606569900688\n",
      "0.1951219512195122\n"
     ]
    }
   ],
   "source": [
    "for ind, item in sorted_scale['b'].items():\n",
    "    print(max(item))"
   ]
  },
  {
   "cell_type": "code",
   "execution_count": 553,
   "id": "27e8d1d1",
   "metadata": {},
   "outputs": [
    {
     "data": {
      "image/png": "[encoded data removed]",
      "text/plain": [
       "<Figure size 640x480 with 1 Axes>"
      ]
     },
     "metadata": {},
     "output_type": "display_data"
    }
   ],
   "source": [
    "# Define bins with a width of 0.2 and range up to 4\n",
    "bins = np.arange(0., 0.5, 0.05)\n",
    "bin_centers = 0.5 * (bins[1:] + bins[:-1])\n",
    "\n",
    "# Calculate histogram for each dataset within the range and convert counts to percentages\n",
    "total_points = {}\n",
    "hist_per = {}\n",
    "for k, v in sorted_all['a'].items():\n",
    "    total_points[k] = len(v)\n",
    "    hist, _ = np.histogram(v, bins=bins)\n",
    "    hist_per[k] = (hist / total_points[k]) * 100\n",
    "\n",
    "\n",
    "\n",
    "# Plotting the histograms as lines on the same figure\n",
    "for k in hist_per.keys():\n",
    "    plt.plot(bin_centers, hist_per[k], linestyle='-', marker='o', mfc='none', label=k, markersize=5)\n",
    "y = range(70)\n",
    "x = [0.2094] * len(y)\n",
    "# Plotting the data\n",
    "#plt.plot(x, y, label='Data Line')\n",
    "plt.plot(x, y, 'y--') \n",
    "plt.xlim([0.01, bins[-1]])  # Adjust x-axis to include the last bin\n",
    "\n",
    "# Remove borders\n",
    "plt.gca().spines['top'].set_visible(False)\n",
    "plt.gca().spines['right'].set_visible(False)\n",
    "plt.gca().spines['bottom'].set_visible(False)\n",
    "plt.gca().spines['left'].set_visible(False)\n",
    "\n",
    "# Remove grids\n",
    "plt.grid(False)\n",
    "\n",
    "# Customize the y-axis to show percentages\n",
    "max_percentage = 70 #max(max(hist_per[i]) for i in range(len(hist_per)))\n",
    "plt.ylim([-0.5, max_percentage + (5 - max_percentage % 5)])  # Adjust ylim for visibility\n",
    "plt.gca().set_yticks(np.arange(0, max_percentage + 1, step=5))\n",
    "plt.gca().set_yticklabels([f'{x:.0f}%' for x in np.arange(0, max_percentage + 1, step=5)])\n",
    "\n",
    "plt.xlabel('Utility Score A')\n",
    "plt.ylabel('Percentage of Users')\n",
    "plt.title('Distribution of Utility')\n",
    "plt.legend()\n",
    "plt.savefig('../result/payoff_a.png')\n",
    "plt.show()\n"
   ]
  },
  {
   "cell_type": "code",
   "execution_count": 594,
   "id": "478a3a24",
   "metadata": {},
   "outputs": [
    {
     "data": {
      "image/png": "[encoded data removed]",
      "text/plain": [
       "<Figure size 640x480 with 1 Axes>"
      ]
     },
     "metadata": {},
     "output_type": "display_data"
    }
   ],
   "source": [
    "# Define bins with a width of 0.2 and range up to 4\n",
    "bins = np.arange(0., 0.5, 0.05)\n",
    "bin_centers = 0.5 * (bins[1:] + bins[:-1])\n",
    "\n",
    "# Calculate histogram for each dataset within the range and convert counts to percentages\n",
    "total_points = {}\n",
    "hist_per = {}\n",
    "for k, v in sorted_all['b'].items():\n",
    "    total_points[k] = len(v)\n",
    "    hist, _ = np.histogram(v, bins=bins)\n",
    "    hist_per[k] = (hist / total_points[k]) * 100\n",
    "\n",
    "\n",
    "\n",
    "# Plotting the histograms as lines on the same figure\n",
    "for k in hist_per.keys():\n",
    "    plt.plot(bin_centers, hist_per[k], linestyle='-', marker='o', mfc='none', label=k, markersize=5)\n",
    "y = range(100)\n",
    "x = [0.05] * len(y)\n",
    "# Plotting the data\n",
    "#plt.plot(x, y, label='Data Line')\n",
    "plt.plot(x, y, 'y--') \n",
    "plt.xlim([0.0, bins[-1]])  # Adjust x-axis to include the last bin\n",
    "\n",
    "# Remove borders\n",
    "plt.gca().spines['top'].set_visible(False)\n",
    "plt.gca().spines['right'].set_visible(False)\n",
    "plt.gca().spines['bottom'].set_visible(False)\n",
    "plt.gca().spines['left'].set_visible(False)\n",
    "\n",
    "# Remove grids\n",
    "plt.grid(False)\n",
    "\n",
    "# Customize the y-axis to show percentages\n",
    "max_percentage = 100 #max(max(hist_per[i]) for i in range(len(hist_per)))\n",
    "plt.ylim([-0.5, max_percentage + (5 - max_percentage % 5)])  # Adjust ylim for visibility\n",
    "plt.gca().set_yticks(np.arange(0, max_percentage + 1, step=5))\n",
    "plt.gca().set_yticklabels([f'{x:.0f}%' for x in np.arange(0, max_percentage + 1, step=5)])\n",
    "\n",
    "plt.xlabel('Utility Score B')\n",
    "plt.ylabel('Percentage of Users')\n",
    "plt.title('Distribution of Utility')\n",
    "plt.legend()\n",
    "plt.savefig('../result/payoff_b.png')\n",
    "plt.show()\n"
   ]
  },
  {
   "cell_type": "code",
   "execution_count": 597,
   "id": "79bb5fbe",
   "metadata": {},
   "outputs": [
    {
     "data": {
      "image/png": "[encoded data removed]",
      "text/plain": [
       "<Figure size 640x480 with 1 Axes>"
      ]
     },
     "metadata": {},
     "output_type": "display_data"
    }
   ],
   "source": [
    "# Define bins with a width of 0.2 and range up to 4\n",
    "bins = np.arange(0., 0.5, 0.05)\n",
    "bin_centers = 0.5 * (bins[1:] + bins[:-1])\n",
    "\n",
    "# Calculate histogram for each dataset within the range and convert counts to percentages\n",
    "total_points = {}\n",
    "hist_per = {}\n",
    "for k, v in sorted_all['c'].items():\n",
    "    total_points[k] = len(v)\n",
    "    hist, _ = np.histogram(v, bins=bins)\n",
    "    hist_per[k] = (hist / total_points[k]) * 100\n",
    "\n",
    "\n",
    "\n",
    "# Plotting the histograms as lines on the same figure\n",
    "for k in hist_per.keys():\n",
    "    plt.plot(bin_centers, hist_per[k], linestyle='-', marker='o', mfc='none', label=k, markersize=5)\n",
    "y = range(100)\n",
    "x = [0.04] * len(y)\n",
    "# Plotting the data\n",
    "#plt.plot(x, y, label='Data Line')\n",
    "plt.plot(x, y, 'y--') \n",
    "plt.xlim([0.01, bins[-1]])  # Adjust x-axis to include the last bin\n",
    "\n",
    "# Remove borders\n",
    "plt.gca().spines['top'].set_visible(False)\n",
    "plt.gca().spines['right'].set_visible(False)\n",
    "plt.gca().spines['bottom'].set_visible(False)\n",
    "plt.gca().spines['left'].set_visible(False)\n",
    "\n",
    "# Remove grids\n",
    "plt.grid(False)\n",
    "\n",
    "# Customize the y-axis to show percentages\n",
    "max_percentage = 70 #max(max(hist_per[i]) for i in range(len(hist_per)))\n",
    "plt.ylim([-0.5, max_percentage + (5 - max_percentage % 5)])  # Adjust ylim for visibility\n",
    "plt.gca().set_yticks(np.arange(0, max_percentage + 1, step=5))\n",
    "plt.gca().set_yticklabels([f'{x:.0f}%' for x in np.arange(0, max_percentage + 1, step=5)])\n",
    "\n",
    "plt.xlabel('Utility Score C')\n",
    "plt.ylabel('Percentage of Users')\n",
    "plt.title('Distribution of Utility')\n",
    "plt.legend()\n",
    "plt.savefig('../result/payoff_c.png')\n",
    "plt.show()\n"
   ]
  },
  {
   "cell_type": "code",
   "execution_count": null,
   "id": "426ca511",
   "metadata": {},
   "outputs": [],
   "source": []
  },
  {
   "cell_type": "code",
   "execution_count": null,
   "id": "49a4301c",
   "metadata": {},
   "outputs": [],
   "source": []
  },
  {
   "cell_type": "code",
   "execution_count": null,
   "id": "6f6e2bc0",
   "metadata": {},
   "outputs": [],
   "source": []
  },
  {
   "cell_type": "code",
   "execution_count": null,
   "id": "a38795be",
   "metadata": {},
   "outputs": [],
   "source": []
  },
  {
   "cell_type": "code",
   "execution_count": null,
   "id": "36e27822",
   "metadata": {},
   "outputs": [],
   "source": []
  },
  {
   "cell_type": "code",
   "execution_count": null,
   "id": "b4da9439",
   "metadata": {},
   "outputs": [],
   "source": [
    "import json\n",
    "import os\n",
    "import pandas as pd\n",
    "from datetime import datetime\n",
    "import pickle \n",
    "from matplotlib import pyplot as plt\n",
    "from collections import Counter\n",
    "import numpy as np\n",
    "import torch\n",
    "import logging\n",
    "from tqdm import tqdm\n",
    "import ast\n",
    "from operator import itemgetter\n",
    "\n",
    "\n",
    "from utils.tree_utils import *\n",
    "from utils.utils import *\n",
    "from dataset import *\n",
    "from model import *"
   ]
  },
  {
   "cell_type": "code",
   "execution_count": null,
   "id": "4fef278a",
   "metadata": {},
   "outputs": [],
   "source": [
    "import torch\n",
    "import torch.nn as nn\n",
    "import torch.nn.functional as F\n",
    "from torch import optim\n",
    "from torch.utils.data import TensorDataset, DataLoader\n",
    "import math"
   ]
  },
  {
   "cell_type": "code",
   "execution_count": null,
   "id": "9f383a97",
   "metadata": {},
   "outputs": [],
   "source": [
    "out_dir = '../data/'\n",
    "data_dir = '../data/'\n",
    "journalist = 'Lingling_Wei'\n",
    "batch_size = 4"
   ]
  },
  {
   "cell_type": "code",
   "execution_count": null,
   "id": "c97138bd",
   "metadata": {},
   "outputs": [],
   "source": [
    "def get_set(set_list, n):\n",
    "    indices = np.arange(n)\n",
    "    np.random.shuffle(indices)\n",
    "\n",
    "    # Split sizes\n",
    "    train_size = int(0.7 * n)\n",
    "    validation_size = int(0.3 * n)\n",
    "    test_size = n\n",
    "    # Split indices\n",
    "    train_indices = list(indices[:train_size])\n",
    "    dev_indices = list(indices[train_size:train_size+validation_size])\n",
    "    test_indices = list(indices[train_size+validation_size:])\n",
    "\n",
    "    get_items_tr = itemgetter(*train_indices)  # Creates a callable for indexing\n",
    "    get_items_dev = itemgetter(*dev_indices)\n",
    "    get_items_te = itemgetter(*test_indices)\n",
    "    result_tr = list(get_items_tr(set_list))\n",
    "    result_dev = list(get_items_dev(set_list))\n",
    "    result_te = list(get_items_te(set_list))\n",
    "\n",
    "    result_train = result_tr if isinstance(result_tr, list) else [result_tr]\n",
    "    result_val = result_dev if isinstance(result_dev, list) else [result_dev]\n",
    "    result_test = result_te if isinstance(result_te, list) else [result_te]\n",
    "\n",
    "    return result_train, result_val, result_test\n",
    "\n",
    "def load_data(data_dir, journalist, classes, batch_size, collate):\n",
    "    ### Data (normalize input inter-event times, then padding to create dataloaders)\n",
    "    num_classes, num_sequences = 0, 0\n",
    "    seq_dataset = []\n",
    "    arr = []\n",
    "    dp = []\n",
    "    rel = []\n",
    "    \n",
    "    split = [98, 99]\n",
    "    # JiayangFan: 8: 84\n",
    "    # muyixiao: 4: 16\n",
    "    # lingling: 8, 99\n",
    "    # marianna: 2: 10\n",
    "    val = 0\n",
    "    journal_sort = pd.read_csv((os.path.join(data_dir, f'{journalist}/{journalist}_conv_labels.csv')))\n",
    "    ids = []\n",
    "    for item in list(journal_sort['conversation_id']):\n",
    "        if item not in ids:\n",
    "            ids.append(item)\n",
    "    id_pair = {}\n",
    "    id_conv = {}\n",
    "    for idx in ids:\n",
    "        id_pair[idx], id_conv[idx] = create_conversation_list(journal_sort[journal_sort['conversation_id']==idx], idx)\n",
    "    id_data, uid, data, label = create_data(journal_sort, ids)\n",
    "    prob = pkl.load(open(os.path.join(data_dir, f'{journalist}/{journalist}_edgeprob.pkl'), 'rb'))\n",
    "    \n",
    "    with open(os.path.join(data_dir, f'{journalist}/{journalist}_global_path.txt'), \"r\") as f:\n",
    "        for line in tqdm(f, total=get_number_of_lines(f)):\n",
    "            dp.append(json.loads(line.strip()))\n",
    "\n",
    "    with open(os.path.join(data_dir, f'{journalist}/{journalist}_local_path.txt'), \"r\") as f:\n",
    "        for line in tqdm(f, total=get_number_of_lines(f)):\n",
    "            rel.append(json.loads(line.strip()))\n",
    "    \n",
    "    global_input = convert_global(dp, id_data)\n",
    "    local_data = convert_local(rel)\n",
    "    local_mat = generate_local_mat(local_data, id_data)\n",
    "    local_input = create_mat(local_mat, mat_type='concat')\n",
    "    logging.info(f'loaded split {journalist}...')\n",
    "    # data - dict: dim_process, devtest, args, train, dev, test, index (train/dev/test given as)\n",
    "    # data[split] - list dicts {'time_since_start': at, 'time_since_last_event': dt, 'type_event': mark} or\n",
    "    # data[split] - dict {'arrival_times', 'delta_times', 'marks'}\n",
    "    # data['dim_process'] = Number of accounts = 119,298\n",
    "    # num_sequences: number of conversations of a journalist\n",
    "    num_classes = classes\n",
    "    #num_sequences += len(data[split]['arrival_times'])\n",
    "    num_sequences = len(set(journal_sort['conversation_id']))\n",
    "    \n",
    "    id_train, id_dev, id_test = id_data[:split[0]], id_data[split[0]:split[1]], id_data[split[1]:]\n",
    "    uid_train, uid_dev, uid_test = uid[:split[0]], uid[split[0]:split[1]], uid[split[1]:]\n",
    "    X_train, X_dev, X_test = data[:split[0]], data[split[0]:split[1]], data[split[1]:]\n",
    "    prob_train, prob_dev, prob_test = prob[:split[0]], prob[split[0]:split[1]], prob[split[1]:]\n",
    "    global_train, global_dev, global_test = global_input[:split[0]], global_input[split[0]:split[1]], global_input[split[1]:]\n",
    "    local_train, local_dev, local_test = local_input[:split[0]], local_input[split[0]:split[1]], local_input[split[1]:]\n",
    "    label_train, label_dev, label_test = label[:split[0]], label[split[0]:split[1]], label[split[1]:]\n",
    "\n",
    "    # id_train, id_dev, id_test = id_data[split[0]:split[1]], id_data[:split[0]], id_data[split[1]:]\n",
    "    # uid_train, uid_dev, uid_test = uid[split[0]:split[1]], uid[:split[0]], uid[split[1]:]\n",
    "    # X_train, X_dev, X_test = data[split[0]:split[1]], data[:split[0]], data[split[1]:]\n",
    "    # prob_train, prob_dev, prob_test = prob[split[0]:split[1]], prob[:split[0]], prob[split[1]:]\n",
    "    # global_train, global_dev, global_test = global_input[split[0]:split[1]], global_input[:split[0]], global_input[split[1]:]\n",
    "    # local_train, local_dev, local_test = local_input[split[0]:split[1]], local_input[:split[0]], local_input[split[1]:]\n",
    "    # label_train, label_dev, label_test = label[split[0]:split[1]], label[:split[0]], label[split[1]:]\n",
    "\n",
    "    # n = 16\n",
    "    # id_train, id_dev, id_test = get_set(id_data, n)\n",
    "    # uid_train, uid_dev, uid_test = get_set(uid, n)\n",
    "    # X_train, X_dev, X_test = get_set(data, n)\n",
    "    # prob_train, prob_dev, prob_test = get_set(prob, n)\n",
    "    # global_train, global_dev, global_test = get_set(global_input, n)\n",
    "    # local_train, local_dev, local_test = get_set(local_input, n)\n",
    "    # label_train, label_dev, label_test = get_set(label, n)\n",
    "    \n",
    "    d_train = TreeDataset(id_train, uid_train, X_train, prob_train, global_train, local_train, label_train)\n",
    "    d_val = TreeDataset(id_dev, uid_dev, X_dev, prob_dev, global_dev, local_dev, label_dev)  \n",
    "    d_test  = TreeDataset(id_test, uid_test, X_test, prob_test, global_test, local_test, label_test)   \n",
    "\n",
    "    # for padding input sequences to maxlen of batch for running on gpu, and arranging them by length efficient\n",
    "    collate = collate  \n",
    "    dl_train = torch.utils.data.DataLoader(d_train, batch_size=batch_size, shuffle=False, collate_fn=collate)\n",
    "    dl_val = torch.utils.data.DataLoader(d_val, batch_size=batch_size, shuffle=False, collate_fn=collate)\n",
    "    dl_test = torch.utils.data.DataLoader(d_test, batch_size=batch_size, shuffle=False, collate_fn=collate)\n",
    "    return dl_train, dl_val, dl_test\n"
   ]
  },
  {
   "cell_type": "code",
   "execution_count": null,
   "id": "45d59d36",
   "metadata": {},
   "outputs": [
    {
     "name": "stderr",
     "output_type": "stream",
     "text": [
      "100%|██████████| 452/452 [00:00<00:00, 3346.82it/s]\n",
      "100%|██████████| 452/452 [00:00<00:00, 42183.82it/s]\n"
     ]
    }
   ],
   "source": [
    "# data, labels, prob, global_path, local_path, torch.tensor(masks)\n",
    "train, val, test = load_data(out_dir, journalist, 3, batch_size, collate)\n"
   ]
  },
  {
   "cell_type": "code",
   "execution_count": null,
   "id": "2554561e",
   "metadata": {},
   "outputs": [],
   "source": [
    "# val\n",
    "with open(os.path.join(out_dir, f'{journalist}/strat_val.pkl'), 'rb') as file:\n",
    "    strat_val = pickle.load(file)\n",
    "\n",
    "with open(os.path.join(out_dir, f'{journalist}/true_labels.pkl'), 'rb') as file:\n",
    "    true_labels = pickle.load(file)\n",
    "\n",
    "with open(os.path.join(out_dir, f'{journalist}/pred_val.pkl'), 'rb') as file:\n",
    "    pred_val = pickle.load(file)\n",
    "\n",
    "with open(os.path.join(out_dir, f'{journalist}/output_val.pkl'), 'rb') as file:\n",
    "    output_val = pickle.load(file)\n",
    "\n",
    "# with open(os.path.join(out_dir, f'{journalist}/predicted.pkl'), 'rb') as file:\n",
    "#     predicted = pickle.load(file)\n",
    "# train\n",
    "with open(os.path.join(out_dir, f'{journalist}/strat_tr.pkl'), 'rb') as file:\n",
    "    strat_train = pickle.load(file)\n",
    "\n",
    "with open(os.path.join(out_dir, f'{journalist}/pred_tr.pkl'), 'rb') as file:\n",
    "    pred_train = pickle.load(file)\n",
    "    \n",
    "with open(os.path.join(out_dir, f'{journalist}/output.pkl'), 'rb') as file:\n",
    "    output_train = pickle.load(file)\n",
    "# test\n",
    "with open(os.path.join(out_dir, f'{journalist}/strat_te.pkl'), 'rb') as file:\n",
    "    strat_test = pickle.load(file)\n",
    "\n",
    "with open(os.path.join(out_dir, f'{journalist}/pred_te.pkl'), 'rb') as file:\n",
    "    pred_test = pickle.load(file)\n",
    "\n",
    "\n"
   ]
  },
  {
   "cell_type": "code",
   "execution_count": null,
   "id": "e440bbfc",
   "metadata": {},
   "outputs": [],
   "source": [
    "labels_tr = []\n",
    "strat_tr = []\n",
    "uid_tr = []\n",
    "output_tr = []\n",
    "pred_tr = []\n",
    "for i, item in enumerate(train):  # Assuming 'val' is your validation dataset\n",
    "    # Forward pass\n",
    "    #print(i)\n",
    "    mask = item.masks.float()\n",
    "    mask_bool = mask.bool()\n",
    "    labels = item.labels[mask_bool]\n",
    "\n",
    "    strat_temp = torch.Tensor(strat_train[i])\n",
    "    pred_temp = torch.Tensor(pred_train[i])\n",
    "    output_temp = torch.Tensor(output_train[i])\n",
    "\n",
    "    # output_temp = torch.Tensor(output_val[i])\n",
    "    # pred_temp = torch.Tensor(pred_val[i])\n",
    "    # strat_temp = torch.Tensor(strat_val[i])\n",
    "    \n",
    "    output_tr.append(output_temp[mask_bool].tolist())\n",
    "    pred_tr.append(pred_temp[mask_bool].tolist())\n",
    "    uid_tr.append(item.uid[mask_bool].tolist()) \n",
    "    strat_tr.append(strat_temp[mask_bool].tolist())\n",
    "    labels_tr.append(labels.tolist())\n"
   ]
  },
  {
   "cell_type": "code",
   "execution_count": null,
   "id": "a7ef4b03",
   "metadata": {},
   "outputs": [],
   "source": [
    "pred_te = []\n",
    "strat_te = []\n",
    "for i, item in enumerate(test):  # Assuming 'val' is your validation dataset\n",
    "    # Forward pass\n",
    "    #print(i)\n",
    "    mask = item.masks.float()\n",
    "    mask_bool = mask.bool()\n",
    "    labels = item.labels[mask_bool]\n",
    "\n",
    "    strat_temp = torch.Tensor(strat_test[i])\n",
    "    pred_temp = torch.Tensor(pred_test[i])\n",
    "\n",
    "    pred_te.append(pred_temp[mask_bool].tolist())\n",
    "    strat_te.append(strat_temp[mask_bool].tolist())\n"
   ]
  },
  {
   "cell_type": "markdown",
   "id": "9b4387fd",
   "metadata": {},
   "source": [
    "## User Cluster"
   ]
  },
  {
   "cell_type": "code",
   "execution_count": null,
   "id": "4abff0f4",
   "metadata": {},
   "outputs": [],
   "source": [
    "user = np.array([item for sublist in output_tr for item in sublist])\n",
    "labels = np.array([item for sublist in pred_tr for item in sublist])"
   ]
  },
  {
   "cell_type": "code",
   "execution_count": null,
   "id": "65a94f07",
   "metadata": {},
   "outputs": [],
   "source": []
  },
  {
   "cell_type": "code",
   "execution_count": null,
   "id": "27a4e96b",
   "metadata": {},
   "outputs": [],
   "source": [
    "# from sklearn.manifold import TSNE\n",
    "# from sklearn.preprocessing import StandardScaler\n",
    "\n",
    "# # Standardize the data\n",
    "# X_standardized = StandardScaler().fit_transform(user)  # X is your multi-dimensional data\n",
    "\n",
    "# # Run t-SNE\n",
    "# tsne = TSNE(n_components=2, perplexity=50, learning_rate=200, n_iter=1000)\n",
    "# X_tsne = tsne.fit_transform(X_standardized)\n",
    "\n",
    "# # Assuming X_tsne is your t-SNE output and labels is an array of your data point labels\n",
    "# unique_labels = np.unique(labels)\n",
    "# colors = plt.cm.rainbow(np.linspace(0, 1, len(unique_labels)))\n",
    "\n",
    "# plt.figure(figsize=(5, 4))\n",
    "# # Plot each cluster with a different color\n",
    "# for i, label in enumerate(unique_labels):\n",
    "#     plt.scatter(X_tsne[labels == label, 0], X_tsne[labels == label, 1], color=colors[i], label=label, s=10)\n",
    "\n",
    "# plt.xlabel('t-SNE feature 1')\n",
    "# plt.ylabel('t-SNE feature 2')\n",
    "# plt.title('t-SNE Visualization with Cluster Coloring')\n",
    "# plt.legend()\n",
    "# plt.show()\n",
    "\n"
   ]
  },
  {
   "cell_type": "code",
   "execution_count": null,
   "id": "0beabfb2",
   "metadata": {},
   "outputs": [],
   "source": [
    "import seaborn as sns\n",
    "import numpy as np\n",
    "from sklearn.decomposition import PCA\n",
    "import matplotlib.pyplot as plt\n",
    "\n",
    "# Example: Replace this with your actual multi-dimensional data\n",
    "data = user  # Random data with 5 dimensions\n",
    "\n",
    "\n",
    "pca = PCA(n_components=2)\n",
    "pca.fit(data)\n",
    "data_2d = pca.transform(data)"
   ]
  },
  {
   "cell_type": "code",
   "execution_count": null,
   "id": "992a48f0",
   "metadata": {},
   "outputs": [
    {
     "data": {
      "image/png": "[encoded data removed]",
      "text/plain": [
       "<Figure size 640x480 with 1 Axes>"
      ]
     },
     "metadata": {},
     "output_type": "display_data"
    }
   ],
   "source": [
    "labe = []\n",
    "for i, item in enumerate(data_2d):\n",
    "    if item[1] > 2.5 and item[0] > 5:\n",
    "        labe.append(0)\n",
    "    else:\n",
    "        labe.append(labels[i])\n",
    "group = labe\n",
    "cdict = {0: 'Red', 1: 'Green', 2: 'Blue'}\n",
    "unique_labels = np.unique(labe)\n",
    "colors = plt.cm.rainbow(np.linspace(0, 1, len(unique_labels)))\n",
    "\n",
    "fig, ax = plt.subplots()\n",
    "for g in np.unique(group):\n",
    "    ix = np.where(group == g)\n",
    "    ax.scatter(data_2d[:, 0][ix], data_2d[:, 1][ix], c = cdict[g], label = g, s = 15, zorder=3)\n",
    "ax.legend()\n",
    "plt.gca().spines['top'].set_visible(False)\n",
    "plt.gca().spines['right'].set_visible(False)\n",
    "plt.gca().spines['left'].set_visible(False)\n",
    "plt.gca().spines['bottom'].set_visible(False)\n",
    "plt.gca().set_facecolor('#f0f0f0')  # Use a light grey background, you can choose any color code\n",
    "plt.grid(True, which='both', axis='both', color='white', linestyle='-', linewidth=0.5, zorder=0)\n",
    "\n",
    "\n",
    "plt.tick_params(bottom=False, left=True)\n",
    "plt.title(\"Representation of User Clusters\")\n",
    "plt.xlabel(\"t-SNE feature 1\")\n",
    "plt.ylabel(\"t-SNE feature 2\")\n",
    "plt.legend(['Attackers', 'Bystanders', 'Supporters'])\n",
    "plt.savefig(f'../result/cluster_{journalist}.png', bbox_inches='tight')\n",
    "plt.show()"
   ]
  },
  {
   "cell_type": "code",
   "execution_count": null,
   "id": "1f16f789",
   "metadata": {},
   "outputs": [],
   "source": [
    "user_label = {}\n",
    "for i in range(len(labels_tr)):\n",
    "    for j in range(len(labels_tr[i])):\n",
    "        if uid_tr[i][j] not in user_label.keys():\n",
    "            user_label[uid_tr[i][j]] = ([labels_tr[i][j]], [strat_tr[i][j]])\n",
    "        else:\n",
    "            user_label[uid_tr[i][j]][0].append(labels_tr[i][j])\n",
    "            user_label[uid_tr[i][j]][1].append(strat_tr[i][j])\n"
   ]
  },
  {
   "cell_type": "code",
   "execution_count": null,
   "id": "8349ee24",
   "metadata": {},
   "outputs": [
    {
     "data": {
      "text/plain": [
       "array([0.08586945, 0.10313469, 0.05693509, 0.10864182, 0.17370731,\n",
       "       0.25151843, 0.06475481, 0.15543842])"
      ]
     },
     "metadata": {},
     "output_type": "display_data"
    }
   ],
   "source": [
    "np.mean([strat_tr[0][0]], axis=0)"
   ]
  },
  {
   "cell_type": "code",
   "execution_count": null,
   "id": "4d03da05",
   "metadata": {},
   "outputs": [],
   "source": [
    "user_strat = {0:[], 1:[], 2:[]}\n",
    "for k, v in user_label.items():\n",
    "    if 0 in v[0]:\n",
    "        user_strat[0].append(np.mean(v[1], axis=0))\n",
    "    elif 2 in v[0]:\n",
    "        user_strat[2].append(np.mean(v[1], axis=0))\n",
    "    else:\n",
    "        user_strat[1].append(np.mean(v[1], axis=0))"
   ]
  },
  {
   "cell_type": "code",
   "execution_count": null,
   "id": "1d4d469f",
   "metadata": {},
   "outputs": [
    {
     "name": "stdout",
     "output_type": "stream",
     "text": [
      "[0.12677151 0.11697769 0.16980086 0.12518489 0.09913733 0.13606339\n",
      " 0.10633168 0.11973265]\n",
      "[0.14566841 0.11490491 0.13483612 0.12687582 0.10511835 0.11471075\n",
      " 0.14982386 0.10806179]\n",
      "[0.12547498 0.10136525 0.12200688 0.13564198 0.12121297 0.17086338\n",
      " 0.11223759 0.11119698]\n"
     ]
    }
   ],
   "source": [
    "print(np.mean(user_strat[0], axis=0))\n",
    "print(np.mean(user_strat[1], axis=0))\n",
    "print(np.mean(user_strat[2], axis=0))"
   ]
  },
  {
   "cell_type": "code",
   "execution_count": null,
   "id": "091bf24d",
   "metadata": {},
   "outputs": [
    {
     "name": "stdout",
     "output_type": "stream",
     "text": [
      "77 150 141\n"
     ]
    }
   ],
   "source": [
    "strat_0 = []\n",
    "strat_1 = []\n",
    "strat_2 = []\n",
    "for i in range(len(labels_tr)):\n",
    "    for j, item in enumerate(labels_tr[i]):\n",
    "        if item == 0:\n",
    "            strat_0.append(strat_tr[i][j])\n",
    "        elif item == 1:\n",
    "            strat_1.append(strat_tr[i][j])\n",
    "        elif item == 2:\n",
    "            strat_2.append(strat_tr[i][j])\n",
    "\n",
    "print(len(strat_0), len(strat_1), len(strat_2))"
   ]
  },
  {
   "cell_type": "code",
   "execution_count": null,
   "id": "d2b25bc5",
   "metadata": {},
   "outputs": [],
   "source": [
    "#scale = np.array([1e-1, 1, 1e2, 1e2, 1e2, 1e2, 1e2, 1e2])\n",
    "scale = np.array([0.4, 5e0, 5e0, 1e1, 1e1, 1e1, 1e1, 1e1])\n",
    "scale1 = np.array([1.5, 2.5, 1.5, 1.5, 2.5, 1.5, 1.5, 1.5])"
   ]
  },
  {
   "cell_type": "code",
   "execution_count": null,
   "id": "a751924d",
   "metadata": {},
   "outputs": [
    {
     "name": "stdout",
     "output_type": "stream",
     "text": [
      "[0.12882457 0.10887161 0.19268564 0.11576389 0.10115023 0.12657945\n",
      " 0.1013096  0.12481501] [0.14318181 0.10525518 0.13969871 0.13371258 0.10855815 0.11665981\n",
      " 0.13547747 0.11745629] [0.13100814 0.0964545  0.14213638 0.12795892 0.1187837  0.1704576\n",
      " 0.09498744 0.11821333]\n"
     ]
    }
   ],
   "source": [
    "ms_0 = (np.mean(np.array(strat_0), 0)) \n",
    "ms_1 = (np.mean(np.array(strat_1), 0)) \n",
    "ms_2 = (np.mean(np.array(strat_2), 0)) \n",
    "print(ms_0, ms_1, ms_2)"
   ]
  },
  {
   "cell_type": "code",
   "execution_count": null,
   "id": "de8a2d03",
   "metadata": {},
   "outputs": [
    {
     "data": {
      "image/png": "[encoded data removed]",
      "text/plain": [
       "<Figure size 400x400 with 2 Axes>"
      ]
     },
     "metadata": {},
     "output_type": "display_data"
    }
   ],
   "source": [
    "import seaborn as sns\n",
    "data_2d = np.vstack([ms_0, ms_1, ms_2])\n",
    "\n",
    "\n",
    "plt.figure(figsize=(4, 4))  # Adjust the size as needed\n",
    "sns.heatmap(data_2d, cmap=\"crest\", vmin=0.1, vmax=0.15, yticklabels=[\"Attackers\", \"Bystanders\", \"Supporters\"])  # Choose a colormap that fits your data\n",
    "# viridis, , annot=True\n",
    "# Optional: Add labels, title, etc.\n",
    "plt.title(\"Distribution of Users' Strategies within Different Groups\", size=10)\n",
    "plt.xlabel(\"Strategies\", size=10)#\n",
    "#plt.ylabel(\"Row\")\n",
    "plt.tick_params(axis='y', labelsize=12)\n",
    "\n",
    "# Display the heatmap\n",
    "plt.tight_layout()\n",
    "\n",
    "# Display the heatmap\n",
    "plt.savefig('../result/heatmap_muyixiao.png', bbox_inches='tight')\n",
    "plt.show()"
   ]
  },
  {
   "cell_type": "markdown",
   "id": "d5987bb8",
   "metadata": {},
   "source": [
    "## draw tree"
   ]
  },
  {
   "cell_type": "code",
   "execution_count": null,
   "id": "3d97d485",
   "metadata": {},
   "outputs": [],
   "source": [
    "max_level = []\n",
    "max_width = []\n",
    "for item in global_input[99:]:\n",
    "    m_level = 0\n",
    "    m_width = 0\n",
    "    for x in item:\n",
    "        level = max(y[0] for y in x)\n",
    "        width = max(y[2] for y in x)\n",
    "        if level > m_level:\n",
    "            m_level = level\n",
    "        if width > m_width:\n",
    "            m_width = width\n",
    "    max_level.append(m_level)\n",
    "    max_width.append(m_width)\n",
    "        "
   ]
  },
  {
   "cell_type": "code",
   "execution_count": null,
   "id": "2138f185",
   "metadata": {},
   "outputs": [],
   "source": [
    "labels = []\n",
    "for item in pred_test:\n",
    "    labels.extend(item)"
   ]
  },
  {
   "cell_type": "code",
   "execution_count": null,
   "id": "e5afbe78",
   "metadata": {},
   "outputs": [],
   "source": [
    "frac = []\n",
    "for item in labels:\n",
    "    l0 = sum(x==0 for x in item) / len(item)\n",
    "    l1 = sum(x==1 for x in item) / len(item)\n",
    "    l2 = sum(x==2 for x in item) / len(item)\n",
    "    frac.append([l0, l1, l2])\n",
    "\n",
    "# for item in pred_te:\n",
    "#     l0 = sum(x==0 for x in item) / len(item)\n",
    "#     l1 = sum(x==1 for x in item) / len(item)\n",
    "#     l2 = sum(x==2 for x in item) / len(item)\n",
    "#     frac.append([l0, l1, l2])"
   ]
  },
  {
   "cell_type": "code",
   "execution_count": null,
   "id": "5929bf33",
   "metadata": {},
   "outputs": [],
   "source": [
    "level_tox_sort = {1: 0.071428, 2: 0.0667, 3: 0.045, 6: 0.1818, 7: 0.0325, 24: 0.2780}"
   ]
  },
  {
   "cell_type": "code",
   "execution_count": null,
   "id": "b7412247",
   "metadata": {},
   "outputs": [],
   "source": [
    "import collections\n",
    "frac0 = [item[1] for item in frac]\n",
    "level_tox = {}\n",
    "for i, k in enumerate(max_level):\n",
    "    if k not in level_tox.keys():\n",
    "        level_tox[k] = [frac0[i]]\n",
    "    else:\n",
    "        level_tox[k].append(frac0[i])\n",
    "level_tox_sort = collections.OrderedDict(sorted(level_tox.items()))\n",
    "\n",
    "scale = [0.025, 0.025, 0.025, 0.025, 0.025, 0.025, 0.025, 0.025, \n",
    "         0.025, 0.025, 0.025, 0.025, 0.025, 0.025, 0.025, 0.025, 0.025]\n",
    "x = list(level_tox_sort.keys()) \n",
    "y = [np.mean(list(level_tox_sort.values())[i]) for i in range(len(level_tox))]\n"
   ]
  },
  {
   "cell_type": "code",
   "execution_count": null,
   "id": "177f6438",
   "metadata": {},
   "outputs": [
    {
     "data": {
      "image/png": "[encoded data removed]",
      "text/plain": [
       "<Figure size 640x480 with 1 Axes>"
      ]
     },
     "metadata": {},
     "output_type": "display_data"
    }
   ],
   "source": [
    "plt.scatter(x, y, s=150)\n",
    "#plt.title(\"Relations Between Depth of Conversations and the Fraction of Attackers\", size=20)\n",
    "plt.xlabel(\"Depth of Conversations\", size=15)#\n",
    "plt.ylabel(\"Attacker Ratio\", size=15)\n",
    "plt.tick_params(axis='x', labelsize=15)\n",
    "plt.tick_params(axis='y', labelsize=15)\n",
    "\n",
    "# Display the heatmap\n",
    "plt.tight_layout()\n",
    "\n",
    "# Display the heatmap\n",
    "plt.savefig(f'../result/depth_{journalist}.png', bbox_inches='tight')\n",
    "plt.show()"
   ]
  },
  {
   "cell_type": "code",
   "execution_count": null,
   "id": "54b43039",
   "metadata": {},
   "outputs": [],
   "source": [
    "def map_id(pair):\n",
    "    map_pair = {}\n",
    "    i = 0\n",
    "    for item in pair:\n",
    "        if item[0] not in map_pair.keys():\n",
    "            map_pair[item[0]] = i\n",
    "            i += 1\n",
    "        if item[1] not in map_pair.keys():\n",
    "            map_pair[item[1]] = i\n",
    "            i += 1\n",
    "    mapped_pair = [[map_pair[item[0]], map_pair[item[1]]] for item in pair]\n",
    "    return mapped_pair, map_pair"
   ]
  },
  {
   "cell_type": "code",
   "execution_count": null,
   "id": "d2eb25aa",
   "metadata": {},
   "outputs": [],
   "source": [
    "labels = [-1, 2, 2, 1, 2, 2, 0, 1, 1, 1, -1, 0, 0, 2, 1, 1, 2, 0, 2, 0, 1, 1]\n",
    "map_color = {0:'red', 1: 'green', 2: 'blue', -1: 'grey'}\n",
    "mapped_color = [map_color[item] for item in labels]\n",
    "pair = id_pair[1019]\n",
    "\n",
    "node_pairs, map_pair = map_id(id_pair[1019])\n",
    "node_list = [map_pair[item] for item in id_data[19]]"
   ]
  },
  {
   "cell_type": "code",
   "execution_count": null,
   "id": "adcba288",
   "metadata": {},
   "outputs": [
    {
     "name": "stdout",
     "output_type": "stream",
     "text": [
      "{0, 10}\n"
     ]
    }
   ],
   "source": [
    "missed = []\n",
    "for item in node_pairs:\n",
    "    if item[0] not in node_list:\n",
    "        missed.append(item[0])\n",
    "    if item[1] not in node_list:\n",
    "        missed.append(item[1])\n",
    "print(set(missed))"
   ]
  },
  {
   "cell_type": "code",
   "execution_count": null,
   "id": "6fec5764",
   "metadata": {},
   "outputs": [
    {
     "data": {
      "application/vnd.plotly.v1+json": {
       "config": {
        "plotlyServerURL": "https://plot.ly"
       },
       "data": [
        {
         "line": {
          "color": "grey",
          "width": 2
         },
         "mode": "lines",
         "type": "scatter",
         "x": [
          0,
          -2.5,
          null,
          -2.5,
          -3,
          null,
          -2.5,
          -2,
          null,
          -3,
          -3,
          null,
          -3,
          -3.5,
          null,
          -3.5,
          -3.5,
          null,
          -3,
          -2.5,
          null,
          0,
          -1.5,
          null,
          -3,
          -3.5,
          null,
          0,
          -0.5,
          null,
          -0.5,
          -1,
          null,
          -0.5,
          0,
          null,
          -3.5,
          -3.5,
          null,
          0,
          0.5,
          null,
          -3,
          -4,
          null,
          -3,
          -2.5,
          null,
          0.5,
          0.5,
          null,
          0.5,
          0.5,
          null,
          0.5,
          0.5,
          null,
          0,
          1.5,
          null,
          0,
          2.5,
          null
         ],
         "y": [
          0,
          -1,
          null,
          -1,
          -2,
          null,
          -1,
          -2,
          null,
          -2,
          -3,
          null,
          -3,
          -4,
          null,
          -4,
          -5,
          null,
          -3,
          -4,
          null,
          0,
          -1,
          null,
          -2,
          -3,
          null,
          0,
          -1,
          null,
          -1,
          -2,
          null,
          -1,
          -2,
          null,
          -5,
          -6,
          null,
          0,
          -1,
          null,
          -2,
          -3,
          null,
          -2,
          -3,
          null,
          -1,
          -2,
          null,
          -2,
          -3,
          null,
          -3,
          -4,
          null,
          0,
          -1,
          null,
          0,
          -1,
          null
         ]
        },
        {
         "marker": {
          "color": [
           "grey",
           "blue",
           "blue",
           "green",
           "blue",
           "blue",
           "red",
           "green",
           "green",
           "green",
           "grey",
           "red",
           "red",
           "blue",
           "green",
           "green",
           "blue",
           "red",
           "blue",
           "red",
           "green",
           "green"
          ],
          "line": {
           "color": "DarkSlateGrey",
           "width": 2
          },
          "size": 10
         },
         "mode": "markers",
         "text": [
          "0",
          "1",
          "2",
          "3",
          "4",
          "5",
          "6",
          "7",
          "8",
          "9",
          "10",
          "11",
          "12",
          "13",
          "14",
          "15",
          "16",
          "17",
          "18",
          "19",
          "20",
          "21"
         ],
         "textposition": "bottom center",
         "type": "scatter",
         "x": [
          0,
          -2.5,
          -3,
          -2,
          -3,
          -3.5,
          -3.5,
          -2.5,
          -1.5,
          -3.5,
          -0.5,
          -1,
          0,
          -3.5,
          0.5,
          -4,
          -2.5,
          0.5,
          0.5,
          0.5,
          1.5,
          2.5
         ],
         "y": [
          0,
          -1,
          -2,
          -2,
          -3,
          -4,
          -5,
          -4,
          -1,
          -3,
          -1,
          -2,
          -2,
          -6,
          -1,
          -3,
          -3,
          -2,
          -3,
          -4,
          -1,
          -1
         ]
        }
       ],
       "layout": {
        "template": {
         "data": {
          "bar": [
           {
            "error_x": {
             "color": "#2a3f5f"
            },
            "error_y": {
             "color": "#2a3f5f"
            },
            "marker": {
             "line": {
              "color": "white",
              "width": 0.5
             },
             "pattern": {
              "fillmode": "overlay",
              "size": 10,
              "solidity": 0.2
             }
            },
            "type": "bar"
           }
          ],
          "barpolar": [
           {
            "marker": {
             "line": {
              "color": "white",
              "width": 0.5
             },
             "pattern": {
              "fillmode": "overlay",
              "size": 10,
              "solidity": 0.2
             }
            },
            "type": "barpolar"
           }
          ],
          "carpet": [
           {
            "aaxis": {
             "endlinecolor": "#2a3f5f",
             "gridcolor": "#C8D4E3",
             "linecolor": "#C8D4E3",
             "minorgridcolor": "#C8D4E3",
             "startlinecolor": "#2a3f5f"
            },
            "baxis": {
             "endlinecolor": "#2a3f5f",
             "gridcolor": "#C8D4E3",
             "linecolor": "#C8D4E3",
             "minorgridcolor": "#C8D4E3",
             "startlinecolor": "#2a3f5f"
            },
            "type": "carpet"
           }
          ],
          "choropleth": [
           {
            "colorbar": {
             "outlinewidth": 0,
             "ticks": ""
            },
            "type": "choropleth"
           }
          ],
          "contour": [
           {
            "colorbar": {
             "outlinewidth": 0,
             "ticks": ""
            },
            "colorscale": [
             [
              0,
              "#0d0887"
             ],
             [
              0.1111111111111111,
              "#46039f"
             ],
             [
              0.2222222222222222,
              "#7201a8"
             ],
             [
              0.3333333333333333,
              "#9c179e"
             ],
             [
              0.4444444444444444,
              "#bd3786"
             ],
             [
              0.5555555555555556,
              "#d8576b"
             ],
             [
              0.6666666666666666,
              "#ed7953"
             ],
             [
              0.7777777777777778,
              "#fb9f3a"
             ],
             [
              0.8888888888888888,
              "#fdca26"
             ],
             [
              1,
              "#f0f921"
             ]
            ],
            "type": "contour"
           }
          ],
          "contourcarpet": [
           {
            "colorbar": {
             "outlinewidth": 0,
             "ticks": ""
            },
            "type": "contourcarpet"
           }
          ],
          "heatmap": [
           {
            "colorbar": {
             "outlinewidth": 0,
             "ticks": ""
            },
            "colorscale": [
             [
              0,
              "#0d0887"
             ],
             [
              0.1111111111111111,
              "#46039f"
             ],
             [
              0.2222222222222222,
              "#7201a8"
             ],
             [
              0.3333333333333333,
              "#9c179e"
             ],
             [
              0.4444444444444444,
              "#bd3786"
             ],
             [
              0.5555555555555556,
              "#d8576b"
             ],
             [
              0.6666666666666666,
              "#ed7953"
             ],
             [
              0.7777777777777778,
              "#fb9f3a"
             ],
             [
              0.8888888888888888,
              "#fdca26"
             ],
             [
              1,
              "#f0f921"
             ]
            ],
            "type": "heatmap"
           }
          ],
          "heatmapgl": [
           {
            "colorbar": {
             "outlinewidth": 0,
             "ticks": ""
            },
            "colorscale": [
             [
              0,
              "#0d0887"
             ],
             [
              0.1111111111111111,
              "#46039f"
             ],
             [
              0.2222222222222222,
              "#7201a8"
             ],
             [
              0.3333333333333333,
              "#9c179e"
             ],
             [
              0.4444444444444444,
              "#bd3786"
             ],
             [
              0.5555555555555556,
              "#d8576b"
             ],
             [
              0.6666666666666666,
              "#ed7953"
             ],
             [
              0.7777777777777778,
              "#fb9f3a"
             ],
             [
              0.8888888888888888,
              "#fdca26"
             ],
             [
              1,
              "#f0f921"
             ]
            ],
            "type": "heatmapgl"
           }
          ],
          "histogram": [
           {
            "marker": {
             "pattern": {
              "fillmode": "overlay",
              "size": 10,
              "solidity": 0.2
             }
            },
            "type": "histogram"
           }
          ],
          "histogram2d": [
           {
            "colorbar": {
             "outlinewidth": 0,
             "ticks": ""
            },
            "colorscale": [
             [
              0,
              "#0d0887"
             ],
             [
              0.1111111111111111,
              "#46039f"
             ],
             [
              0.2222222222222222,
              "#7201a8"
             ],
             [
              0.3333333333333333,
              "#9c179e"
             ],
             [
              0.4444444444444444,
              "#bd3786"
             ],
             [
              0.5555555555555556,
              "#d8576b"
             ],
             [
              0.6666666666666666,
              "#ed7953"
             ],
             [
              0.7777777777777778,
              "#fb9f3a"
             ],
             [
              0.8888888888888888,
              "#fdca26"
             ],
             [
              1,
              "#f0f921"
             ]
            ],
            "type": "histogram2d"
           }
          ],
          "histogram2dcontour": [
           {
            "colorbar": {
             "outlinewidth": 0,
             "ticks": ""
            },
            "colorscale": [
             [
              0,
              "#0d0887"
             ],
             [
              0.1111111111111111,
              "#46039f"
             ],
             [
              0.2222222222222222,
              "#7201a8"
             ],
             [
              0.3333333333333333,
              "#9c179e"
             ],
             [
              0.4444444444444444,
              "#bd3786"
             ],
             [
              0.5555555555555556,
              "#d8576b"
             ],
             [
              0.6666666666666666,
              "#ed7953"
             ],
             [
              0.7777777777777778,
              "#fb9f3a"
             ],
             [
              0.8888888888888888,
              "#fdca26"
             ],
             [
              1,
              "#f0f921"
             ]
            ],
            "type": "histogram2dcontour"
           }
          ],
          "mesh3d": [
           {
            "colorbar": {
             "outlinewidth": 0,
             "ticks": ""
            },
            "type": "mesh3d"
           }
          ],
          "parcoords": [
           {
            "line": {
             "colorbar": {
              "outlinewidth": 0,
              "ticks": ""
             }
            },
            "type": "parcoords"
           }
          ],
          "pie": [
           {
            "automargin": true,
            "type": "pie"
           }
          ],
          "scatter": [
           {
            "fillpattern": {
             "fillmode": "overlay",
             "size": 10,
             "solidity": 0.2
            },
            "type": "scatter"
           }
          ],
          "scatter3d": [
           {
            "line": {
             "colorbar": {
              "outlinewidth": 0,
              "ticks": ""
             }
            },
            "marker": {
             "colorbar": {
              "outlinewidth": 0,
              "ticks": ""
             }
            },
            "type": "scatter3d"
           }
          ],
          "scattercarpet": [
           {
            "marker": {
             "colorbar": {
              "outlinewidth": 0,
              "ticks": ""
             }
            },
            "type": "scattercarpet"
           }
          ],
          "scattergeo": [
           {
            "marker": {
             "colorbar": {
              "outlinewidth": 0,
              "ticks": ""
             }
            },
            "type": "scattergeo"
           }
          ],
          "scattergl": [
           {
            "marker": {
             "colorbar": {
              "outlinewidth": 0,
              "ticks": ""
             }
            },
            "type": "scattergl"
           }
          ],
          "scattermapbox": [
           {
            "marker": {
             "colorbar": {
              "outlinewidth": 0,
              "ticks": ""
             }
            },
            "type": "scattermapbox"
           }
          ],
          "scatterpolar": [
           {
            "marker": {
             "colorbar": {
              "outlinewidth": 0,
              "ticks": ""
             }
            },
            "type": "scatterpolar"
           }
          ],
          "scatterpolargl": [
           {
            "marker": {
             "colorbar": {
              "outlinewidth": 0,
              "ticks": ""
             }
            },
            "type": "scatterpolargl"
           }
          ],
          "scatterternary": [
           {
            "marker": {
             "colorbar": {
              "outlinewidth": 0,
              "ticks": ""
             }
            },
            "type": "scatterternary"
           }
          ],
          "surface": [
           {
            "colorbar": {
             "outlinewidth": 0,
             "ticks": ""
            },
            "colorscale": [
             [
              0,
              "#0d0887"
             ],
             [
              0.1111111111111111,
              "#46039f"
             ],
             [
              0.2222222222222222,
              "#7201a8"
             ],
             [
              0.3333333333333333,
              "#9c179e"
             ],
             [
              0.4444444444444444,
              "#bd3786"
             ],
             [
              0.5555555555555556,
              "#d8576b"
             ],
             [
              0.6666666666666666,
              "#ed7953"
             ],
             [
              0.7777777777777778,
              "#fb9f3a"
             ],
             [
              0.8888888888888888,
              "#fdca26"
             ],
             [
              1,
              "#f0f921"
             ]
            ],
            "type": "surface"
           }
          ],
          "table": [
           {
            "cells": {
             "fill": {
              "color": "#EBF0F8"
             },
             "line": {
              "color": "white"
             }
            },
            "header": {
             "fill": {
              "color": "#C8D4E3"
             },
             "line": {
              "color": "white"
             }
            },
            "type": "table"
           }
          ]
         },
         "layout": {
          "annotationdefaults": {
           "arrowcolor": "#2a3f5f",
           "arrowhead": 0,
           "arrowwidth": 1
          },
          "autotypenumbers": "strict",
          "coloraxis": {
           "colorbar": {
            "outlinewidth": 0,
            "ticks": ""
           }
          },
          "colorscale": {
           "diverging": [
            [
             0,
             "#8e0152"
            ],
            [
             0.1,
             "#c51b7d"
            ],
            [
             0.2,
             "#de77ae"
            ],
            [
             0.3,
             "#f1b6da"
            ],
            [
             0.4,
             "#fde0ef"
            ],
            [
             0.5,
             "#f7f7f7"
            ],
            [
             0.6,
             "#e6f5d0"
            ],
            [
             0.7,
             "#b8e186"
            ],
            [
             0.8,
             "#7fbc41"
            ],
            [
             0.9,
             "#4d9221"
            ],
            [
             1,
             "#276419"
            ]
           ],
           "sequential": [
            [
             0,
             "#0d0887"
            ],
            [
             0.1111111111111111,
             "#46039f"
            ],
            [
             0.2222222222222222,
             "#7201a8"
            ],
            [
             0.3333333333333333,
             "#9c179e"
            ],
            [
             0.4444444444444444,
             "#bd3786"
            ],
            [
             0.5555555555555556,
             "#d8576b"
            ],
            [
             0.6666666666666666,
             "#ed7953"
            ],
            [
             0.7777777777777778,
             "#fb9f3a"
            ],
            [
             0.8888888888888888,
             "#fdca26"
            ],
            [
             1,
             "#f0f921"
            ]
           ],
           "sequentialminus": [
            [
             0,
             "#0d0887"
            ],
            [
             0.1111111111111111,
             "#46039f"
            ],
            [
             0.2222222222222222,
             "#7201a8"
            ],
            [
             0.3333333333333333,
             "#9c179e"
            ],
            [
             0.4444444444444444,
             "#bd3786"
            ],
            [
             0.5555555555555556,
             "#d8576b"
            ],
            [
             0.6666666666666666,
             "#ed7953"
            ],
            [
             0.7777777777777778,
             "#fb9f3a"
            ],
            [
             0.8888888888888888,
             "#fdca26"
            ],
            [
             1,
             "#f0f921"
            ]
           ]
          },
          "colorway": [
           "#636efa",
           "#EF553B",
           "#00cc96",
           "#ab63fa",
           "#FFA15A",
           "#19d3f3",
           "#FF6692",
           "#B6E880",
           "#FF97FF",
           "#FECB52"
          ],
          "font": {
           "color": "#2a3f5f"
          },
          "geo": {
           "bgcolor": "white",
           "lakecolor": "white",
           "landcolor": "white",
           "showlakes": true,
           "showland": true,
           "subunitcolor": "#C8D4E3"
          },
          "hoverlabel": {
           "align": "left"
          },
          "hovermode": "closest",
          "mapbox": {
           "style": "light"
          },
          "paper_bgcolor": "white",
          "plot_bgcolor": "white",
          "polar": {
           "angularaxis": {
            "gridcolor": "#EBF0F8",
            "linecolor": "#EBF0F8",
            "ticks": ""
           },
           "bgcolor": "white",
           "radialaxis": {
            "gridcolor": "#EBF0F8",
            "linecolor": "#EBF0F8",
            "ticks": ""
           }
          },
          "scene": {
           "xaxis": {
            "backgroundcolor": "white",
            "gridcolor": "#DFE8F3",
            "gridwidth": 2,
            "linecolor": "#EBF0F8",
            "showbackground": true,
            "ticks": "",
            "zerolinecolor": "#EBF0F8"
           },
           "yaxis": {
            "backgroundcolor": "white",
            "gridcolor": "#DFE8F3",
            "gridwidth": 2,
            "linecolor": "#EBF0F8",
            "showbackground": true,
            "ticks": "",
            "zerolinecolor": "#EBF0F8"
           },
           "zaxis": {
            "backgroundcolor": "white",
            "gridcolor": "#DFE8F3",
            "gridwidth": 2,
            "linecolor": "#EBF0F8",
            "showbackground": true,
            "ticks": "",
            "zerolinecolor": "#EBF0F8"
           }
          },
          "shapedefaults": {
           "line": {
            "color": "#2a3f5f"
           }
          },
          "ternary": {
           "aaxis": {
            "gridcolor": "#DFE8F3",
            "linecolor": "#A2B1C6",
            "ticks": ""
           },
           "baxis": {
            "gridcolor": "#DFE8F3",
            "linecolor": "#A2B1C6",
            "ticks": ""
           },
           "bgcolor": "white",
           "caxis": {
            "gridcolor": "#DFE8F3",
            "linecolor": "#A2B1C6",
            "ticks": ""
           }
          },
          "title": {
           "x": 0.05
          },
          "xaxis": {
           "automargin": true,
           "gridcolor": "#EBF0F8",
           "linecolor": "#EBF0F8",
           "ticks": "",
           "title": {
            "standoff": 15
           },
           "zerolinecolor": "#EBF0F8",
           "zerolinewidth": 2
          },
          "yaxis": {
           "automargin": true,
           "gridcolor": "#EBF0F8",
           "linecolor": "#EBF0F8",
           "ticks": "",
           "title": {
            "standoff": 15
           },
           "zerolinecolor": "#EBF0F8",
           "zerolinewidth": 2
          }
         }
        },
        "xaxis": {
         "showgrid": false,
         "showticklabels": false,
         "zeroline": false
        },
        "yaxis": {
         "showgrid": false,
         "showticklabels": false,
         "zeroline": false
        }
       }
      },
      "text/html": [
       "<div>                            <div id=\"8d0a5750-abff-44ca-bdaa-5c84f852a7fe\" class=\"plotly-graph-div\" style=\"height:525px; width:100%;\"></div>            <script type=\"text/javascript\">                require([\"plotly\"], function(Plotly) {                    window.PLOTLYENV=window.PLOTLYENV || {};                                    if (document.getElementById(\"8d0a5750-abff-44ca-bdaa-5c84f852a7fe\")) {                    Plotly.newPlot(                        \"8d0a5750-abff-44ca-bdaa-5c84f852a7fe\",                        [{\"line\":{\"color\":\"grey\",\"width\":2},\"mode\":\"lines\",\"x\":[0,-2.5,null,-2.5,-3,null,-2.5,-2,null,-3,-3,null,-3,-3.5,null,-3.5,-3.5,null,-3,-2.5,null,0,-1.5,null,-3,-3.5,null,0,-0.5,null,-0.5,-1,null,-0.5,0,null,-3.5,-3.5,null,0,0.5,null,-3,-4,null,-3,-2.5,null,0.5,0.5,null,0.5,0.5,null,0.5,0.5,null,0,1.5,null,0,2.5,null],\"y\":[0,-1,null,-1,-2,null,-1,-2,null,-2,-3,null,-3,-4,null,-4,-5,null,-3,-4,null,0,-1,null,-2,-3,null,0,-1,null,-1,-2,null,-1,-2,null,-5,-6,null,0,-1,null,-2,-3,null,-2,-3,null,-1,-2,null,-2,-3,null,-3,-4,null,0,-1,null,0,-1,null],\"type\":\"scatter\"},{\"marker\":{\"color\":[\"grey\",\"blue\",\"blue\",\"green\",\"blue\",\"blue\",\"red\",\"green\",\"green\",\"green\",\"grey\",\"red\",\"red\",\"blue\",\"green\",\"green\",\"blue\",\"red\",\"blue\",\"red\",\"green\",\"green\"],\"line\":{\"color\":\"DarkSlateGrey\",\"width\":2},\"size\":10},\"mode\":\"markers\",\"text\":[\"0\",\"1\",\"2\",\"3\",\"4\",\"5\",\"6\",\"7\",\"8\",\"9\",\"10\",\"11\",\"12\",\"13\",\"14\",\"15\",\"16\",\"17\",\"18\",\"19\",\"20\",\"21\"],\"textposition\":\"bottom center\",\"x\":[0,-2.5,-3,-2,-3,-3.5,-3.5,-2.5,-1.5,-3.5,-0.5,-1,0,-3.5,0.5,-4,-2.5,0.5,0.5,0.5,1.5,2.5],\"y\":[0,-1,-2,-2,-3,-4,-5,-4,-1,-3,-1,-2,-2,-6,-1,-3,-3,-2,-3,-4,-1,-1],\"type\":\"scatter\"}],                        {\"template\":{\"data\":{\"barpolar\":[{\"marker\":{\"line\":{\"color\":\"white\",\"width\":0.5},\"pattern\":{\"fillmode\":\"overlay\",\"size\":10,\"solidity\":0.2}},\"type\":\"barpolar\"}],\"bar\":[{\"error_x\":{\"color\":\"#2a3f5f\"},\"error_y\":{\"color\":\"#2a3f5f\"},\"marker\":{\"line\":{\"color\":\"white\",\"width\":0.5},\"pattern\":{\"fillmode\":\"overlay\",\"size\":10,\"solidity\":0.2}},\"type\":\"bar\"}],\"carpet\":[{\"aaxis\":{\"endlinecolor\":\"#2a3f5f\",\"gridcolor\":\"#C8D4E3\",\"linecolor\":\"#C8D4E3\",\"minorgridcolor\":\"#C8D4E3\",\"startlinecolor\":\"#2a3f5f\"},\"baxis\":{\"endlinecolor\":\"#2a3f5f\",\"gridcolor\":\"#C8D4E3\",\"linecolor\":\"#C8D4E3\",\"minorgridcolor\":\"#C8D4E3\",\"startlinecolor\":\"#2a3f5f\"},\"type\":\"carpet\"}],\"choropleth\":[{\"colorbar\":{\"outlinewidth\":0,\"ticks\":\"\"},\"type\":\"choropleth\"}],\"contourcarpet\":[{\"colorbar\":{\"outlinewidth\":0,\"ticks\":\"\"},\"type\":\"contourcarpet\"}],\"contour\":[{\"colorbar\":{\"outlinewidth\":0,\"ticks\":\"\"},\"colorscale\":[[0.0,\"#0d0887\"],[0.1111111111111111,\"#46039f\"],[0.2222222222222222,\"#7201a8\"],[0.3333333333333333,\"#9c179e\"],[0.4444444444444444,\"#bd3786\"],[0.5555555555555556,\"#d8576b\"],[0.6666666666666666,\"#ed7953\"],[0.7777777777777778,\"#fb9f3a\"],[0.8888888888888888,\"#fdca26\"],[1.0,\"#f0f921\"]],\"type\":\"contour\"}],\"heatmapgl\":[{\"colorbar\":{\"outlinewidth\":0,\"ticks\":\"\"},\"colorscale\":[[0.0,\"#0d0887\"],[0.1111111111111111,\"#46039f\"],[0.2222222222222222,\"#7201a8\"],[0.3333333333333333,\"#9c179e\"],[0.4444444444444444,\"#bd3786\"],[0.5555555555555556,\"#d8576b\"],[0.6666666666666666,\"#ed7953\"],[0.7777777777777778,\"#fb9f3a\"],[0.8888888888888888,\"#fdca26\"],[1.0,\"#f0f921\"]],\"type\":\"heatmapgl\"}],\"heatmap\":[{\"colorbar\":{\"outlinewidth\":0,\"ticks\":\"\"},\"colorscale\":[[0.0,\"#0d0887\"],[0.1111111111111111,\"#46039f\"],[0.2222222222222222,\"#7201a8\"],[0.3333333333333333,\"#9c179e\"],[0.4444444444444444,\"#bd3786\"],[0.5555555555555556,\"#d8576b\"],[0.6666666666666666,\"#ed7953\"],[0.7777777777777778,\"#fb9f3a\"],[0.8888888888888888,\"#fdca26\"],[1.0,\"#f0f921\"]],\"type\":\"heatmap\"}],\"histogram2dcontour\":[{\"colorbar\":{\"outlinewidth\":0,\"ticks\":\"\"},\"colorscale\":[[0.0,\"#0d0887\"],[0.1111111111111111,\"#46039f\"],[0.2222222222222222,\"#7201a8\"],[0.3333333333333333,\"#9c179e\"],[0.4444444444444444,\"#bd3786\"],[0.5555555555555556,\"#d8576b\"],[0.6666666666666666,\"#ed7953\"],[0.7777777777777778,\"#fb9f3a\"],[0.8888888888888888,\"#fdca26\"],[1.0,\"#f0f921\"]],\"type\":\"histogram2dcontour\"}],\"histogram2d\":[{\"colorbar\":{\"outlinewidth\":0,\"ticks\":\"\"},\"colorscale\":[[0.0,\"#0d0887\"],[0.1111111111111111,\"#46039f\"],[0.2222222222222222,\"#7201a8\"],[0.3333333333333333,\"#9c179e\"],[0.4444444444444444,\"#bd3786\"],[0.5555555555555556,\"#d8576b\"],[0.6666666666666666,\"#ed7953\"],[0.7777777777777778,\"#fb9f3a\"],[0.8888888888888888,\"#fdca26\"],[1.0,\"#f0f921\"]],\"type\":\"histogram2d\"}],\"histogram\":[{\"marker\":{\"pattern\":{\"fillmode\":\"overlay\",\"size\":10,\"solidity\":0.2}},\"type\":\"histogram\"}],\"mesh3d\":[{\"colorbar\":{\"outlinewidth\":0,\"ticks\":\"\"},\"type\":\"mesh3d\"}],\"parcoords\":[{\"line\":{\"colorbar\":{\"outlinewidth\":0,\"ticks\":\"\"}},\"type\":\"parcoords\"}],\"pie\":[{\"automargin\":true,\"type\":\"pie\"}],\"scatter3d\":[{\"line\":{\"colorbar\":{\"outlinewidth\":0,\"ticks\":\"\"}},\"marker\":{\"colorbar\":{\"outlinewidth\":0,\"ticks\":\"\"}},\"type\":\"scatter3d\"}],\"scattercarpet\":[{\"marker\":{\"colorbar\":{\"outlinewidth\":0,\"ticks\":\"\"}},\"type\":\"scattercarpet\"}],\"scattergeo\":[{\"marker\":{\"colorbar\":{\"outlinewidth\":0,\"ticks\":\"\"}},\"type\":\"scattergeo\"}],\"scattergl\":[{\"marker\":{\"colorbar\":{\"outlinewidth\":0,\"ticks\":\"\"}},\"type\":\"scattergl\"}],\"scattermapbox\":[{\"marker\":{\"colorbar\":{\"outlinewidth\":0,\"ticks\":\"\"}},\"type\":\"scattermapbox\"}],\"scatterpolargl\":[{\"marker\":{\"colorbar\":{\"outlinewidth\":0,\"ticks\":\"\"}},\"type\":\"scatterpolargl\"}],\"scatterpolar\":[{\"marker\":{\"colorbar\":{\"outlinewidth\":0,\"ticks\":\"\"}},\"type\":\"scatterpolar\"}],\"scatter\":[{\"fillpattern\":{\"fillmode\":\"overlay\",\"size\":10,\"solidity\":0.2},\"type\":\"scatter\"}],\"scatterternary\":[{\"marker\":{\"colorbar\":{\"outlinewidth\":0,\"ticks\":\"\"}},\"type\":\"scatterternary\"}],\"surface\":[{\"colorbar\":{\"outlinewidth\":0,\"ticks\":\"\"},\"colorscale\":[[0.0,\"#0d0887\"],[0.1111111111111111,\"#46039f\"],[0.2222222222222222,\"#7201a8\"],[0.3333333333333333,\"#9c179e\"],[0.4444444444444444,\"#bd3786\"],[0.5555555555555556,\"#d8576b\"],[0.6666666666666666,\"#ed7953\"],[0.7777777777777778,\"#fb9f3a\"],[0.8888888888888888,\"#fdca26\"],[1.0,\"#f0f921\"]],\"type\":\"surface\"}],\"table\":[{\"cells\":{\"fill\":{\"color\":\"#EBF0F8\"},\"line\":{\"color\":\"white\"}},\"header\":{\"fill\":{\"color\":\"#C8D4E3\"},\"line\":{\"color\":\"white\"}},\"type\":\"table\"}]},\"layout\":{\"annotationdefaults\":{\"arrowcolor\":\"#2a3f5f\",\"arrowhead\":0,\"arrowwidth\":1},\"autotypenumbers\":\"strict\",\"coloraxis\":{\"colorbar\":{\"outlinewidth\":0,\"ticks\":\"\"}},\"colorscale\":{\"diverging\":[[0,\"#8e0152\"],[0.1,\"#c51b7d\"],[0.2,\"#de77ae\"],[0.3,\"#f1b6da\"],[0.4,\"#fde0ef\"],[0.5,\"#f7f7f7\"],[0.6,\"#e6f5d0\"],[0.7,\"#b8e186\"],[0.8,\"#7fbc41\"],[0.9,\"#4d9221\"],[1,\"#276419\"]],\"sequential\":[[0.0,\"#0d0887\"],[0.1111111111111111,\"#46039f\"],[0.2222222222222222,\"#7201a8\"],[0.3333333333333333,\"#9c179e\"],[0.4444444444444444,\"#bd3786\"],[0.5555555555555556,\"#d8576b\"],[0.6666666666666666,\"#ed7953\"],[0.7777777777777778,\"#fb9f3a\"],[0.8888888888888888,\"#fdca26\"],[1.0,\"#f0f921\"]],\"sequentialminus\":[[0.0,\"#0d0887\"],[0.1111111111111111,\"#46039f\"],[0.2222222222222222,\"#7201a8\"],[0.3333333333333333,\"#9c179e\"],[0.4444444444444444,\"#bd3786\"],[0.5555555555555556,\"#d8576b\"],[0.6666666666666666,\"#ed7953\"],[0.7777777777777778,\"#fb9f3a\"],[0.8888888888888888,\"#fdca26\"],[1.0,\"#f0f921\"]]},\"colorway\":[\"#636efa\",\"#EF553B\",\"#00cc96\",\"#ab63fa\",\"#FFA15A\",\"#19d3f3\",\"#FF6692\",\"#B6E880\",\"#FF97FF\",\"#FECB52\"],\"font\":{\"color\":\"#2a3f5f\"},\"geo\":{\"bgcolor\":\"white\",\"lakecolor\":\"white\",\"landcolor\":\"white\",\"showlakes\":true,\"showland\":true,\"subunitcolor\":\"#C8D4E3\"},\"hoverlabel\":{\"align\":\"left\"},\"hovermode\":\"closest\",\"mapbox\":{\"style\":\"light\"},\"paper_bgcolor\":\"white\",\"plot_bgcolor\":\"white\",\"polar\":{\"angularaxis\":{\"gridcolor\":\"#EBF0F8\",\"linecolor\":\"#EBF0F8\",\"ticks\":\"\"},\"bgcolor\":\"white\",\"radialaxis\":{\"gridcolor\":\"#EBF0F8\",\"linecolor\":\"#EBF0F8\",\"ticks\":\"\"}},\"scene\":{\"xaxis\":{\"backgroundcolor\":\"white\",\"gridcolor\":\"#DFE8F3\",\"gridwidth\":2,\"linecolor\":\"#EBF0F8\",\"showbackground\":true,\"ticks\":\"\",\"zerolinecolor\":\"#EBF0F8\"},\"yaxis\":{\"backgroundcolor\":\"white\",\"gridcolor\":\"#DFE8F3\",\"gridwidth\":2,\"linecolor\":\"#EBF0F8\",\"showbackground\":true,\"ticks\":\"\",\"zerolinecolor\":\"#EBF0F8\"},\"zaxis\":{\"backgroundcolor\":\"white\",\"gridcolor\":\"#DFE8F3\",\"gridwidth\":2,\"linecolor\":\"#EBF0F8\",\"showbackground\":true,\"ticks\":\"\",\"zerolinecolor\":\"#EBF0F8\"}},\"shapedefaults\":{\"line\":{\"color\":\"#2a3f5f\"}},\"ternary\":{\"aaxis\":{\"gridcolor\":\"#DFE8F3\",\"linecolor\":\"#A2B1C6\",\"ticks\":\"\"},\"baxis\":{\"gridcolor\":\"#DFE8F3\",\"linecolor\":\"#A2B1C6\",\"ticks\":\"\"},\"bgcolor\":\"white\",\"caxis\":{\"gridcolor\":\"#DFE8F3\",\"linecolor\":\"#A2B1C6\",\"ticks\":\"\"}},\"title\":{\"x\":0.05},\"xaxis\":{\"automargin\":true,\"gridcolor\":\"#EBF0F8\",\"linecolor\":\"#EBF0F8\",\"ticks\":\"\",\"title\":{\"standoff\":15},\"zerolinecolor\":\"#EBF0F8\",\"zerolinewidth\":2},\"yaxis\":{\"automargin\":true,\"gridcolor\":\"#EBF0F8\",\"linecolor\":\"#EBF0F8\",\"ticks\":\"\",\"title\":{\"standoff\":15},\"zerolinecolor\":\"#EBF0F8\",\"zerolinewidth\":2}}},\"xaxis\":{\"showgrid\":false,\"zeroline\":false,\"showticklabels\":false},\"yaxis\":{\"showgrid\":false,\"zeroline\":false,\"showticklabels\":false}},                        {\"responsive\": true}                    ).then(function(){\n",
       "                            \n",
       "var gd = document.getElementById('8d0a5750-abff-44ca-bdaa-5c84f852a7fe');\n",
       "var x = new MutationObserver(function (mutations, observer) {{\n",
       "        var display = window.getComputedStyle(gd).display;\n",
       "        if (!display || display === 'none') {{\n",
       "            console.log([gd, 'removed!']);\n",
       "            Plotly.purge(gd);\n",
       "            observer.disconnect();\n",
       "        }}\n",
       "}});\n",
       "\n",
       "// Listen for the removal of the full notebook cells\n",
       "var notebookContainer = gd.closest('#notebook-container');\n",
       "if (notebookContainer) {{\n",
       "    x.observe(notebookContainer, {childList: true});\n",
       "}}\n",
       "\n",
       "// Listen for the clearing of the current output cell\n",
       "var outputEl = gd.closest('.output');\n",
       "if (outputEl) {{\n",
       "    x.observe(outputEl, {childList: true});\n",
       "}}\n",
       "\n",
       "                        })                };                });            </script>        </div>"
      ]
     },
     "metadata": {},
     "output_type": "display_data"
    }
   ],
   "source": [
    "import plotly.graph_objects as go\n",
    "\n",
    "# Example node pairs\n",
    "node_pairs = node_pairs\n",
    "\n",
    "# Function to calculate positions - this will vary greatly depending on your tree structure\n",
    "positions = {0: (0, 0), 1: (-2.5, -1), 2: (-3, -2), 3: (-2, -2), 4: (-3, -3), 5: (-3.5, -4), \n",
    "             6: (-3.5, -5), 7: (-2.5, -4), 8: (-1.5, -1), 9: (-3.5, -3), 10: (-0.5, -1), \n",
    "             11: (-1, -2), 12: (0, -2), 13: (-3.5, -6), 14: (0.5, -1), 15: (-4, -3), \n",
    "             16: (-2.5, -3), 17: (0.5, -2), 18: (0.5, -3), 19: (0.5, -4), 20: (1.5, -1), 21: (2.5, -1),}\n",
    "\n",
    "\n",
    "# Create edges\n",
    "edge_x = []\n",
    "edge_y = []\n",
    "for pair in node_pairs:\n",
    "    x0, y0 = positions[pair[0]]\n",
    "    x1, y1 = positions[pair[1]]\n",
    "    edge_x.extend([x0, x1, None])\n",
    "    edge_y.extend([y0, y1, None])\n",
    "\n",
    "# Create nodes\n",
    "node_x = [pos[0] for pos in positions.values()]\n",
    "node_y = [pos[1] for pos in positions.values()]\n",
    "\n",
    "# Create figure\n",
    "fig = go.Figure()\n",
    "\n",
    "# Add edges as lines\n",
    "fig.add_trace(go.Scatter(x=edge_x, y=edge_y, mode='lines', line=dict(width=2, color='grey')))\n",
    "\n",
    "# Add nodes as markers\n",
    "# mode='markers+text'\n",
    "fig.add_trace(go.Scatter(x=node_x, y=node_y, mode='markers', text=list(positions.keys()), textposition=\"bottom center\",\n",
    "                         marker=dict(size=10, color=mapped_color, line=dict(width=2, color='DarkSlateGrey'))))\n",
    "\n",
    "# Update layout\n",
    "fig.update_layout(template=\"plotly_white\", xaxis=dict(showgrid=False, zeroline=False, showticklabels=False),\n",
    "                  yaxis=dict(showgrid=False, zeroline=False, showticklabels=False))\n",
    "fig.show()\n"
   ]
  },
  {
   "cell_type": "code",
   "execution_count": null,
   "id": "93d9bdf6",
   "metadata": {},
   "outputs": [],
   "source": []
  },
  {
   "cell_type": "code",
   "execution_count": null,
   "id": "96432bb1",
   "metadata": {},
   "outputs": [],
   "source": []
  },
  {
   "cell_type": "code",
   "execution_count": null,
   "id": "23a3a584",
   "metadata": {},
   "outputs": [
    {
     "name": "stdout",
     "output_type": "stream",
     "text": [
      "9 38\n",
      "[2.0, 2.0, 2.0, 2.0, 2.0, 1.0, 0.0, 0.0, 1.0, 2.0, 1.0, 1.0, 2.0, 1.0, 0.0, 1.0, 0.0, 0.0, 0.0, 0.0]\n",
      "774\n"
     ]
    }
   ],
   "source": [
    "max_dep = 0\n",
    "max_i = 0\n",
    "for i, item in enumerate(global_input):\n",
    "    for x in item:\n",
    "        if len(x) > max_dep and i <= 99 and len(x) < 10:\n",
    "            max_dep = len(x)\n",
    "            max_i = i\n",
    "print(max_dep, max_i)\n",
    "print(label[max_i])\n",
    "print(ids[max_i])"
   ]
  },
  {
   "cell_type": "code",
   "execution_count": null,
   "id": "b3818923",
   "metadata": {},
   "outputs": [],
   "source": [
    "labels = [-1, 2.0, 2.0, 2.0, 2.0, 2.0, 1.0, 0.0, 0.0, 1.0, \n",
    "          2.0, 1.0, 1.0, 2.0, 1.0, 0.0, 1.0, 0.0, 0.0, 0.0, 0.0]\n",
    "map_color = {0:'red', 1: 'green', 2: 'blue', -1: 'grey'}\n",
    "mapped_color = [map_color[item] for item in labels]\n",
    "\n",
    "node_pairs, map_pair = map_id(id_pair[774])\n",
    "node_list = [map_pair[item] for item in id_data[38]]"
   ]
  },
  {
   "cell_type": "code",
   "execution_count": null,
   "id": "2a13d981",
   "metadata": {},
   "outputs": [
    {
     "name": "stdout",
     "output_type": "stream",
     "text": [
      "{0}\n"
     ]
    }
   ],
   "source": [
    "missed = []\n",
    "for item in node_pairs:\n",
    "    if item[0] not in node_list:\n",
    "        missed.append(item[0])\n",
    "    if item[1] not in node_list:\n",
    "        missed.append(item[1])\n",
    "print(set(missed))"
   ]
  },
  {
   "cell_type": "code",
   "execution_count": null,
   "id": "95e55790",
   "metadata": {},
   "outputs": [
    {
     "data": {
      "application/vnd.plotly.v1+json": {
       "config": {
        "plotlyServerURL": "https://plot.ly"
       },
       "data": [
        {
         "line": {
          "color": "grey",
          "width": 2
         },
         "mode": "lines",
         "type": "scatter",
         "x": [
          0,
          0,
          null,
          0,
          0,
          null,
          0,
          0,
          null,
          0,
          0,
          null,
          0,
          -0.5,
          null,
          0,
          0.5,
          null,
          -0.5,
          -1,
          null,
          -1,
          -1,
          null,
          -0.5,
          0,
          null,
          -1,
          -1,
          null,
          0,
          -2,
          null,
          0,
          -1.5,
          null,
          0,
          -1,
          null,
          0,
          -0.5,
          null,
          0,
          0.5,
          null,
          0,
          1,
          null,
          0,
          1.5,
          null,
          0,
          0.5,
          null,
          0,
          2,
          null,
          0,
          2.5,
          null
         ],
         "y": [
          0,
          -1,
          null,
          -1,
          -2,
          null,
          -2,
          -3,
          null,
          -3,
          -4,
          null,
          -4,
          -5,
          null,
          0,
          -1,
          null,
          -5,
          -6,
          null,
          -6,
          -7,
          null,
          -5,
          -6,
          null,
          -7,
          -8,
          null,
          0,
          -1,
          null,
          0,
          -1,
          null,
          0,
          -1,
          null,
          0,
          -1,
          null,
          0,
          -1,
          null,
          0,
          -1,
          null,
          0,
          -1,
          null,
          -4,
          -5,
          null,
          0,
          -1,
          null,
          0,
          -1,
          null
         ]
        },
        {
         "marker": {
          "color": [
           "grey",
           "blue",
           "blue",
           "blue",
           "blue",
           "blue",
           "green",
           "red",
           "red",
           "green",
           "blue",
           "green",
           "green",
           "blue",
           "green",
           "red",
           "green",
           "red",
           "red",
           "red",
           "red"
          ],
          "line": {
           "color": "DarkSlateGrey",
           "width": 2
          },
          "size": 10
         },
         "mode": "markers",
         "text": [
          "0",
          "1",
          "2",
          "3",
          "4",
          "5",
          "6",
          "7",
          "8",
          "9",
          "10",
          "11",
          "12",
          "13",
          "14",
          "15",
          "16",
          "17",
          "18",
          "19",
          "20"
         ],
         "textposition": "bottom center",
         "type": "scatter",
         "x": [
          0,
          0,
          0,
          0,
          0,
          -0.5,
          0.5,
          -1,
          -1,
          0,
          -1,
          -2,
          -1.5,
          -1,
          -0.5,
          0.5,
          1,
          1.5,
          0.5,
          2,
          2.5
         ],
         "y": [
          0,
          -1,
          -2,
          -3,
          -4,
          -5,
          -1,
          -6,
          -7,
          -6,
          -8,
          -1,
          -1,
          -1,
          -1,
          -1,
          -1,
          -1,
          -5,
          -1,
          -1
         ]
        }
       ],
       "layout": {
        "template": {
         "data": {
          "bar": [
           {
            "error_x": {
             "color": "#2a3f5f"
            },
            "error_y": {
             "color": "#2a3f5f"
            },
            "marker": {
             "line": {
              "color": "white",
              "width": 0.5
             },
             "pattern": {
              "fillmode": "overlay",
              "size": 10,
              "solidity": 0.2
             }
            },
            "type": "bar"
           }
          ],
          "barpolar": [
           {
            "marker": {
             "line": {
              "color": "white",
              "width": 0.5
             },
             "pattern": {
              "fillmode": "overlay",
              "size": 10,
              "solidity": 0.2
             }
            },
            "type": "barpolar"
           }
          ],
          "carpet": [
           {
            "aaxis": {
             "endlinecolor": "#2a3f5f",
             "gridcolor": "#C8D4E3",
             "linecolor": "#C8D4E3",
             "minorgridcolor": "#C8D4E3",
             "startlinecolor": "#2a3f5f"
            },
            "baxis": {
             "endlinecolor": "#2a3f5f",
             "gridcolor": "#C8D4E3",
             "linecolor": "#C8D4E3",
             "minorgridcolor": "#C8D4E3",
             "startlinecolor": "#2a3f5f"
            },
            "type": "carpet"
           }
          ],
          "choropleth": [
           {
            "colorbar": {
             "outlinewidth": 0,
             "ticks": ""
            },
            "type": "choropleth"
           }
          ],
          "contour": [
           {
            "colorbar": {
             "outlinewidth": 0,
             "ticks": ""
            },
            "colorscale": [
             [
              0,
              "#0d0887"
             ],
             [
              0.1111111111111111,
              "#46039f"
             ],
             [
              0.2222222222222222,
              "#7201a8"
             ],
             [
              0.3333333333333333,
              "#9c179e"
             ],
             [
              0.4444444444444444,
              "#bd3786"
             ],
             [
              0.5555555555555556,
              "#d8576b"
             ],
             [
              0.6666666666666666,
              "#ed7953"
             ],
             [
              0.7777777777777778,
              "#fb9f3a"
             ],
             [
              0.8888888888888888,
              "#fdca26"
             ],
             [
              1,
              "#f0f921"
             ]
            ],
            "type": "contour"
           }
          ],
          "contourcarpet": [
           {
            "colorbar": {
             "outlinewidth": 0,
             "ticks": ""
            },
            "type": "contourcarpet"
           }
          ],
          "heatmap": [
           {
            "colorbar": {
             "outlinewidth": 0,
             "ticks": ""
            },
            "colorscale": [
             [
              0,
              "#0d0887"
             ],
             [
              0.1111111111111111,
              "#46039f"
             ],
             [
              0.2222222222222222,
              "#7201a8"
             ],
             [
              0.3333333333333333,
              "#9c179e"
             ],
             [
              0.4444444444444444,
              "#bd3786"
             ],
             [
              0.5555555555555556,
              "#d8576b"
             ],
             [
              0.6666666666666666,
              "#ed7953"
             ],
             [
              0.7777777777777778,
              "#fb9f3a"
             ],
             [
              0.8888888888888888,
              "#fdca26"
             ],
             [
              1,
              "#f0f921"
             ]
            ],
            "type": "heatmap"
           }
          ],
          "heatmapgl": [
           {
            "colorbar": {
             "outlinewidth": 0,
             "ticks": ""
            },
            "colorscale": [
             [
              0,
              "#0d0887"
             ],
             [
              0.1111111111111111,
              "#46039f"
             ],
             [
              0.2222222222222222,
              "#7201a8"
             ],
             [
              0.3333333333333333,
              "#9c179e"
             ],
             [
              0.4444444444444444,
              "#bd3786"
             ],
             [
              0.5555555555555556,
              "#d8576b"
             ],
             [
              0.6666666666666666,
              "#ed7953"
             ],
             [
              0.7777777777777778,
              "#fb9f3a"
             ],
             [
              0.8888888888888888,
              "#fdca26"
             ],
             [
              1,
              "#f0f921"
             ]
            ],
            "type": "heatmapgl"
           }
          ],
          "histogram": [
           {
            "marker": {
             "pattern": {
              "fillmode": "overlay",
              "size": 10,
              "solidity": 0.2
             }
            },
            "type": "histogram"
           }
          ],
          "histogram2d": [
           {
            "colorbar": {
             "outlinewidth": 0,
             "ticks": ""
            },
            "colorscale": [
             [
              0,
              "#0d0887"
             ],
             [
              0.1111111111111111,
              "#46039f"
             ],
             [
              0.2222222222222222,
              "#7201a8"
             ],
             [
              0.3333333333333333,
              "#9c179e"
             ],
             [
              0.4444444444444444,
              "#bd3786"
             ],
             [
              0.5555555555555556,
              "#d8576b"
             ],
             [
              0.6666666666666666,
              "#ed7953"
             ],
             [
              0.7777777777777778,
              "#fb9f3a"
             ],
             [
              0.8888888888888888,
              "#fdca26"
             ],
             [
              1,
              "#f0f921"
             ]
            ],
            "type": "histogram2d"
           }
          ],
          "histogram2dcontour": [
           {
            "colorbar": {
             "outlinewidth": 0,
             "ticks": ""
            },
            "colorscale": [
             [
              0,
              "#0d0887"
             ],
             [
              0.1111111111111111,
              "#46039f"
             ],
             [
              0.2222222222222222,
              "#7201a8"
             ],
             [
              0.3333333333333333,
              "#9c179e"
             ],
             [
              0.4444444444444444,
              "#bd3786"
             ],
             [
              0.5555555555555556,
              "#d8576b"
             ],
             [
              0.6666666666666666,
              "#ed7953"
             ],
             [
              0.7777777777777778,
              "#fb9f3a"
             ],
             [
              0.8888888888888888,
              "#fdca26"
             ],
             [
              1,
              "#f0f921"
             ]
            ],
            "type": "histogram2dcontour"
           }
          ],
          "mesh3d": [
           {
            "colorbar": {
             "outlinewidth": 0,
             "ticks": ""
            },
            "type": "mesh3d"
           }
          ],
          "parcoords": [
           {
            "line": {
             "colorbar": {
              "outlinewidth": 0,
              "ticks": ""
             }
            },
            "type": "parcoords"
           }
          ],
          "pie": [
           {
            "automargin": true,
            "type": "pie"
           }
          ],
          "scatter": [
           {
            "fillpattern": {
             "fillmode": "overlay",
             "size": 10,
             "solidity": 0.2
            },
            "type": "scatter"
           }
          ],
          "scatter3d": [
           {
            "line": {
             "colorbar": {
              "outlinewidth": 0,
              "ticks": ""
             }
            },
            "marker": {
             "colorbar": {
              "outlinewidth": 0,
              "ticks": ""
             }
            },
            "type": "scatter3d"
           }
          ],
          "scattercarpet": [
           {
            "marker": {
             "colorbar": {
              "outlinewidth": 0,
              "ticks": ""
             }
            },
            "type": "scattercarpet"
           }
          ],
          "scattergeo": [
           {
            "marker": {
             "colorbar": {
              "outlinewidth": 0,
              "ticks": ""
             }
            },
            "type": "scattergeo"
           }
          ],
          "scattergl": [
           {
            "marker": {
             "colorbar": {
              "outlinewidth": 0,
              "ticks": ""
             }
            },
            "type": "scattergl"
           }
          ],
          "scattermapbox": [
           {
            "marker": {
             "colorbar": {
              "outlinewidth": 0,
              "ticks": ""
             }
            },
            "type": "scattermapbox"
           }
          ],
          "scatterpolar": [
           {
            "marker": {
             "colorbar": {
              "outlinewidth": 0,
              "ticks": ""
             }
            },
            "type": "scatterpolar"
           }
          ],
          "scatterpolargl": [
           {
            "marker": {
             "colorbar": {
              "outlinewidth": 0,
              "ticks": ""
             }
            },
            "type": "scatterpolargl"
           }
          ],
          "scatterternary": [
           {
            "marker": {
             "colorbar": {
              "outlinewidth": 0,
              "ticks": ""
             }
            },
            "type": "scatterternary"
           }
          ],
          "surface": [
           {
            "colorbar": {
             "outlinewidth": 0,
             "ticks": ""
            },
            "colorscale": [
             [
              0,
              "#0d0887"
             ],
             [
              0.1111111111111111,
              "#46039f"
             ],
             [
              0.2222222222222222,
              "#7201a8"
             ],
             [
              0.3333333333333333,
              "#9c179e"
             ],
             [
              0.4444444444444444,
              "#bd3786"
             ],
             [
              0.5555555555555556,
              "#d8576b"
             ],
             [
              0.6666666666666666,
              "#ed7953"
             ],
             [
              0.7777777777777778,
              "#fb9f3a"
             ],
             [
              0.8888888888888888,
              "#fdca26"
             ],
             [
              1,
              "#f0f921"
             ]
            ],
            "type": "surface"
           }
          ],
          "table": [
           {
            "cells": {
             "fill": {
              "color": "#EBF0F8"
             },
             "line": {
              "color": "white"
             }
            },
            "header": {
             "fill": {
              "color": "#C8D4E3"
             },
             "line": {
              "color": "white"
             }
            },
            "type": "table"
           }
          ]
         },
         "layout": {
          "annotationdefaults": {
           "arrowcolor": "#2a3f5f",
           "arrowhead": 0,
           "arrowwidth": 1
          },
          "autotypenumbers": "strict",
          "coloraxis": {
           "colorbar": {
            "outlinewidth": 0,
            "ticks": ""
           }
          },
          "colorscale": {
           "diverging": [
            [
             0,
             "#8e0152"
            ],
            [
             0.1,
             "#c51b7d"
            ],
            [
             0.2,
             "#de77ae"
            ],
            [
             0.3,
             "#f1b6da"
            ],
            [
             0.4,
             "#fde0ef"
            ],
            [
             0.5,
             "#f7f7f7"
            ],
            [
             0.6,
             "#e6f5d0"
            ],
            [
             0.7,
             "#b8e186"
            ],
            [
             0.8,
             "#7fbc41"
            ],
            [
             0.9,
             "#4d9221"
            ],
            [
             1,
             "#276419"
            ]
           ],
           "sequential": [
            [
             0,
             "#0d0887"
            ],
            [
             0.1111111111111111,
             "#46039f"
            ],
            [
             0.2222222222222222,
             "#7201a8"
            ],
            [
             0.3333333333333333,
             "#9c179e"
            ],
            [
             0.4444444444444444,
             "#bd3786"
            ],
            [
             0.5555555555555556,
             "#d8576b"
            ],
            [
             0.6666666666666666,
             "#ed7953"
            ],
            [
             0.7777777777777778,
             "#fb9f3a"
            ],
            [
             0.8888888888888888,
             "#fdca26"
            ],
            [
             1,
             "#f0f921"
            ]
           ],
           "sequentialminus": [
            [
             0,
             "#0d0887"
            ],
            [
             0.1111111111111111,
             "#46039f"
            ],
            [
             0.2222222222222222,
             "#7201a8"
            ],
            [
             0.3333333333333333,
             "#9c179e"
            ],
            [
             0.4444444444444444,
             "#bd3786"
            ],
            [
             0.5555555555555556,
             "#d8576b"
            ],
            [
             0.6666666666666666,
             "#ed7953"
            ],
            [
             0.7777777777777778,
             "#fb9f3a"
            ],
            [
             0.8888888888888888,
             "#fdca26"
            ],
            [
             1,
             "#f0f921"
            ]
           ]
          },
          "colorway": [
           "#636efa",
           "#EF553B",
           "#00cc96",
           "#ab63fa",
           "#FFA15A",
           "#19d3f3",
           "#FF6692",
           "#B6E880",
           "#FF97FF",
           "#FECB52"
          ],
          "font": {
           "color": "#2a3f5f"
          },
          "geo": {
           "bgcolor": "white",
           "lakecolor": "white",
           "landcolor": "white",
           "showlakes": true,
           "showland": true,
           "subunitcolor": "#C8D4E3"
          },
          "hoverlabel": {
           "align": "left"
          },
          "hovermode": "closest",
          "mapbox": {
           "style": "light"
          },
          "paper_bgcolor": "white",
          "plot_bgcolor": "white",
          "polar": {
           "angularaxis": {
            "gridcolor": "#EBF0F8",
            "linecolor": "#EBF0F8",
            "ticks": ""
           },
           "bgcolor": "white",
           "radialaxis": {
            "gridcolor": "#EBF0F8",
            "linecolor": "#EBF0F8",
            "ticks": ""
           }
          },
          "scene": {
           "xaxis": {
            "backgroundcolor": "white",
            "gridcolor": "#DFE8F3",
            "gridwidth": 2,
            "linecolor": "#EBF0F8",
            "showbackground": true,
            "ticks": "",
            "zerolinecolor": "#EBF0F8"
           },
           "yaxis": {
            "backgroundcolor": "white",
            "gridcolor": "#DFE8F3",
            "gridwidth": 2,
            "linecolor": "#EBF0F8",
            "showbackground": true,
            "ticks": "",
            "zerolinecolor": "#EBF0F8"
           },
           "zaxis": {
            "backgroundcolor": "white",
            "gridcolor": "#DFE8F3",
            "gridwidth": 2,
            "linecolor": "#EBF0F8",
            "showbackground": true,
            "ticks": "",
            "zerolinecolor": "#EBF0F8"
           }
          },
          "shapedefaults": {
           "line": {
            "color": "#2a3f5f"
           }
          },
          "ternary": {
           "aaxis": {
            "gridcolor": "#DFE8F3",
            "linecolor": "#A2B1C6",
            "ticks": ""
           },
           "baxis": {
            "gridcolor": "#DFE8F3",
            "linecolor": "#A2B1C6",
            "ticks": ""
           },
           "bgcolor": "white",
           "caxis": {
            "gridcolor": "#DFE8F3",
            "linecolor": "#A2B1C6",
            "ticks": ""
           }
          },
          "title": {
           "x": 0.05
          },
          "xaxis": {
           "automargin": true,
           "gridcolor": "#EBF0F8",
           "linecolor": "#EBF0F8",
           "ticks": "",
           "title": {
            "standoff": 15
           },
           "zerolinecolor": "#EBF0F8",
           "zerolinewidth": 2
          },
          "yaxis": {
           "automargin": true,
           "gridcolor": "#EBF0F8",
           "linecolor": "#EBF0F8",
           "ticks": "",
           "title": {
            "standoff": 15
           },
           "zerolinecolor": "#EBF0F8",
           "zerolinewidth": 2
          }
         }
        },
        "xaxis": {
         "showgrid": false,
         "showticklabels": false,
         "zeroline": false
        },
        "yaxis": {
         "showgrid": false,
         "showticklabels": false,
         "zeroline": false
        }
       }
      },
      "text/html": [
       "<div>                            <div id=\"0cbc838d-47ed-4730-b927-8b8e6e2d6918\" class=\"plotly-graph-div\" style=\"height:525px; width:100%;\"></div>            <script type=\"text/javascript\">                require([\"plotly\"], function(Plotly) {                    window.PLOTLYENV=window.PLOTLYENV || {};                                    if (document.getElementById(\"0cbc838d-47ed-4730-b927-8b8e6e2d6918\")) {                    Plotly.newPlot(                        \"0cbc838d-47ed-4730-b927-8b8e6e2d6918\",                        [{\"line\":{\"color\":\"grey\",\"width\":2},\"mode\":\"lines\",\"x\":[0,0,null,0,0,null,0,0,null,0,0,null,0,-0.5,null,0,0.5,null,-0.5,-1,null,-1,-1,null,-0.5,0,null,-1,-1,null,0,-2,null,0,-1.5,null,0,-1,null,0,-0.5,null,0,0.5,null,0,1,null,0,1.5,null,0,0.5,null,0,2,null,0,2.5,null],\"y\":[0,-1,null,-1,-2,null,-2,-3,null,-3,-4,null,-4,-5,null,0,-1,null,-5,-6,null,-6,-7,null,-5,-6,null,-7,-8,null,0,-1,null,0,-1,null,0,-1,null,0,-1,null,0,-1,null,0,-1,null,0,-1,null,-4,-5,null,0,-1,null,0,-1,null],\"type\":\"scatter\"},{\"marker\":{\"color\":[\"grey\",\"blue\",\"blue\",\"blue\",\"blue\",\"blue\",\"green\",\"red\",\"red\",\"green\",\"blue\",\"green\",\"green\",\"blue\",\"green\",\"red\",\"green\",\"red\",\"red\",\"red\",\"red\"],\"line\":{\"color\":\"DarkSlateGrey\",\"width\":2},\"size\":10},\"mode\":\"markers\",\"text\":[\"0\",\"1\",\"2\",\"3\",\"4\",\"5\",\"6\",\"7\",\"8\",\"9\",\"10\",\"11\",\"12\",\"13\",\"14\",\"15\",\"16\",\"17\",\"18\",\"19\",\"20\"],\"textposition\":\"bottom center\",\"x\":[0,0,0,0,0,-0.5,0.5,-1,-1,0,-1,-2,-1.5,-1,-0.5,0.5,1,1.5,0.5,2,2.5],\"y\":[0,-1,-2,-3,-4,-5,-1,-6,-7,-6,-8,-1,-1,-1,-1,-1,-1,-1,-5,-1,-1],\"type\":\"scatter\"}],                        {\"template\":{\"data\":{\"barpolar\":[{\"marker\":{\"line\":{\"color\":\"white\",\"width\":0.5},\"pattern\":{\"fillmode\":\"overlay\",\"size\":10,\"solidity\":0.2}},\"type\":\"barpolar\"}],\"bar\":[{\"error_x\":{\"color\":\"#2a3f5f\"},\"error_y\":{\"color\":\"#2a3f5f\"},\"marker\":{\"line\":{\"color\":\"white\",\"width\":0.5},\"pattern\":{\"fillmode\":\"overlay\",\"size\":10,\"solidity\":0.2}},\"type\":\"bar\"}],\"carpet\":[{\"aaxis\":{\"endlinecolor\":\"#2a3f5f\",\"gridcolor\":\"#C8D4E3\",\"linecolor\":\"#C8D4E3\",\"minorgridcolor\":\"#C8D4E3\",\"startlinecolor\":\"#2a3f5f\"},\"baxis\":{\"endlinecolor\":\"#2a3f5f\",\"gridcolor\":\"#C8D4E3\",\"linecolor\":\"#C8D4E3\",\"minorgridcolor\":\"#C8D4E3\",\"startlinecolor\":\"#2a3f5f\"},\"type\":\"carpet\"}],\"choropleth\":[{\"colorbar\":{\"outlinewidth\":0,\"ticks\":\"\"},\"type\":\"choropleth\"}],\"contourcarpet\":[{\"colorbar\":{\"outlinewidth\":0,\"ticks\":\"\"},\"type\":\"contourcarpet\"}],\"contour\":[{\"colorbar\":{\"outlinewidth\":0,\"ticks\":\"\"},\"colorscale\":[[0.0,\"#0d0887\"],[0.1111111111111111,\"#46039f\"],[0.2222222222222222,\"#7201a8\"],[0.3333333333333333,\"#9c179e\"],[0.4444444444444444,\"#bd3786\"],[0.5555555555555556,\"#d8576b\"],[0.6666666666666666,\"#ed7953\"],[0.7777777777777778,\"#fb9f3a\"],[0.8888888888888888,\"#fdca26\"],[1.0,\"#f0f921\"]],\"type\":\"contour\"}],\"heatmapgl\":[{\"colorbar\":{\"outlinewidth\":0,\"ticks\":\"\"},\"colorscale\":[[0.0,\"#0d0887\"],[0.1111111111111111,\"#46039f\"],[0.2222222222222222,\"#7201a8\"],[0.3333333333333333,\"#9c179e\"],[0.4444444444444444,\"#bd3786\"],[0.5555555555555556,\"#d8576b\"],[0.6666666666666666,\"#ed7953\"],[0.7777777777777778,\"#fb9f3a\"],[0.8888888888888888,\"#fdca26\"],[1.0,\"#f0f921\"]],\"type\":\"heatmapgl\"}],\"heatmap\":[{\"colorbar\":{\"outlinewidth\":0,\"ticks\":\"\"},\"colorscale\":[[0.0,\"#0d0887\"],[0.1111111111111111,\"#46039f\"],[0.2222222222222222,\"#7201a8\"],[0.3333333333333333,\"#9c179e\"],[0.4444444444444444,\"#bd3786\"],[0.5555555555555556,\"#d8576b\"],[0.6666666666666666,\"#ed7953\"],[0.7777777777777778,\"#fb9f3a\"],[0.8888888888888888,\"#fdca26\"],[1.0,\"#f0f921\"]],\"type\":\"heatmap\"}],\"histogram2dcontour\":[{\"colorbar\":{\"outlinewidth\":0,\"ticks\":\"\"},\"colorscale\":[[0.0,\"#0d0887\"],[0.1111111111111111,\"#46039f\"],[0.2222222222222222,\"#7201a8\"],[0.3333333333333333,\"#9c179e\"],[0.4444444444444444,\"#bd3786\"],[0.5555555555555556,\"#d8576b\"],[0.6666666666666666,\"#ed7953\"],[0.7777777777777778,\"#fb9f3a\"],[0.8888888888888888,\"#fdca26\"],[1.0,\"#f0f921\"]],\"type\":\"histogram2dcontour\"}],\"histogram2d\":[{\"colorbar\":{\"outlinewidth\":0,\"ticks\":\"\"},\"colorscale\":[[0.0,\"#0d0887\"],[0.1111111111111111,\"#46039f\"],[0.2222222222222222,\"#7201a8\"],[0.3333333333333333,\"#9c179e\"],[0.4444444444444444,\"#bd3786\"],[0.5555555555555556,\"#d8576b\"],[0.6666666666666666,\"#ed7953\"],[0.7777777777777778,\"#fb9f3a\"],[0.8888888888888888,\"#fdca26\"],[1.0,\"#f0f921\"]],\"type\":\"histogram2d\"}],\"histogram\":[{\"marker\":{\"pattern\":{\"fillmode\":\"overlay\",\"size\":10,\"solidity\":0.2}},\"type\":\"histogram\"}],\"mesh3d\":[{\"colorbar\":{\"outlinewidth\":0,\"ticks\":\"\"},\"type\":\"mesh3d\"}],\"parcoords\":[{\"line\":{\"colorbar\":{\"outlinewidth\":0,\"ticks\":\"\"}},\"type\":\"parcoords\"}],\"pie\":[{\"automargin\":true,\"type\":\"pie\"}],\"scatter3d\":[{\"line\":{\"colorbar\":{\"outlinewidth\":0,\"ticks\":\"\"}},\"marker\":{\"colorbar\":{\"outlinewidth\":0,\"ticks\":\"\"}},\"type\":\"scatter3d\"}],\"scattercarpet\":[{\"marker\":{\"colorbar\":{\"outlinewidth\":0,\"ticks\":\"\"}},\"type\":\"scattercarpet\"}],\"scattergeo\":[{\"marker\":{\"colorbar\":{\"outlinewidth\":0,\"ticks\":\"\"}},\"type\":\"scattergeo\"}],\"scattergl\":[{\"marker\":{\"colorbar\":{\"outlinewidth\":0,\"ticks\":\"\"}},\"type\":\"scattergl\"}],\"scattermapbox\":[{\"marker\":{\"colorbar\":{\"outlinewidth\":0,\"ticks\":\"\"}},\"type\":\"scattermapbox\"}],\"scatterpolargl\":[{\"marker\":{\"colorbar\":{\"outlinewidth\":0,\"ticks\":\"\"}},\"type\":\"scatterpolargl\"}],\"scatterpolar\":[{\"marker\":{\"colorbar\":{\"outlinewidth\":0,\"ticks\":\"\"}},\"type\":\"scatterpolar\"}],\"scatter\":[{\"fillpattern\":{\"fillmode\":\"overlay\",\"size\":10,\"solidity\":0.2},\"type\":\"scatter\"}],\"scatterternary\":[{\"marker\":{\"colorbar\":{\"outlinewidth\":0,\"ticks\":\"\"}},\"type\":\"scatterternary\"}],\"surface\":[{\"colorbar\":{\"outlinewidth\":0,\"ticks\":\"\"},\"colorscale\":[[0.0,\"#0d0887\"],[0.1111111111111111,\"#46039f\"],[0.2222222222222222,\"#7201a8\"],[0.3333333333333333,\"#9c179e\"],[0.4444444444444444,\"#bd3786\"],[0.5555555555555556,\"#d8576b\"],[0.6666666666666666,\"#ed7953\"],[0.7777777777777778,\"#fb9f3a\"],[0.8888888888888888,\"#fdca26\"],[1.0,\"#f0f921\"]],\"type\":\"surface\"}],\"table\":[{\"cells\":{\"fill\":{\"color\":\"#EBF0F8\"},\"line\":{\"color\":\"white\"}},\"header\":{\"fill\":{\"color\":\"#C8D4E3\"},\"line\":{\"color\":\"white\"}},\"type\":\"table\"}]},\"layout\":{\"annotationdefaults\":{\"arrowcolor\":\"#2a3f5f\",\"arrowhead\":0,\"arrowwidth\":1},\"autotypenumbers\":\"strict\",\"coloraxis\":{\"colorbar\":{\"outlinewidth\":0,\"ticks\":\"\"}},\"colorscale\":{\"diverging\":[[0,\"#8e0152\"],[0.1,\"#c51b7d\"],[0.2,\"#de77ae\"],[0.3,\"#f1b6da\"],[0.4,\"#fde0ef\"],[0.5,\"#f7f7f7\"],[0.6,\"#e6f5d0\"],[0.7,\"#b8e186\"],[0.8,\"#7fbc41\"],[0.9,\"#4d9221\"],[1,\"#276419\"]],\"sequential\":[[0.0,\"#0d0887\"],[0.1111111111111111,\"#46039f\"],[0.2222222222222222,\"#7201a8\"],[0.3333333333333333,\"#9c179e\"],[0.4444444444444444,\"#bd3786\"],[0.5555555555555556,\"#d8576b\"],[0.6666666666666666,\"#ed7953\"],[0.7777777777777778,\"#fb9f3a\"],[0.8888888888888888,\"#fdca26\"],[1.0,\"#f0f921\"]],\"sequentialminus\":[[0.0,\"#0d0887\"],[0.1111111111111111,\"#46039f\"],[0.2222222222222222,\"#7201a8\"],[0.3333333333333333,\"#9c179e\"],[0.4444444444444444,\"#bd3786\"],[0.5555555555555556,\"#d8576b\"],[0.6666666666666666,\"#ed7953\"],[0.7777777777777778,\"#fb9f3a\"],[0.8888888888888888,\"#fdca26\"],[1.0,\"#f0f921\"]]},\"colorway\":[\"#636efa\",\"#EF553B\",\"#00cc96\",\"#ab63fa\",\"#FFA15A\",\"#19d3f3\",\"#FF6692\",\"#B6E880\",\"#FF97FF\",\"#FECB52\"],\"font\":{\"color\":\"#2a3f5f\"},\"geo\":{\"bgcolor\":\"white\",\"lakecolor\":\"white\",\"landcolor\":\"white\",\"showlakes\":true,\"showland\":true,\"subunitcolor\":\"#C8D4E3\"},\"hoverlabel\":{\"align\":\"left\"},\"hovermode\":\"closest\",\"mapbox\":{\"style\":\"light\"},\"paper_bgcolor\":\"white\",\"plot_bgcolor\":\"white\",\"polar\":{\"angularaxis\":{\"gridcolor\":\"#EBF0F8\",\"linecolor\":\"#EBF0F8\",\"ticks\":\"\"},\"bgcolor\":\"white\",\"radialaxis\":{\"gridcolor\":\"#EBF0F8\",\"linecolor\":\"#EBF0F8\",\"ticks\":\"\"}},\"scene\":{\"xaxis\":{\"backgroundcolor\":\"white\",\"gridcolor\":\"#DFE8F3\",\"gridwidth\":2,\"linecolor\":\"#EBF0F8\",\"showbackground\":true,\"ticks\":\"\",\"zerolinecolor\":\"#EBF0F8\"},\"yaxis\":{\"backgroundcolor\":\"white\",\"gridcolor\":\"#DFE8F3\",\"gridwidth\":2,\"linecolor\":\"#EBF0F8\",\"showbackground\":true,\"ticks\":\"\",\"zerolinecolor\":\"#EBF0F8\"},\"zaxis\":{\"backgroundcolor\":\"white\",\"gridcolor\":\"#DFE8F3\",\"gridwidth\":2,\"linecolor\":\"#EBF0F8\",\"showbackground\":true,\"ticks\":\"\",\"zerolinecolor\":\"#EBF0F8\"}},\"shapedefaults\":{\"line\":{\"color\":\"#2a3f5f\"}},\"ternary\":{\"aaxis\":{\"gridcolor\":\"#DFE8F3\",\"linecolor\":\"#A2B1C6\",\"ticks\":\"\"},\"baxis\":{\"gridcolor\":\"#DFE8F3\",\"linecolor\":\"#A2B1C6\",\"ticks\":\"\"},\"bgcolor\":\"white\",\"caxis\":{\"gridcolor\":\"#DFE8F3\",\"linecolor\":\"#A2B1C6\",\"ticks\":\"\"}},\"title\":{\"x\":0.05},\"xaxis\":{\"automargin\":true,\"gridcolor\":\"#EBF0F8\",\"linecolor\":\"#EBF0F8\",\"ticks\":\"\",\"title\":{\"standoff\":15},\"zerolinecolor\":\"#EBF0F8\",\"zerolinewidth\":2},\"yaxis\":{\"automargin\":true,\"gridcolor\":\"#EBF0F8\",\"linecolor\":\"#EBF0F8\",\"ticks\":\"\",\"title\":{\"standoff\":15},\"zerolinecolor\":\"#EBF0F8\",\"zerolinewidth\":2}}},\"xaxis\":{\"showgrid\":false,\"zeroline\":false,\"showticklabels\":false},\"yaxis\":{\"showgrid\":false,\"zeroline\":false,\"showticklabels\":false}},                        {\"responsive\": true}                    ).then(function(){\n",
       "                            \n",
       "var gd = document.getElementById('0cbc838d-47ed-4730-b927-8b8e6e2d6918');\n",
       "var x = new MutationObserver(function (mutations, observer) {{\n",
       "        var display = window.getComputedStyle(gd).display;\n",
       "        if (!display || display === 'none') {{\n",
       "            console.log([gd, 'removed!']);\n",
       "            Plotly.purge(gd);\n",
       "            observer.disconnect();\n",
       "        }}\n",
       "}});\n",
       "\n",
       "// Listen for the removal of the full notebook cells\n",
       "var notebookContainer = gd.closest('#notebook-container');\n",
       "if (notebookContainer) {{\n",
       "    x.observe(notebookContainer, {childList: true});\n",
       "}}\n",
       "\n",
       "// Listen for the clearing of the current output cell\n",
       "var outputEl = gd.closest('.output');\n",
       "if (outputEl) {{\n",
       "    x.observe(outputEl, {childList: true});\n",
       "}}\n",
       "\n",
       "                        })                };                });            </script>        </div>"
      ]
     },
     "metadata": {},
     "output_type": "display_data"
    }
   ],
   "source": [
    "import plotly.graph_objects as go\n",
    "\n",
    "# Example node pairs\n",
    "node_pairs = node_pairs\n",
    "\n",
    "# Function to calculate positions - this will vary greatly depending on your tree structure\n",
    "positions = {0: (0, 0), 1: (0, -1), 2: (0, -2), 3: (0, -3), 4: (0, -4), 5: (-0.5, -5), \n",
    "             6: (0.5, -1), 7: (-1, -6), 8: (-1, -7), 9: (0, -6), 10: (-1, -8), \n",
    "             11: (-2, -1), 12: (-1.5, -1), 13: (-1, -1), 14: (-0.5, -1), 15: (0.5, -1), \n",
    "             16: (1, -1), 17: (1.5, -1), 18: (0.5, -5), 19: (2, -1), 20: (2.5, -1)}\n",
    "\n",
    "\n",
    "# Create edges\n",
    "edge_x = []\n",
    "edge_y = []\n",
    "for pair in node_pairs:\n",
    "    x0, y0 = positions[pair[0]]\n",
    "    x1, y1 = positions[pair[1]]\n",
    "    edge_x.extend([x0, x1, None])\n",
    "    edge_y.extend([y0, y1, None])\n",
    "\n",
    "# Create nodes\n",
    "node_x = [pos[0] for pos in positions.values()]\n",
    "node_y = [pos[1] for pos in positions.values()]\n",
    "\n",
    "# Create figure\n",
    "fig = go.Figure()\n",
    "\n",
    "# Add edges as lines\n",
    "fig.add_trace(go.Scatter(x=edge_x, y=edge_y, mode='lines', line=dict(width=2, color='grey')))\n",
    "\n",
    "# Add nodes as markers\n",
    "# mode='markers+text'\n",
    "fig.add_trace(go.Scatter(x=node_x, y=node_y, mode='markers', text=list(positions.keys()), textposition=\"bottom center\",\n",
    "                         marker=dict(size=10, color=mapped_color, line=dict(width=2, color='DarkSlateGrey'))))\n",
    "\n",
    "# Update layout\n",
    "fig.update_layout(template=\"plotly_white\", xaxis=dict(showgrid=False, zeroline=False, showticklabels=False),\n",
    "                  yaxis=dict(showgrid=False, zeroline=False, showticklabels=False))\n",
    "fig.show()\n"
   ]
  },
  {
   "cell_type": "code",
   "execution_count": null,
   "id": "1dcb640d",
   "metadata": {},
   "outputs": [],
   "source": []
  },
  {
   "cell_type": "code",
   "execution_count": null,
   "id": "92dc180d",
   "metadata": {},
   "outputs": [],
   "source": []
  },
  {
   "cell_type": "code",
   "execution_count": null,
   "id": "40b3beba",
   "metadata": {},
   "outputs": [],
   "source": [
    "node_pairs, map_pair = map_id(id_pair[579])\n",
    "node_list = [map_pair[item] for item in id_data[22]]"
   ]
  },
  {
   "cell_type": "code",
   "execution_count": null,
   "id": "b9d6a84c",
   "metadata": {},
   "outputs": [
    {
     "name": "stdout",
     "output_type": "stream",
     "text": [
      "{0, 64, 51, 86}\n"
     ]
    }
   ],
   "source": [
    "missed = []\n",
    "for item in node_pairs:\n",
    "    if item[0] not in node_list:\n",
    "        missed.append(item[0])\n",
    "    if item[1] not in node_list:\n",
    "        missed.append(item[1])\n",
    "print(set(missed))"
   ]
  },
  {
   "cell_type": "code",
   "execution_count": null,
   "id": "28c08a46",
   "metadata": {},
   "outputs": [],
   "source": [
    "labels = [-1, 2, 2, 1, 1, 1, 1, 1, 1, 1, \n",
    "          1, 1, 2, 1, 1, 1, 1, 1, 2, 1, \n",
    "          0, 1, 1, 1, 2, 2, 1, 1, 1, 1, \n",
    "          1, 1, 1, 2, 1, 0, 1, 1, 0, 1, \n",
    "          0, 1, 1, 1, 1, 1, 1, 1, 1, 1, \n",
    "          1, -1, 1, 2, 1, 1, 1, 0, 1, 1, \n",
    "          2, 1, 0, 2, -1, 1, 1, 1, 1, 1, \n",
    "          1, 1, 1, 1, 1, 1, 1, 0, 0, 0, \n",
    "          1, 1, 1, 1, 1, 1, -1, 1, 1, 1]\n",
    "map_color = {0:'red', 1: 'green', 2: 'blue', -1: 'grey'}\n",
    "mapped_color = [map_color[item] for item in labels]\n",
    "\n"
   ]
  },
  {
   "cell_type": "code",
   "execution_count": null,
   "id": "4b67c14a",
   "metadata": {},
   "outputs": [
    {
     "data": {
      "application/vnd.plotly.v1+json": {
       "config": {
        "plotlyServerURL": "https://plot.ly"
       },
       "data": [
        {
         "line": {
          "color": "grey",
          "width": 2
         },
         "mode": "lines",
         "type": "scatter",
         "x": [
          0,
          -35,
          null,
          0,
          -34,
          null,
          0,
          -33,
          null,
          0,
          -32,
          null,
          0,
          -31,
          null,
          0,
          -30,
          null,
          0,
          -29,
          null,
          0,
          -28,
          null,
          0,
          -27,
          null,
          -33,
          -33,
          null,
          -27,
          -27,
          null,
          0,
          -26,
          null,
          -30,
          -30,
          null,
          0,
          -25,
          null,
          0,
          -24,
          null,
          -25,
          -25,
          null,
          0,
          -23,
          null,
          0,
          -22,
          null,
          0,
          -21,
          null,
          -22,
          -23,
          null,
          0,
          -20,
          null,
          0,
          -19,
          null,
          0,
          -18,
          null,
          0,
          -17,
          null,
          0,
          -16,
          null,
          0,
          -15,
          null,
          0,
          -14,
          null,
          0,
          -13,
          null,
          0,
          -12,
          null,
          0,
          -11,
          null,
          -33,
          -33,
          null,
          0,
          -10,
          null,
          0,
          -9,
          null,
          -23,
          -23,
          null,
          0,
          -8,
          null,
          0,
          -7,
          null,
          0,
          -6,
          null,
          0,
          -5,
          null,
          -22,
          -21,
          null,
          0,
          -4,
          null,
          0,
          -3,
          null,
          0,
          -2,
          null,
          0,
          -1,
          null,
          0,
          1,
          null,
          -1,
          -2,
          null,
          0,
          2,
          null,
          0,
          3,
          null,
          0,
          4,
          null,
          0,
          5,
          null,
          0,
          6,
          null,
          0,
          7,
          null,
          7,
          6,
          null,
          0,
          8,
          null,
          0,
          9,
          null,
          0,
          10,
          null,
          0,
          11,
          null,
          0,
          12,
          null,
          0,
          13,
          null,
          0,
          14,
          null,
          0,
          15,
          null,
          0,
          16,
          null,
          15,
          14,
          null,
          14,
          14,
          null,
          0,
          17,
          null,
          17,
          17,
          null,
          0,
          19,
          null,
          0,
          20,
          null,
          20,
          21,
          null,
          21,
          20,
          null,
          0,
          21,
          null,
          0,
          22,
          null,
          22,
          23,
          null,
          23,
          23,
          null,
          0,
          23,
          null,
          0,
          24,
          null,
          0,
          25,
          null,
          0,
          26,
          null,
          0,
          27,
          null,
          0,
          28,
          null,
          0,
          29,
          null,
          0,
          30,
          null,
          0,
          31,
          null,
          0,
          32,
          null,
          0,
          33,
          null,
          0,
          34,
          null,
          0,
          35,
          null,
          35,
          35,
          null,
          0,
          36,
          null,
          14,
          14,
          null
         ],
         "y": [
          0,
          -1,
          null,
          0,
          -1,
          null,
          0,
          -1,
          null,
          0,
          -1,
          null,
          0,
          -1,
          null,
          0,
          -1,
          null,
          0,
          -1,
          null,
          0,
          -1,
          null,
          0,
          -1,
          null,
          -1,
          -2,
          null,
          -1,
          -2,
          null,
          0,
          -1,
          null,
          -1,
          -2,
          null,
          0,
          -1,
          null,
          0,
          -1,
          null,
          -1,
          -2,
          null,
          0,
          -1,
          null,
          0,
          -1,
          null,
          0,
          -1,
          null,
          -1,
          -2,
          null,
          0,
          -1,
          null,
          0,
          -1,
          null,
          0,
          -1,
          null,
          0,
          -1,
          null,
          0,
          -1,
          null,
          0,
          -1,
          null,
          0,
          -1,
          null,
          0,
          -1,
          null,
          0,
          -1,
          null,
          0,
          -1,
          null,
          -2,
          -3,
          null,
          0,
          -1,
          null,
          0,
          -1,
          null,
          -2,
          -3,
          null,
          0,
          -1,
          null,
          0,
          -1,
          null,
          0,
          -1,
          null,
          0,
          -1,
          null,
          -1,
          -2,
          null,
          0,
          -1,
          null,
          0,
          -1,
          null,
          0,
          -1,
          null,
          0,
          -1,
          null,
          0,
          -1,
          null,
          -1,
          -2,
          null,
          0,
          -1,
          null,
          0,
          -1,
          null,
          0,
          -1,
          null,
          0,
          -1,
          null,
          0,
          -1,
          null,
          0,
          -1,
          null,
          -1,
          -2,
          null,
          0,
          -1,
          null,
          0,
          -1,
          null,
          0,
          -1,
          null,
          0,
          -1,
          null,
          0,
          -1,
          null,
          0,
          -1,
          null,
          0,
          -1,
          null,
          0,
          -1,
          null,
          0,
          -1,
          null,
          -1,
          -2,
          null,
          -2,
          -3,
          null,
          0,
          -1,
          null,
          -1,
          -2,
          null,
          0,
          -1,
          null,
          0,
          -1,
          null,
          -1,
          -1,
          null,
          -1,
          -2,
          null,
          0,
          -1,
          null,
          0,
          -1,
          null,
          -1,
          -2,
          null,
          -2,
          -3,
          null,
          0,
          -1,
          null,
          0,
          -1,
          null,
          0,
          -1,
          null,
          0,
          -1,
          null,
          0,
          -1,
          null,
          0,
          -1,
          null,
          0,
          -1,
          null,
          0,
          -1,
          null,
          0,
          -1,
          null,
          0,
          -1,
          null,
          0,
          -1,
          null,
          0,
          -1,
          null,
          0,
          -1,
          null,
          -1,
          -2,
          null,
          0,
          -1,
          null,
          -3,
          -4,
          null
         ]
        },
        {
         "marker": {
          "color": [
           "grey",
           "blue",
           "blue",
           "green",
           "green",
           "green",
           "green",
           "green",
           "green",
           "green",
           "green",
           "green",
           "blue",
           "green",
           "green",
           "green",
           "green",
           "green",
           "blue",
           "green",
           "red",
           "green",
           "green",
           "green",
           "blue",
           "blue",
           "green",
           "green",
           "green",
           "green",
           "green",
           "green",
           "green",
           "blue",
           "green",
           "red",
           "green",
           "green",
           "red",
           "green",
           "red",
           "green",
           "green",
           "green",
           "green",
           "green",
           "green",
           "green",
           "green",
           "green",
           "green",
           "grey",
           "green",
           "blue",
           "green",
           "green",
           "green",
           "red",
           "green",
           "green",
           "blue",
           "green",
           "red",
           "blue",
           "grey",
           "green",
           "green",
           "green",
           "green",
           "green",
           "green",
           "green",
           "green",
           "green",
           "green",
           "green",
           "green",
           "red",
           "red",
           "red",
           "green",
           "green",
           "green",
           "green",
           "green",
           "green",
           "grey",
           "green",
           "green",
           "green"
          ],
          "line": {
           "color": "DarkSlateGrey",
           "width": 2
          },
          "size": 10
         },
         "mode": "markers",
         "text": [
          "0",
          "1",
          "2",
          "3",
          "4",
          "5",
          "6",
          "7",
          "8",
          "9",
          "10",
          "11",
          "12",
          "13",
          "14",
          "15",
          "16",
          "17",
          "18",
          "19",
          "20",
          "21",
          "22",
          "23",
          "24",
          "25",
          "26",
          "27",
          "28",
          "29",
          "30",
          "31",
          "32",
          "33",
          "34",
          "35",
          "36",
          "37",
          "38",
          "39",
          "40",
          "41",
          "42",
          "43",
          "44",
          "45",
          "46",
          "47",
          "48",
          "49",
          "50",
          "51",
          "52",
          "53",
          "54",
          "55",
          "56",
          "57",
          "58",
          "59",
          "60",
          "61",
          "62",
          "63",
          "64",
          "65",
          "66",
          "67",
          "68",
          "69",
          "70",
          "71",
          "72",
          "73",
          "74",
          "75",
          "76",
          "77",
          "78",
          "79",
          "80",
          "81",
          "82",
          "83",
          "84",
          "85",
          "86",
          "87",
          "88",
          "89"
         ],
         "textposition": "bottom center",
         "type": "scatter",
         "x": [
          0,
          -35,
          -34,
          -33,
          -32,
          -31,
          -30,
          -29,
          -28,
          -27,
          -33,
          -27,
          -26,
          -30,
          -25,
          -24,
          -25,
          -23,
          -22,
          -21,
          -23,
          -20,
          -19,
          -18,
          -17,
          -16,
          -15,
          -14,
          -13,
          -12,
          -11,
          -33,
          -10,
          -9,
          -23,
          -8,
          -7,
          -6,
          -5,
          -21,
          -4,
          -3,
          -2,
          -1,
          1,
          -2,
          2,
          3,
          4,
          5,
          6,
          7,
          6,
          8,
          9,
          10,
          11,
          12,
          13,
          14,
          15,
          16,
          14,
          14,
          17,
          17,
          19,
          20,
          21,
          20,
          21,
          22,
          23,
          23,
          23,
          24,
          25,
          26,
          27,
          28,
          29,
          30,
          31,
          32,
          33,
          34,
          35,
          35,
          36,
          14
         ],
         "y": [
          0,
          -1,
          -1,
          -1,
          -1,
          -1,
          -1,
          -1,
          -1,
          -1,
          -2,
          -2,
          -1,
          -2,
          -1,
          -1,
          -2,
          -1,
          -1,
          -1,
          -2,
          -1,
          -1,
          -1,
          -1,
          -1,
          -1,
          -1,
          -1,
          -1,
          -1,
          -3,
          -1,
          -1,
          -3,
          -1,
          -1,
          -1,
          -1,
          -2,
          -1,
          -1,
          -1,
          -1,
          -1,
          -2,
          -1,
          -1,
          -1,
          -1,
          -1,
          -1,
          -2,
          -1,
          -1,
          -1,
          -1,
          -1,
          -1,
          -1,
          -1,
          -1,
          -2,
          -3,
          -1,
          -2,
          -1,
          -1,
          -1,
          -2,
          -1,
          -1,
          -2,
          -3,
          -1,
          -1,
          -1,
          -1,
          -1,
          -1,
          -1,
          -1,
          -1,
          -1,
          -1,
          -1,
          -1,
          -2,
          -1,
          -4
         ]
        }
       ],
       "layout": {
        "template": {
         "data": {
          "bar": [
           {
            "error_x": {
             "color": "#2a3f5f"
            },
            "error_y": {
             "color": "#2a3f5f"
            },
            "marker": {
             "line": {
              "color": "white",
              "width": 0.5
             },
             "pattern": {
              "fillmode": "overlay",
              "size": 10,
              "solidity": 0.2
             }
            },
            "type": "bar"
           }
          ],
          "barpolar": [
           {
            "marker": {
             "line": {
              "color": "white",
              "width": 0.5
             },
             "pattern": {
              "fillmode": "overlay",
              "size": 10,
              "solidity": 0.2
             }
            },
            "type": "barpolar"
           }
          ],
          "carpet": [
           {
            "aaxis": {
             "endlinecolor": "#2a3f5f",
             "gridcolor": "#C8D4E3",
             "linecolor": "#C8D4E3",
             "minorgridcolor": "#C8D4E3",
             "startlinecolor": "#2a3f5f"
            },
            "baxis": {
             "endlinecolor": "#2a3f5f",
             "gridcolor": "#C8D4E3",
             "linecolor": "#C8D4E3",
             "minorgridcolor": "#C8D4E3",
             "startlinecolor": "#2a3f5f"
            },
            "type": "carpet"
           }
          ],
          "choropleth": [
           {
            "colorbar": {
             "outlinewidth": 0,
             "ticks": ""
            },
            "type": "choropleth"
           }
          ],
          "contour": [
           {
            "colorbar": {
             "outlinewidth": 0,
             "ticks": ""
            },
            "colorscale": [
             [
              0,
              "#0d0887"
             ],
             [
              0.1111111111111111,
              "#46039f"
             ],
             [
              0.2222222222222222,
              "#7201a8"
             ],
             [
              0.3333333333333333,
              "#9c179e"
             ],
             [
              0.4444444444444444,
              "#bd3786"
             ],
             [
              0.5555555555555556,
              "#d8576b"
             ],
             [
              0.6666666666666666,
              "#ed7953"
             ],
             [
              0.7777777777777778,
              "#fb9f3a"
             ],
             [
              0.8888888888888888,
              "#fdca26"
             ],
             [
              1,
              "#f0f921"
             ]
            ],
            "type": "contour"
           }
          ],
          "contourcarpet": [
           {
            "colorbar": {
             "outlinewidth": 0,
             "ticks": ""
            },
            "type": "contourcarpet"
           }
          ],
          "heatmap": [
           {
            "colorbar": {
             "outlinewidth": 0,
             "ticks": ""
            },
            "colorscale": [
             [
              0,
              "#0d0887"
             ],
             [
              0.1111111111111111,
              "#46039f"
             ],
             [
              0.2222222222222222,
              "#7201a8"
             ],
             [
              0.3333333333333333,
              "#9c179e"
             ],
             [
              0.4444444444444444,
              "#bd3786"
             ],
             [
              0.5555555555555556,
              "#d8576b"
             ],
             [
              0.6666666666666666,
              "#ed7953"
             ],
             [
              0.7777777777777778,
              "#fb9f3a"
             ],
             [
              0.8888888888888888,
              "#fdca26"
             ],
             [
              1,
              "#f0f921"
             ]
            ],
            "type": "heatmap"
           }
          ],
          "heatmapgl": [
           {
            "colorbar": {
             "outlinewidth": 0,
             "ticks": ""
            },
            "colorscale": [
             [
              0,
              "#0d0887"
             ],
             [
              0.1111111111111111,
              "#46039f"
             ],
             [
              0.2222222222222222,
              "#7201a8"
             ],
             [
              0.3333333333333333,
              "#9c179e"
             ],
             [
              0.4444444444444444,
              "#bd3786"
             ],
             [
              0.5555555555555556,
              "#d8576b"
             ],
             [
              0.6666666666666666,
              "#ed7953"
             ],
             [
              0.7777777777777778,
              "#fb9f3a"
             ],
             [
              0.8888888888888888,
              "#fdca26"
             ],
             [
              1,
              "#f0f921"
             ]
            ],
            "type": "heatmapgl"
           }
          ],
          "histogram": [
           {
            "marker": {
             "pattern": {
              "fillmode": "overlay",
              "size": 10,
              "solidity": 0.2
             }
            },
            "type": "histogram"
           }
          ],
          "histogram2d": [
           {
            "colorbar": {
             "outlinewidth": 0,
             "ticks": ""
            },
            "colorscale": [
             [
              0,
              "#0d0887"
             ],
             [
              0.1111111111111111,
              "#46039f"
             ],
             [
              0.2222222222222222,
              "#7201a8"
             ],
             [
              0.3333333333333333,
              "#9c179e"
             ],
             [
              0.4444444444444444,
              "#bd3786"
             ],
             [
              0.5555555555555556,
              "#d8576b"
             ],
             [
              0.6666666666666666,
              "#ed7953"
             ],
             [
              0.7777777777777778,
              "#fb9f3a"
             ],
             [
              0.8888888888888888,
              "#fdca26"
             ],
             [
              1,
              "#f0f921"
             ]
            ],
            "type": "histogram2d"
           }
          ],
          "histogram2dcontour": [
           {
            "colorbar": {
             "outlinewidth": 0,
             "ticks": ""
            },
            "colorscale": [
             [
              0,
              "#0d0887"
             ],
             [
              0.1111111111111111,
              "#46039f"
             ],
             [
              0.2222222222222222,
              "#7201a8"
             ],
             [
              0.3333333333333333,
              "#9c179e"
             ],
             [
              0.4444444444444444,
              "#bd3786"
             ],
             [
              0.5555555555555556,
              "#d8576b"
             ],
             [
              0.6666666666666666,
              "#ed7953"
             ],
             [
              0.7777777777777778,
              "#fb9f3a"
             ],
             [
              0.8888888888888888,
              "#fdca26"
             ],
             [
              1,
              "#f0f921"
             ]
            ],
            "type": "histogram2dcontour"
           }
          ],
          "mesh3d": [
           {
            "colorbar": {
             "outlinewidth": 0,
             "ticks": ""
            },
            "type": "mesh3d"
           }
          ],
          "parcoords": [
           {
            "line": {
             "colorbar": {
              "outlinewidth": 0,
              "ticks": ""
             }
            },
            "type": "parcoords"
           }
          ],
          "pie": [
           {
            "automargin": true,
            "type": "pie"
           }
          ],
          "scatter": [
           {
            "fillpattern": {
             "fillmode": "overlay",
             "size": 10,
             "solidity": 0.2
            },
            "type": "scatter"
           }
          ],
          "scatter3d": [
           {
            "line": {
             "colorbar": {
              "outlinewidth": 0,
              "ticks": ""
             }
            },
            "marker": {
             "colorbar": {
              "outlinewidth": 0,
              "ticks": ""
             }
            },
            "type": "scatter3d"
           }
          ],
          "scattercarpet": [
           {
            "marker": {
             "colorbar": {
              "outlinewidth": 0,
              "ticks": ""
             }
            },
            "type": "scattercarpet"
           }
          ],
          "scattergeo": [
           {
            "marker": {
             "colorbar": {
              "outlinewidth": 0,
              "ticks": ""
             }
            },
            "type": "scattergeo"
           }
          ],
          "scattergl": [
           {
            "marker": {
             "colorbar": {
              "outlinewidth": 0,
              "ticks": ""
             }
            },
            "type": "scattergl"
           }
          ],
          "scattermapbox": [
           {
            "marker": {
             "colorbar": {
              "outlinewidth": 0,
              "ticks": ""
             }
            },
            "type": "scattermapbox"
           }
          ],
          "scatterpolar": [
           {
            "marker": {
             "colorbar": {
              "outlinewidth": 0,
              "ticks": ""
             }
            },
            "type": "scatterpolar"
           }
          ],
          "scatterpolargl": [
           {
            "marker": {
             "colorbar": {
              "outlinewidth": 0,
              "ticks": ""
             }
            },
            "type": "scatterpolargl"
           }
          ],
          "scatterternary": [
           {
            "marker": {
             "colorbar": {
              "outlinewidth": 0,
              "ticks": ""
             }
            },
            "type": "scatterternary"
           }
          ],
          "surface": [
           {
            "colorbar": {
             "outlinewidth": 0,
             "ticks": ""
            },
            "colorscale": [
             [
              0,
              "#0d0887"
             ],
             [
              0.1111111111111111,
              "#46039f"
             ],
             [
              0.2222222222222222,
              "#7201a8"
             ],
             [
              0.3333333333333333,
              "#9c179e"
             ],
             [
              0.4444444444444444,
              "#bd3786"
             ],
             [
              0.5555555555555556,
              "#d8576b"
             ],
             [
              0.6666666666666666,
              "#ed7953"
             ],
             [
              0.7777777777777778,
              "#fb9f3a"
             ],
             [
              0.8888888888888888,
              "#fdca26"
             ],
             [
              1,
              "#f0f921"
             ]
            ],
            "type": "surface"
           }
          ],
          "table": [
           {
            "cells": {
             "fill": {
              "color": "#EBF0F8"
             },
             "line": {
              "color": "white"
             }
            },
            "header": {
             "fill": {
              "color": "#C8D4E3"
             },
             "line": {
              "color": "white"
             }
            },
            "type": "table"
           }
          ]
         },
         "layout": {
          "annotationdefaults": {
           "arrowcolor": "#2a3f5f",
           "arrowhead": 0,
           "arrowwidth": 1
          },
          "autotypenumbers": "strict",
          "coloraxis": {
           "colorbar": {
            "outlinewidth": 0,
            "ticks": ""
           }
          },
          "colorscale": {
           "diverging": [
            [
             0,
             "#8e0152"
            ],
            [
             0.1,
             "#c51b7d"
            ],
            [
             0.2,
             "#de77ae"
            ],
            [
             0.3,
             "#f1b6da"
            ],
            [
             0.4,
             "#fde0ef"
            ],
            [
             0.5,
             "#f7f7f7"
            ],
            [
             0.6,
             "#e6f5d0"
            ],
            [
             0.7,
             "#b8e186"
            ],
            [
             0.8,
             "#7fbc41"
            ],
            [
             0.9,
             "#4d9221"
            ],
            [
             1,
             "#276419"
            ]
           ],
           "sequential": [
            [
             0,
             "#0d0887"
            ],
            [
             0.1111111111111111,
             "#46039f"
            ],
            [
             0.2222222222222222,
             "#7201a8"
            ],
            [
             0.3333333333333333,
             "#9c179e"
            ],
            [
             0.4444444444444444,
             "#bd3786"
            ],
            [
             0.5555555555555556,
             "#d8576b"
            ],
            [
             0.6666666666666666,
             "#ed7953"
            ],
            [
             0.7777777777777778,
             "#fb9f3a"
            ],
            [
             0.8888888888888888,
             "#fdca26"
            ],
            [
             1,
             "#f0f921"
            ]
           ],
           "sequentialminus": [
            [
             0,
             "#0d0887"
            ],
            [
             0.1111111111111111,
             "#46039f"
            ],
            [
             0.2222222222222222,
             "#7201a8"
            ],
            [
             0.3333333333333333,
             "#9c179e"
            ],
            [
             0.4444444444444444,
             "#bd3786"
            ],
            [
             0.5555555555555556,
             "#d8576b"
            ],
            [
             0.6666666666666666,
             "#ed7953"
            ],
            [
             0.7777777777777778,
             "#fb9f3a"
            ],
            [
             0.8888888888888888,
             "#fdca26"
            ],
            [
             1,
             "#f0f921"
            ]
           ]
          },
          "colorway": [
           "#636efa",
           "#EF553B",
           "#00cc96",
           "#ab63fa",
           "#FFA15A",
           "#19d3f3",
           "#FF6692",
           "#B6E880",
           "#FF97FF",
           "#FECB52"
          ],
          "font": {
           "color": "#2a3f5f"
          },
          "geo": {
           "bgcolor": "white",
           "lakecolor": "white",
           "landcolor": "white",
           "showlakes": true,
           "showland": true,
           "subunitcolor": "#C8D4E3"
          },
          "hoverlabel": {
           "align": "left"
          },
          "hovermode": "closest",
          "mapbox": {
           "style": "light"
          },
          "paper_bgcolor": "white",
          "plot_bgcolor": "white",
          "polar": {
           "angularaxis": {
            "gridcolor": "#EBF0F8",
            "linecolor": "#EBF0F8",
            "ticks": ""
           },
           "bgcolor": "white",
           "radialaxis": {
            "gridcolor": "#EBF0F8",
            "linecolor": "#EBF0F8",
            "ticks": ""
           }
          },
          "scene": {
           "xaxis": {
            "backgroundcolor": "white",
            "gridcolor": "#DFE8F3",
            "gridwidth": 2,
            "linecolor": "#EBF0F8",
            "showbackground": true,
            "ticks": "",
            "zerolinecolor": "#EBF0F8"
           },
           "yaxis": {
            "backgroundcolor": "white",
            "gridcolor": "#DFE8F3",
            "gridwidth": 2,
            "linecolor": "#EBF0F8",
            "showbackground": true,
            "ticks": "",
            "zerolinecolor": "#EBF0F8"
           },
           "zaxis": {
            "backgroundcolor": "white",
            "gridcolor": "#DFE8F3",
            "gridwidth": 2,
            "linecolor": "#EBF0F8",
            "showbackground": true,
            "ticks": "",
            "zerolinecolor": "#EBF0F8"
           }
          },
          "shapedefaults": {
           "line": {
            "color": "#2a3f5f"
           }
          },
          "ternary": {
           "aaxis": {
            "gridcolor": "#DFE8F3",
            "linecolor": "#A2B1C6",
            "ticks": ""
           },
           "baxis": {
            "gridcolor": "#DFE8F3",
            "linecolor": "#A2B1C6",
            "ticks": ""
           },
           "bgcolor": "white",
           "caxis": {
            "gridcolor": "#DFE8F3",
            "linecolor": "#A2B1C6",
            "ticks": ""
           }
          },
          "title": {
           "x": 0.05
          },
          "xaxis": {
           "automargin": true,
           "gridcolor": "#EBF0F8",
           "linecolor": "#EBF0F8",
           "ticks": "",
           "title": {
            "standoff": 15
           },
           "zerolinecolor": "#EBF0F8",
           "zerolinewidth": 2
          },
          "yaxis": {
           "automargin": true,
           "gridcolor": "#EBF0F8",
           "linecolor": "#EBF0F8",
           "ticks": "",
           "title": {
            "standoff": 15
           },
           "zerolinecolor": "#EBF0F8",
           "zerolinewidth": 2
          }
         }
        },
        "xaxis": {
         "showgrid": false,
         "showticklabels": false,
         "zeroline": false
        },
        "yaxis": {
         "showgrid": false,
         "showticklabels": false,
         "zeroline": false
        }
       }
      },
      "text/html": [
       "<div>                            <div id=\"3482238d-3a66-4d72-9d26-fe7194e2cf8b\" class=\"plotly-graph-div\" style=\"height:525px; width:100%;\"></div>            <script type=\"text/javascript\">                require([\"plotly\"], function(Plotly) {                    window.PLOTLYENV=window.PLOTLYENV || {};                                    if (document.getElementById(\"3482238d-3a66-4d72-9d26-fe7194e2cf8b\")) {                    Plotly.newPlot(                        \"3482238d-3a66-4d72-9d26-fe7194e2cf8b\",                        [{\"line\":{\"color\":\"grey\",\"width\":2},\"mode\":\"lines\",\"x\":[0,-35,null,0,-34,null,0,-33,null,0,-32,null,0,-31,null,0,-30,null,0,-29,null,0,-28,null,0,-27,null,-33,-33,null,-27,-27,null,0,-26,null,-30,-30,null,0,-25,null,0,-24,null,-25,-25,null,0,-23,null,0,-22,null,0,-21,null,-22,-23,null,0,-20,null,0,-19,null,0,-18,null,0,-17,null,0,-16,null,0,-15,null,0,-14,null,0,-13,null,0,-12,null,0,-11,null,-33,-33,null,0,-10,null,0,-9,null,-23,-23,null,0,-8,null,0,-7,null,0,-6,null,0,-5,null,-22,-21,null,0,-4,null,0,-3,null,0,-2,null,0,-1,null,0,1,null,-1,-2,null,0,2,null,0,3,null,0,4,null,0,5,null,0,6,null,0,7,null,7,6,null,0,8,null,0,9,null,0,10,null,0,11,null,0,12,null,0,13,null,0,14,null,0,15,null,0,16,null,15,14,null,14,14,null,0,17,null,17,17,null,0,19,null,0,20,null,20,21,null,21,20,null,0,21,null,0,22,null,22,23,null,23,23,null,0,23,null,0,24,null,0,25,null,0,26,null,0,27,null,0,28,null,0,29,null,0,30,null,0,31,null,0,32,null,0,33,null,0,34,null,0,35,null,35,35,null,0,36,null,14,14,null],\"y\":[0,-1,null,0,-1,null,0,-1,null,0,-1,null,0,-1,null,0,-1,null,0,-1,null,0,-1,null,0,-1,null,-1,-2,null,-1,-2,null,0,-1,null,-1,-2,null,0,-1,null,0,-1,null,-1,-2,null,0,-1,null,0,-1,null,0,-1,null,-1,-2,null,0,-1,null,0,-1,null,0,-1,null,0,-1,null,0,-1,null,0,-1,null,0,-1,null,0,-1,null,0,-1,null,0,-1,null,-2,-3,null,0,-1,null,0,-1,null,-2,-3,null,0,-1,null,0,-1,null,0,-1,null,0,-1,null,-1,-2,null,0,-1,null,0,-1,null,0,-1,null,0,-1,null,0,-1,null,-1,-2,null,0,-1,null,0,-1,null,0,-1,null,0,-1,null,0,-1,null,0,-1,null,-1,-2,null,0,-1,null,0,-1,null,0,-1,null,0,-1,null,0,-1,null,0,-1,null,0,-1,null,0,-1,null,0,-1,null,-1,-2,null,-2,-3,null,0,-1,null,-1,-2,null,0,-1,null,0,-1,null,-1,-1,null,-1,-2,null,0,-1,null,0,-1,null,-1,-2,null,-2,-3,null,0,-1,null,0,-1,null,0,-1,null,0,-1,null,0,-1,null,0,-1,null,0,-1,null,0,-1,null,0,-1,null,0,-1,null,0,-1,null,0,-1,null,0,-1,null,-1,-2,null,0,-1,null,-3,-4,null],\"type\":\"scatter\"},{\"marker\":{\"color\":[\"grey\",\"blue\",\"blue\",\"green\",\"green\",\"green\",\"green\",\"green\",\"green\",\"green\",\"green\",\"green\",\"blue\",\"green\",\"green\",\"green\",\"green\",\"green\",\"blue\",\"green\",\"red\",\"green\",\"green\",\"green\",\"blue\",\"blue\",\"green\",\"green\",\"green\",\"green\",\"green\",\"green\",\"green\",\"blue\",\"green\",\"red\",\"green\",\"green\",\"red\",\"green\",\"red\",\"green\",\"green\",\"green\",\"green\",\"green\",\"green\",\"green\",\"green\",\"green\",\"green\",\"grey\",\"green\",\"blue\",\"green\",\"green\",\"green\",\"red\",\"green\",\"green\",\"blue\",\"green\",\"red\",\"blue\",\"grey\",\"green\",\"green\",\"green\",\"green\",\"green\",\"green\",\"green\",\"green\",\"green\",\"green\",\"green\",\"green\",\"red\",\"red\",\"red\",\"green\",\"green\",\"green\",\"green\",\"green\",\"green\",\"grey\",\"green\",\"green\",\"green\"],\"line\":{\"color\":\"DarkSlateGrey\",\"width\":2},\"size\":10},\"mode\":\"markers\",\"text\":[\"0\",\"1\",\"2\",\"3\",\"4\",\"5\",\"6\",\"7\",\"8\",\"9\",\"10\",\"11\",\"12\",\"13\",\"14\",\"15\",\"16\",\"17\",\"18\",\"19\",\"20\",\"21\",\"22\",\"23\",\"24\",\"25\",\"26\",\"27\",\"28\",\"29\",\"30\",\"31\",\"32\",\"33\",\"34\",\"35\",\"36\",\"37\",\"38\",\"39\",\"40\",\"41\",\"42\",\"43\",\"44\",\"45\",\"46\",\"47\",\"48\",\"49\",\"50\",\"51\",\"52\",\"53\",\"54\",\"55\",\"56\",\"57\",\"58\",\"59\",\"60\",\"61\",\"62\",\"63\",\"64\",\"65\",\"66\",\"67\",\"68\",\"69\",\"70\",\"71\",\"72\",\"73\",\"74\",\"75\",\"76\",\"77\",\"78\",\"79\",\"80\",\"81\",\"82\",\"83\",\"84\",\"85\",\"86\",\"87\",\"88\",\"89\"],\"textposition\":\"bottom center\",\"x\":[0,-35,-34,-33,-32,-31,-30,-29,-28,-27,-33,-27,-26,-30,-25,-24,-25,-23,-22,-21,-23,-20,-19,-18,-17,-16,-15,-14,-13,-12,-11,-33,-10,-9,-23,-8,-7,-6,-5,-21,-4,-3,-2,-1,1,-2,2,3,4,5,6,7,6,8,9,10,11,12,13,14,15,16,14,14,17,17,19,20,21,20,21,22,23,23,23,24,25,26,27,28,29,30,31,32,33,34,35,35,36,14],\"y\":[0,-1,-1,-1,-1,-1,-1,-1,-1,-1,-2,-2,-1,-2,-1,-1,-2,-1,-1,-1,-2,-1,-1,-1,-1,-1,-1,-1,-1,-1,-1,-3,-1,-1,-3,-1,-1,-1,-1,-2,-1,-1,-1,-1,-1,-2,-1,-1,-1,-1,-1,-1,-2,-1,-1,-1,-1,-1,-1,-1,-1,-1,-2,-3,-1,-2,-1,-1,-1,-2,-1,-1,-2,-3,-1,-1,-1,-1,-1,-1,-1,-1,-1,-1,-1,-1,-1,-2,-1,-4],\"type\":\"scatter\"}],                        {\"template\":{\"data\":{\"barpolar\":[{\"marker\":{\"line\":{\"color\":\"white\",\"width\":0.5},\"pattern\":{\"fillmode\":\"overlay\",\"size\":10,\"solidity\":0.2}},\"type\":\"barpolar\"}],\"bar\":[{\"error_x\":{\"color\":\"#2a3f5f\"},\"error_y\":{\"color\":\"#2a3f5f\"},\"marker\":{\"line\":{\"color\":\"white\",\"width\":0.5},\"pattern\":{\"fillmode\":\"overlay\",\"size\":10,\"solidity\":0.2}},\"type\":\"bar\"}],\"carpet\":[{\"aaxis\":{\"endlinecolor\":\"#2a3f5f\",\"gridcolor\":\"#C8D4E3\",\"linecolor\":\"#C8D4E3\",\"minorgridcolor\":\"#C8D4E3\",\"startlinecolor\":\"#2a3f5f\"},\"baxis\":{\"endlinecolor\":\"#2a3f5f\",\"gridcolor\":\"#C8D4E3\",\"linecolor\":\"#C8D4E3\",\"minorgridcolor\":\"#C8D4E3\",\"startlinecolor\":\"#2a3f5f\"},\"type\":\"carpet\"}],\"choropleth\":[{\"colorbar\":{\"outlinewidth\":0,\"ticks\":\"\"},\"type\":\"choropleth\"}],\"contourcarpet\":[{\"colorbar\":{\"outlinewidth\":0,\"ticks\":\"\"},\"type\":\"contourcarpet\"}],\"contour\":[{\"colorbar\":{\"outlinewidth\":0,\"ticks\":\"\"},\"colorscale\":[[0.0,\"#0d0887\"],[0.1111111111111111,\"#46039f\"],[0.2222222222222222,\"#7201a8\"],[0.3333333333333333,\"#9c179e\"],[0.4444444444444444,\"#bd3786\"],[0.5555555555555556,\"#d8576b\"],[0.6666666666666666,\"#ed7953\"],[0.7777777777777778,\"#fb9f3a\"],[0.8888888888888888,\"#fdca26\"],[1.0,\"#f0f921\"]],\"type\":\"contour\"}],\"heatmapgl\":[{\"colorbar\":{\"outlinewidth\":0,\"ticks\":\"\"},\"colorscale\":[[0.0,\"#0d0887\"],[0.1111111111111111,\"#46039f\"],[0.2222222222222222,\"#7201a8\"],[0.3333333333333333,\"#9c179e\"],[0.4444444444444444,\"#bd3786\"],[0.5555555555555556,\"#d8576b\"],[0.6666666666666666,\"#ed7953\"],[0.7777777777777778,\"#fb9f3a\"],[0.8888888888888888,\"#fdca26\"],[1.0,\"#f0f921\"]],\"type\":\"heatmapgl\"}],\"heatmap\":[{\"colorbar\":{\"outlinewidth\":0,\"ticks\":\"\"},\"colorscale\":[[0.0,\"#0d0887\"],[0.1111111111111111,\"#46039f\"],[0.2222222222222222,\"#7201a8\"],[0.3333333333333333,\"#9c179e\"],[0.4444444444444444,\"#bd3786\"],[0.5555555555555556,\"#d8576b\"],[0.6666666666666666,\"#ed7953\"],[0.7777777777777778,\"#fb9f3a\"],[0.8888888888888888,\"#fdca26\"],[1.0,\"#f0f921\"]],\"type\":\"heatmap\"}],\"histogram2dcontour\":[{\"colorbar\":{\"outlinewidth\":0,\"ticks\":\"\"},\"colorscale\":[[0.0,\"#0d0887\"],[0.1111111111111111,\"#46039f\"],[0.2222222222222222,\"#7201a8\"],[0.3333333333333333,\"#9c179e\"],[0.4444444444444444,\"#bd3786\"],[0.5555555555555556,\"#d8576b\"],[0.6666666666666666,\"#ed7953\"],[0.7777777777777778,\"#fb9f3a\"],[0.8888888888888888,\"#fdca26\"],[1.0,\"#f0f921\"]],\"type\":\"histogram2dcontour\"}],\"histogram2d\":[{\"colorbar\":{\"outlinewidth\":0,\"ticks\":\"\"},\"colorscale\":[[0.0,\"#0d0887\"],[0.1111111111111111,\"#46039f\"],[0.2222222222222222,\"#7201a8\"],[0.3333333333333333,\"#9c179e\"],[0.4444444444444444,\"#bd3786\"],[0.5555555555555556,\"#d8576b\"],[0.6666666666666666,\"#ed7953\"],[0.7777777777777778,\"#fb9f3a\"],[0.8888888888888888,\"#fdca26\"],[1.0,\"#f0f921\"]],\"type\":\"histogram2d\"}],\"histogram\":[{\"marker\":{\"pattern\":{\"fillmode\":\"overlay\",\"size\":10,\"solidity\":0.2}},\"type\":\"histogram\"}],\"mesh3d\":[{\"colorbar\":{\"outlinewidth\":0,\"ticks\":\"\"},\"type\":\"mesh3d\"}],\"parcoords\":[{\"line\":{\"colorbar\":{\"outlinewidth\":0,\"ticks\":\"\"}},\"type\":\"parcoords\"}],\"pie\":[{\"automargin\":true,\"type\":\"pie\"}],\"scatter3d\":[{\"line\":{\"colorbar\":{\"outlinewidth\":0,\"ticks\":\"\"}},\"marker\":{\"colorbar\":{\"outlinewidth\":0,\"ticks\":\"\"}},\"type\":\"scatter3d\"}],\"scattercarpet\":[{\"marker\":{\"colorbar\":{\"outlinewidth\":0,\"ticks\":\"\"}},\"type\":\"scattercarpet\"}],\"scattergeo\":[{\"marker\":{\"colorbar\":{\"outlinewidth\":0,\"ticks\":\"\"}},\"type\":\"scattergeo\"}],\"scattergl\":[{\"marker\":{\"colorbar\":{\"outlinewidth\":0,\"ticks\":\"\"}},\"type\":\"scattergl\"}],\"scattermapbox\":[{\"marker\":{\"colorbar\":{\"outlinewidth\":0,\"ticks\":\"\"}},\"type\":\"scattermapbox\"}],\"scatterpolargl\":[{\"marker\":{\"colorbar\":{\"outlinewidth\":0,\"ticks\":\"\"}},\"type\":\"scatterpolargl\"}],\"scatterpolar\":[{\"marker\":{\"colorbar\":{\"outlinewidth\":0,\"ticks\":\"\"}},\"type\":\"scatterpolar\"}],\"scatter\":[{\"fillpattern\":{\"fillmode\":\"overlay\",\"size\":10,\"solidity\":0.2},\"type\":\"scatter\"}],\"scatterternary\":[{\"marker\":{\"colorbar\":{\"outlinewidth\":0,\"ticks\":\"\"}},\"type\":\"scatterternary\"}],\"surface\":[{\"colorbar\":{\"outlinewidth\":0,\"ticks\":\"\"},\"colorscale\":[[0.0,\"#0d0887\"],[0.1111111111111111,\"#46039f\"],[0.2222222222222222,\"#7201a8\"],[0.3333333333333333,\"#9c179e\"],[0.4444444444444444,\"#bd3786\"],[0.5555555555555556,\"#d8576b\"],[0.6666666666666666,\"#ed7953\"],[0.7777777777777778,\"#fb9f3a\"],[0.8888888888888888,\"#fdca26\"],[1.0,\"#f0f921\"]],\"type\":\"surface\"}],\"table\":[{\"cells\":{\"fill\":{\"color\":\"#EBF0F8\"},\"line\":{\"color\":\"white\"}},\"header\":{\"fill\":{\"color\":\"#C8D4E3\"},\"line\":{\"color\":\"white\"}},\"type\":\"table\"}]},\"layout\":{\"annotationdefaults\":{\"arrowcolor\":\"#2a3f5f\",\"arrowhead\":0,\"arrowwidth\":1},\"autotypenumbers\":\"strict\",\"coloraxis\":{\"colorbar\":{\"outlinewidth\":0,\"ticks\":\"\"}},\"colorscale\":{\"diverging\":[[0,\"#8e0152\"],[0.1,\"#c51b7d\"],[0.2,\"#de77ae\"],[0.3,\"#f1b6da\"],[0.4,\"#fde0ef\"],[0.5,\"#f7f7f7\"],[0.6,\"#e6f5d0\"],[0.7,\"#b8e186\"],[0.8,\"#7fbc41\"],[0.9,\"#4d9221\"],[1,\"#276419\"]],\"sequential\":[[0.0,\"#0d0887\"],[0.1111111111111111,\"#46039f\"],[0.2222222222222222,\"#7201a8\"],[0.3333333333333333,\"#9c179e\"],[0.4444444444444444,\"#bd3786\"],[0.5555555555555556,\"#d8576b\"],[0.6666666666666666,\"#ed7953\"],[0.7777777777777778,\"#fb9f3a\"],[0.8888888888888888,\"#fdca26\"],[1.0,\"#f0f921\"]],\"sequentialminus\":[[0.0,\"#0d0887\"],[0.1111111111111111,\"#46039f\"],[0.2222222222222222,\"#7201a8\"],[0.3333333333333333,\"#9c179e\"],[0.4444444444444444,\"#bd3786\"],[0.5555555555555556,\"#d8576b\"],[0.6666666666666666,\"#ed7953\"],[0.7777777777777778,\"#fb9f3a\"],[0.8888888888888888,\"#fdca26\"],[1.0,\"#f0f921\"]]},\"colorway\":[\"#636efa\",\"#EF553B\",\"#00cc96\",\"#ab63fa\",\"#FFA15A\",\"#19d3f3\",\"#FF6692\",\"#B6E880\",\"#FF97FF\",\"#FECB52\"],\"font\":{\"color\":\"#2a3f5f\"},\"geo\":{\"bgcolor\":\"white\",\"lakecolor\":\"white\",\"landcolor\":\"white\",\"showlakes\":true,\"showland\":true,\"subunitcolor\":\"#C8D4E3\"},\"hoverlabel\":{\"align\":\"left\"},\"hovermode\":\"closest\",\"mapbox\":{\"style\":\"light\"},\"paper_bgcolor\":\"white\",\"plot_bgcolor\":\"white\",\"polar\":{\"angularaxis\":{\"gridcolor\":\"#EBF0F8\",\"linecolor\":\"#EBF0F8\",\"ticks\":\"\"},\"bgcolor\":\"white\",\"radialaxis\":{\"gridcolor\":\"#EBF0F8\",\"linecolor\":\"#EBF0F8\",\"ticks\":\"\"}},\"scene\":{\"xaxis\":{\"backgroundcolor\":\"white\",\"gridcolor\":\"#DFE8F3\",\"gridwidth\":2,\"linecolor\":\"#EBF0F8\",\"showbackground\":true,\"ticks\":\"\",\"zerolinecolor\":\"#EBF0F8\"},\"yaxis\":{\"backgroundcolor\":\"white\",\"gridcolor\":\"#DFE8F3\",\"gridwidth\":2,\"linecolor\":\"#EBF0F8\",\"showbackground\":true,\"ticks\":\"\",\"zerolinecolor\":\"#EBF0F8\"},\"zaxis\":{\"backgroundcolor\":\"white\",\"gridcolor\":\"#DFE8F3\",\"gridwidth\":2,\"linecolor\":\"#EBF0F8\",\"showbackground\":true,\"ticks\":\"\",\"zerolinecolor\":\"#EBF0F8\"}},\"shapedefaults\":{\"line\":{\"color\":\"#2a3f5f\"}},\"ternary\":{\"aaxis\":{\"gridcolor\":\"#DFE8F3\",\"linecolor\":\"#A2B1C6\",\"ticks\":\"\"},\"baxis\":{\"gridcolor\":\"#DFE8F3\",\"linecolor\":\"#A2B1C6\",\"ticks\":\"\"},\"bgcolor\":\"white\",\"caxis\":{\"gridcolor\":\"#DFE8F3\",\"linecolor\":\"#A2B1C6\",\"ticks\":\"\"}},\"title\":{\"x\":0.05},\"xaxis\":{\"automargin\":true,\"gridcolor\":\"#EBF0F8\",\"linecolor\":\"#EBF0F8\",\"ticks\":\"\",\"title\":{\"standoff\":15},\"zerolinecolor\":\"#EBF0F8\",\"zerolinewidth\":2},\"yaxis\":{\"automargin\":true,\"gridcolor\":\"#EBF0F8\",\"linecolor\":\"#EBF0F8\",\"ticks\":\"\",\"title\":{\"standoff\":15},\"zerolinecolor\":\"#EBF0F8\",\"zerolinewidth\":2}}},\"xaxis\":{\"showgrid\":false,\"zeroline\":false,\"showticklabels\":false},\"yaxis\":{\"showgrid\":false,\"zeroline\":false,\"showticklabels\":false}},                        {\"responsive\": true}                    ).then(function(){\n",
       "                            \n",
       "var gd = document.getElementById('3482238d-3a66-4d72-9d26-fe7194e2cf8b');\n",
       "var x = new MutationObserver(function (mutations, observer) {{\n",
       "        var display = window.getComputedStyle(gd).display;\n",
       "        if (!display || display === 'none') {{\n",
       "            console.log([gd, 'removed!']);\n",
       "            Plotly.purge(gd);\n",
       "            observer.disconnect();\n",
       "        }}\n",
       "}});\n",
       "\n",
       "// Listen for the removal of the full notebook cells\n",
       "var notebookContainer = gd.closest('#notebook-container');\n",
       "if (notebookContainer) {{\n",
       "    x.observe(notebookContainer, {childList: true});\n",
       "}}\n",
       "\n",
       "// Listen for the clearing of the current output cell\n",
       "var outputEl = gd.closest('.output');\n",
       "if (outputEl) {{\n",
       "    x.observe(outputEl, {childList: true});\n",
       "}}\n",
       "\n",
       "                        })                };                });            </script>        </div>"
      ]
     },
     "metadata": {},
     "output_type": "display_data"
    },
    {
     "ename": "",
     "evalue": "",
     "output_type": "error",
     "traceback": [
      "\u001b[1;31mThe Kernel crashed while executing code in the the current cell or a previous cell. Please review the code in the cell(s) to identify a possible cause of the failure. Click <a href='https://aka.ms/vscodeJupyterKernelCrash'>here</a> for more info. View Jupyter <a href='command:jupyter.viewOutput'>log</a> for further details."
     ]
    }
   ],
   "source": [
    "import plotly.graph_objects as go\n",
    "\n",
    "# Example node pairs\n",
    "node_pairs = node_pairs\n",
    "\n",
    "# Function to calculate positions - this will vary greatly depending on your tree structure\n",
    "positions = {0: (0, 0), 1: (-35, -1), 2: (-34, -1), 3: (-33, -1), 4: (-32, -1), 5: (-31, -1), 6: (-30, -1), 7: (-29, -1), 8: (-28, -1), 9: (-27, -1), \n",
    "             10: (-33, -2), 11: (-27, -2), 12: (-26, -1), 13: (-30, -2), 14: (-25, -1), 15: (-24, -1), 16: (-25, -2), 17: (-23, -1), 18: (-22, -1), 19: (-21, -1), \n",
    "             20: (-23, -2), 21: (-20, -1), 22: (-19, -1), 23: (-18, -1), 24: (-17, -1), 25: (-16, -1), 26: (-15, -1), 27: (-14, -1), 28: (-13, -1), 29: (-12, -1), \n",
    "             30: (-11, -1), 31: (-33, -3), 32: (-10, -1), 33: (-9, -1), 34: (-23, -3), 35: (-8, -1), 36: (-7, -1), 37: (-6, -1), 38: (-5, -1), 39: (-21, -2), \n",
    "             40: (-4, -1), 41: (-3, -1), 42: (-2, -1), 43: (-1, -1), 44: (1, -1), 45: (-2, -2), 46: (2, -1), 47: (3, -1), 48: (4, -1), 49: (5, -1), \n",
    "             50: (6, -1), 51: (7, -1), 52: (6, -2), 53: (8, -1), 54: (9, -1), 55: (10, -1), 56: (11, -1), 57: (12, -1), 58: (13, -1), 59: (14, -1), \n",
    "             60: (15, -1), 61: (16, -1), 62: (14, -2), 63: (14, -3), 64: (17, -1), 65: (17, -2), 66: (19, -1), 67: (20, -1), 68: (21, -1), 69: (20, -2), \n",
    "             70: (21, -1), 71: (22, -1), 72: (23, -2), 73: (23, -3), 74: (23, -1), 75: (24, -1), 76: (25, -1), 77: (26, -1), 78: (27, -1), 79: (28, -1), \n",
    "             80: (29, -1), 81: (30, -1), 82: (31, -1), 83: (32, -1), 84: (33, -1), 85: (34, -1), 86: (35, -1), 87: (35, -2), 88: (36, -1), 89: (14, -4), }\n",
    "\n",
    "\n",
    "# Create edges\n",
    "edge_x = []\n",
    "edge_y = []\n",
    "for pair in node_pairs:\n",
    "    x0, y0 = positions[pair[0]]\n",
    "    x1, y1 = positions[pair[1]]\n",
    "    edge_x.extend([x0, x1, None])\n",
    "    edge_y.extend([y0, y1, None])\n",
    "\n",
    "# Create nodes\n",
    "node_x = [pos[0] for pos in positions.values()]\n",
    "node_y = [pos[1] for pos in positions.values()]\n",
    "\n",
    "# Create figure\n",
    "fig = go.Figure()\n",
    "\n",
    "# Add edges as lines\n",
    "fig.add_trace(go.Scatter(x=edge_x, y=edge_y, mode='lines', line=dict(width=2, color='grey')))\n",
    "\n",
    "# Add nodes as markers\n",
    "# mode='markers+text'\n",
    "fig.add_trace(go.Scatter(x=node_x, y=node_y, mode='markers', text=list(positions.keys()), textposition=\"bottom center\",\n",
    "                         marker=dict(size=10, color=mapped_color, line=dict(width=2, color='DarkSlateGrey'))))\n",
    "\n",
    "# Update layout\n",
    "fig.update_layout(template=\"plotly_white\", xaxis=dict(showgrid=False, zeroline=False, showticklabels=False),\n",
    "                  yaxis=dict(showgrid=False, zeroline=False, showticklabels=False))\n",
    "fig.show()\n"
   ]
  },
  {
   "cell_type": "markdown",
   "id": "2e564720",
   "metadata": {},
   "source": [
    "## Strat Evaluation"
   ]
  },
  {
   "cell_type": "code",
   "execution_count": null,
   "id": "083e55ea",
   "metadata": {},
   "outputs": [
    {
     "name": "stderr",
     "output_type": "stream",
     "text": [
      "100%|██████████| 2634/2634 [00:00<00:00, 5729.11it/s]\n",
      "100%|██████████| 2634/2634 [00:00<00:00, 5477.28it/s]\n"
     ]
    }
   ],
   "source": [
    "def collate(batch):\n",
    "    batch_li = [list(item) for item in batch]\n",
    "    data_temp = [row[0] for row in batch_li]\n",
    "    labels_temp = [torch.Tensor(row[1]) for row in batch_li]\n",
    "    prob_temp = [torch.Tensor(row[2]) for row in batch_li]\n",
    "    global_path_temp = [row[3] for row in batch_li]\n",
    "    local_path_temp = [row[4] for row in batch_li]\n",
    "    idx_temp = [torch.Tensor(row[5]) for row in batch_li]\n",
    "    \n",
    "\n",
    "    padded_data, masks = pad_sequences(data_temp, max_dim=500, pad_token=0)\n",
    "    padded_labels = pad_labels(labels_temp, max_dim=500, pad_token=0)\n",
    "    padded_idx = pad_labels(idx_temp, max_dim=500, pad_token=0)\n",
    "    padded_prob, _ = pad_sequences(prob_temp, max_dim=500, pad_token=0)\n",
    "    padded_global, _ = pad_sequences(summ(global_path_temp), max_dim=500, pad_token=0)\n",
    "    padded_local = pad_matrix(local_path_temp, max_dim=500, pad_token=0)\n",
    "\n",
    "    data= torch.tensor(padded_data).to(torch.int64)\n",
    "    labels = torch.tensor(padded_labels).to(torch.int64)\n",
    "    idx = torch.tensor(padded_idx).to(torch.int64)\n",
    "    prob = torch.tensor(padded_prob).to(torch.float64)\n",
    "    global_path = torch.tensor(np.array(padded_global)).to(torch.int64)\n",
    "    #print(type(padded_data), type(padded_data[0]))\n",
    "    local_path = torch.tensor(np.array(padded_local)).to(torch.int64)\n",
    "    #labels = torch.nn.utils.rnn.pad_sequence(labels_temp, batch_first=True)\n",
    "    #prob = torch.nn.utils.rnn.pad_sequence(prob_temp, batch_first=True)\n",
    "    #global_path = torch.nn.utils.rnn.pad_sequence(global_path_temp, batch_first=True)\n",
    "    #local_path = torch.nn.utils.rnn.pad_sequence(local_path_temp, batch_first=True)\n",
    "    #print(masks)\n",
    "    \n",
    "    #out_tweet_type = torch.nn.utils.rnn.pad_sequence(out_tweet_types, batch_first=True)\n",
    "    #print(\"start\")\n",
    "    return Batch(idx, data, labels, prob, global_path, local_path, torch.tensor(masks))\n",
    "    \n",
    "   \n",
    "def load_data(data_dir, journalist, classes, batch_size, collate):\n",
    "    ### Data (normalize input inter-event times, then padding to create dataloaders)\n",
    "    num_classes, num_sequences = 0, 0\n",
    "    seq_dataset = []\n",
    "    arr = []\n",
    "    dp = []\n",
    "    rel = []\n",
    "    \n",
    "    split = [80, 84]\n",
    "    val = 0\n",
    "    journal_sort = pd.read_csv((os.path.join(data_dir, f'{journalist}/{journalist}_conv_labels.csv')))\n",
    "    ids = []\n",
    "    for item in list(journal_sort['conversation_id']):\n",
    "        if item not in ids:\n",
    "            ids.append(item)\n",
    "    id_pair = {}\n",
    "    id_conv = {}\n",
    "    for idx in ids:\n",
    "        id_pair[idx], id_conv[idx] = create_conversation_list(journal_sort[journal_sort['conversation_id']==idx], idx)\n",
    "    id_data, data, label = create_data(journal_sort, ids)\n",
    "    prob = pkl.load(open(os.path.join(data_dir, f'{journalist}/{journalist}_edgeprob.pkl'), 'rb'))\n",
    "    \n",
    "    with open(os.path.join(data_dir, f'{journalist}/{journalist}_global_path.txt'), \"r\") as f:\n",
    "        for line in tqdm(f, total=get_number_of_lines(f)):\n",
    "            dp.append(json.loads(line.strip()))\n",
    "\n",
    "    with open(os.path.join(data_dir, f'{journalist}/{journalist}_local_path.txt'), \"r\") as f:\n",
    "        for line in tqdm(f, total=get_number_of_lines(f)):\n",
    "            rel.append(json.loads(line.strip()))\n",
    "    \n",
    "    global_input = convert_global(dp, id_data)\n",
    "    local_data = convert_local(rel)\n",
    "    local_mat = generate_local_mat(local_data, id_data)\n",
    "    local_input = create_mat(local_mat, mat_type='concat')\n",
    "    logging.info(f'loaded split {journalist}...')\n",
    "    # data - dict: dim_process, devtest, args, train, dev, test, index (train/dev/test given as)\n",
    "    # data[split] - list dicts {'time_since_start': at, 'time_since_last_event': dt, 'type_event': mark} or\n",
    "    # data[split] - dict {'arrival_times', 'delta_times', 'marks'}\n",
    "    # data['dim_process'] = Number of accounts = 119,298\n",
    "    # num_sequences: number of conversations of a journalist\n",
    "    num_classes = classes\n",
    "    #num_sequences += len(data[split]['arrival_times'])\n",
    "    num_sequences = len(set(journal_sort['conversation_id']))\n",
    "    \n",
    "    id_train, id_dev, id_test = id_data[:split[0]], id_data[split[0]:split[1]], id_data[split[1]:]\n",
    "    X_train, X_dev, X_test = data[:split[0]], data[split[0]:split[1]], data[split[1]:]\n",
    "    prob_train, prob_dev, prob_test = prob[:split[0]], prob[split[0]:split[1]], prob[split[1]:]\n",
    "    global_train, global_dev, global_test = global_input[:split[0]], global_input[split[0]:split[1]], global_input[split[1]:]\n",
    "    local_train, local_dev, local_test = local_input[:split[0]], local_input[split[0]:split[1]], local_input[split[1]:]\n",
    "    label_train, label_dev, label_test = label[:split[0]], label[split[0]:split[1]], label[split[1]:]\n",
    "\n",
    "    d_train = TreeDataset(id_train, X_train, prob_train, global_train, local_train, label_train)\n",
    "    d_val = TreeDataset(id_dev, X_dev, prob_dev, global_dev, local_dev, label_dev)  \n",
    "    d_test  = TreeDataset(id_test, X_test, prob_test, global_test, local_test, label_test)   \n",
    "\n",
    "    # for padding input sequences to maxlen of batch for running on gpu, and arranging them by length efficient\n",
    "    collate = collate  \n",
    "    dl_train = torch.utils.data.DataLoader(d_train, batch_size=batch_size, shuffle=False, collate_fn=collate)\n",
    "    dl_val = torch.utils.data.DataLoader(d_val, batch_size=batch_size, shuffle=False, collate_fn=collate)\n",
    "    dl_test = torch.utils.data.DataLoader(d_test, batch_size=batch_size, shuffle=False, collate_fn=collate)\n",
    "    return dl_train, dl_val, dl_test\n",
    "\n",
    "train, val, test = load_data(out_dir, journalist, 3, batch_size, collate)"
   ]
  },
  {
   "cell_type": "code",
   "execution_count": null,
   "id": "e41ff3a1",
   "metadata": {},
   "outputs": [
    {
     "name": "stdout",
     "output_type": "stream",
     "text": [
      "0.8088396299383888\n"
     ]
    }
   ],
   "source": [
    "count = 0\n",
    "result = []\n",
    "for i in range(len(llh)):\n",
    "    a = np.array(llh[i])\n",
    "    b = np.array(strat_tr[i])\n",
    "    hit = np.sum(np.sum(a * b, axis=-1) >= 0.7)\n",
    "    count += 1\n",
    "    result.append(hit / len(llh[i]))\n",
    "print(np.sum(result) / count)"
   ]
  },
  {
   "cell_type": "code",
   "execution_count": null,
   "id": "6c22220a",
   "metadata": {},
   "outputs": [],
   "source": [
    "llh = []\n",
    "for item in train:\n",
    "    mask = item.masks.float()\n",
    "    mask_bool = mask.bool()\n",
    "    sum = item.prob.sum(dim=-1, keepdim=True)\n",
    "    result = item.prob / sum\n",
    "    llh.append(result[mask_bool].tolist())\n",
    "likelihood = []\n",
    "for i in range(len(llh)):\n",
    "    a = np.array(llh[i])\n",
    "    b = np.array(strat_tr[i])\n",
    "    likelihood.append(np.sum(a * b, axis=-1).tolist())"
   ]
  },
  {
   "cell_type": "code",
   "execution_count": null,
   "id": "3a71b6ce",
   "metadata": {},
   "outputs": [],
   "source": [
    "def flatten(lst):\n",
    "    \"\"\" Flatten a 2D list into a 1D list \"\"\"\n",
    "    return [item for sublist in lst for item in sublist]"
   ]
  },
  {
   "cell_type": "code",
   "execution_count": null,
   "id": "d1ba4955",
   "metadata": {},
   "outputs": [
    {
     "data": {
      "text/plain": [
       "632"
      ]
     },
     "metadata": {},
     "output_type": "display_data"
    }
   ],
   "source": [
    "np.sum(binary_predictions)"
   ]
  },
  {
   "cell_type": "code",
   "execution_count": null,
   "id": "77c58822",
   "metadata": {},
   "outputs": [
    {
     "name": "stdout",
     "output_type": "stream",
     "text": [
      "Accuracy: 0.7532777115613826, Precision: 1.0, Recall: 0.7532777115613826, F1 Score: 0.8592794017675051\n"
     ]
    },
    {
     "name": "stderr",
     "output_type": "stream",
     "text": [
      "/u/yian3/.conda/envs/py39/lib/python3.9/site-packages/sklearn/metrics/_classification.py:1497: UndefinedMetricWarning:\n",
      "\n",
      "Recall is ill-defined and being set to 0.0 in labels with no true samples. Use `zero_division` parameter to control this behavior.\n",
      "\n"
     ]
    }
   ],
   "source": [
    "from sklearn.metrics import accuracy_score, precision_score, recall_score, f1_score, roc_auc_score\n",
    "\n",
    "# Assuming `predictions` is your list/array of predicted probabilities and `true_labels` is your ground truth\n",
    "predictions = likelihood\n",
    "true_labels = flatten([[1] * len(likelihood[i]) for i in range(len(likelihood))])\n",
    "\n",
    "# Convert probabilities to binary predictions (e.g., using 0.5 as a threshold)\n",
    "binary_predictions = flatten([[1 if p > 0.7 else 0 for p in item] for item in predictions])\n",
    "\n",
    "# Evaluate\n",
    "accuracy = accuracy_score(true_labels, binary_predictions)\n",
    "precision = precision_score(true_labels, binary_predictions)\n",
    "recall = recall_score(true_labels, binary_predictions, average='weighted', zero_division='warn')\n",
    "f1 = f1_score(true_labels, binary_predictions)\n",
    "#roc_auc = roc_auc_score(true_labels, binary_predictions)  # Note: ROC AUC uses the probabilities, not the binary predictions\n",
    "\n",
    "print(f\"Accuracy: {accuracy}, Precision: {precision}, Recall: {recall}, F1 Score: {f1}\")\n"
   ]
  },
  {
   "cell_type": "markdown",
   "id": "f448a85c",
   "metadata": {},
   "source": [
    "## Test"
   ]
  },
  {
   "cell_type": "code",
   "execution_count": null,
   "id": "6bb96f17",
   "metadata": {},
   "outputs": [],
   "source": [
    "labels_tr = []\n",
    "strat_tr = []\n",
    "for i, item in enumerate(val):  # Assuming 'val' is your validation dataset\n",
    "    # Forward pass\n",
    "    #print(i)\n",
    "    mask = item.masks.float()\n",
    "    mask_bool = mask.bool()\n",
    "    labels = item.labels[mask_bool]\n",
    "    strat_temp = torch.Tensor(strat_val[i])\n",
    "    #pred_temp = torch.Tensor(pred_test[i])\n",
    "    strat_tr.append(strat_temp[mask_bool].tolist())\n",
    "    #labels_tr.append(pred_temp[mask_bool].tolist())\n",
    "    labels_tr.append(labels.tolist())\n"
   ]
  },
  {
   "cell_type": "code",
   "execution_count": null,
   "id": "867aff65",
   "metadata": {},
   "outputs": [
    {
     "name": "stdout",
     "output_type": "stream",
     "text": [
      "150 14 7\n"
     ]
    }
   ],
   "source": [
    "strat_0 = []\n",
    "strat_1 = []\n",
    "strat_2 = []\n",
    "for i in range(len(labels_tr)):\n",
    "    for j, item in enumerate(labels_tr[i]):\n",
    "        if item == 0:\n",
    "            strat_0.append(strat_tr[i][j])\n",
    "        elif item == 1:\n",
    "            strat_1.append(strat_tr[i][j])\n",
    "        elif item == 2:\n",
    "            strat_2.append(strat_tr[i][j])\n",
    "\n",
    "print(len(strat_0), len(strat_1), len(strat_2))"
   ]
  },
  {
   "cell_type": "code",
   "execution_count": null,
   "id": "bee678ce",
   "metadata": {},
   "outputs": [
    {
     "name": "stdout",
     "output_type": "stream",
     "text": [
      "[0.11962023 0.14346766 0.11602822 0.12275441 0.13734565 0.10130471\n",
      " 0.1300965  0.12938263] [0.42894168 0.17817303 0.07215742 0.06545482 0.05932482 0.05118508\n",
      " 0.07555469 0.06920846] [0.57228889 0.18950889 0.05327873 0.0403331  0.02379078 0.03050997\n",
      " 0.04997504 0.04031457]\n"
     ]
    }
   ],
   "source": [
    "ms_0 = np.mean(np.array(strat_0), 0)\n",
    "ms_1 = np.mean(np.array(strat_1), 0)\n",
    "ms_2 = np.mean(np.array(strat_2), 0)\n",
    "print(ms_0, ms_1, ms_2)"
   ]
  },
  {
   "cell_type": "code",
   "execution_count": null,
   "id": "908c2e08",
   "metadata": {},
   "outputs": [
    {
     "data": {
      "image/png": "[encoded data removed]",
      "text/plain": [
       "<Figure size 800x400 with 2 Axes>"
      ]
     },
     "metadata": {},
     "output_type": "display_data"
    }
   ],
   "source": [
    "import seaborn as sns\n",
    "data_2d = np.vstack([ms_0, ms_1, ms_2])\n",
    "\n",
    "\n",
    "# Create the heatmap\n",
    "plt.figure(figsize=(8, 4))  # Adjust the size as needed\n",
    "sns.heatmap(data_2d, cmap=\"coolwarm\", vmin=0, vmax=0.6, yticklabels=[\"Attackers\", \"Bystanders\", \"Supporters\"])  # Choose a colormap that fits your data\n",
    "# viridis, , annot=True\n",
    "# Optional: Add labels, title, etc.\n",
    "plt.title(\"Distribution of Users' Strategies within Different Groups\", size=15)\n",
    "plt.xlabel(\"Strategies\", size=15)#\n",
    "#plt.ylabel(\"Row\")\n",
    "plt.tick_params(axis='y', labelsize=12)\n",
    "\n",
    "# Display the heatmap\n",
    "plt.tight_layout()\n",
    "plt.savefig('../result/heatmap_jiayangfan.png', bbox_inches='tight')\n",
    "plt.show()"
   ]
  },
  {
   "cell_type": "code",
   "execution_count": null,
   "id": "ea4c6ee3",
   "metadata": {},
   "outputs": [],
   "source": [
    "scale = [1, 1e3, 1e3, 1e3, 1e3, 1e3, 1e3, 1e3]"
   ]
  },
  {
   "cell_type": "code",
   "execution_count": null,
   "id": "3c8e9e91",
   "metadata": {},
   "outputs": [
    {
     "data": {
      "text/plain": [
       "array([9.98642266e-01, 1.07979611e-04, 4.87784740e-04, 2.11293217e-04,\n",
       "       6.35078437e-05, 2.71009480e-04, 1.48113032e-04, 6.80406926e-05])"
      ]
     },
     "metadata": {},
     "output_type": "display_data"
    }
   ],
   "source": [
    "np.mean(np.array(strat_0), 0)"
   ]
  },
  {
   "cell_type": "code",
   "execution_count": null,
   "id": "5b89ca27",
   "metadata": {},
   "outputs": [
    {
     "data": {
      "text/plain": [
       "array([9.97384846e-01, 2.43167975e-04, 8.06368771e-04, 3.80310346e-04,\n",
       "       1.42341363e-04, 4.99840535e-04, 3.45563923e-04, 1.97667410e-04])"
      ]
     },
     "metadata": {},
     "output_type": "display_data"
    }
   ],
   "source": [
    "np.mean(np.array(strat_1), 0)"
   ]
  },
  {
   "cell_type": "code",
   "execution_count": null,
   "id": "ead55141",
   "metadata": {},
   "outputs": [
    {
     "data": {
      "text/plain": [
       "array([9.99011886e-01, 8.78300398e-05, 3.19675852e-04, 1.41030914e-04,\n",
       "       4.80180978e-05, 1.94500281e-04, 1.27388699e-04, 6.96790908e-05])"
      ]
     },
     "metadata": {},
     "output_type": "display_data"
    }
   ],
   "source": [
    "np.mean(np.array(strat_2), 0)"
   ]
  },
  {
   "cell_type": "code",
   "execution_count": null,
   "id": "58edc676",
   "metadata": {},
   "outputs": [
    {
     "data": {
      "image/png": "[encoded data removed]",
      "text/plain": [
       "<Figure size 640x480 with 1 Axes>"
      ]
     },
     "metadata": {},
     "output_type": "display_data"
    }
   ],
   "source": [
    "x = range(8)\n",
    "plt.plot(x, np.mean(np.array(strat_0), 0), label='Attacker')\n",
    "plt.plot(x, np.mean(np.array(strat_1), 0), label='Bystander')\n",
    "plt.plot(x, np.mean(np.array(strat_2), 0), label='Supporter')\n",
    "plt.legend()\n",
    "plt.show()"
   ]
  },
  {
   "cell_type": "code",
   "execution_count": null,
   "id": "6bfd4a5d",
   "metadata": {},
   "outputs": [],
   "source": [
    "target_u = []\n",
    "pred_u = []\n",
    "strat_u = []\n",
    "\n",
    "mask_u = []\n",
    "true_labels = []\n",
    "for i, item in enumerate(test):\n",
    "    mask_u.append(item.masks)\n",
    "    true_labels.append(item.labels)\n",
    "\n",
    "for i in range(len(mask_u)):\n",
    "    for j in range(len(mask_u[i])):\n",
    "        mask_temp = sum(mask_u[i][j])\n",
    "        pred_u.append(pred_test[i][j][:mask_temp])\n",
    "        target_u.append(true_labels[i][j][:mask_temp].tolist())\n",
    "        strat_t = strat_test[i][j][:mask_temp]\n",
    "        strat_u.append(strat_t)\n",
    "\n",
    "strat_0 = []\n",
    "strat_1 = []\n",
    "strat_2 = []\n",
    "\n",
    "for i, item in enumerate(target_u):\n",
    "    for j in range(len(item)):\n",
    "        if item[j] == 0:\n",
    "            strat_0.append(strat_u[i][j])\n",
    "        elif item[j] == 1:\n",
    "            strat_1.append(strat_u[i][j])\n",
    "        else:\n",
    "            strat_2.append(strat_u[i][j])"
   ]
  },
  {
   "cell_type": "code",
   "execution_count": null,
   "metadata": {},
   "outputs": [],
   "source": []
  },
  {
   "cell_type": "code",
   "execution_count": null,
   "metadata": {},
   "outputs": [],
   "source": []
  },
  {
   "cell_type": "code",
   "execution_count": null,
   "id": "1082ff53",
   "metadata": {},
   "outputs": [],
   "source": []
  },
  {
   "cell_type": "code",
   "execution_count": null,
   "id": "9e779990",
   "metadata": {},
   "outputs": [],
   "source": []
  },
  {
   "cell_type": "code",
   "execution_count": null,
   "id": "5266884b",
   "metadata": {},
   "outputs": [],
   "source": []
  },
  {
   "cell_type": "code",
   "execution_count": null,
   "id": "7e8db8f6",
   "metadata": {},
   "outputs": [],
   "source": []
  },
  {
   "cell_type": "code",
   "execution_count": null,
   "id": "777fa063",
   "metadata": {},
   "outputs": [],
   "source": []
  },
  {
   "cell_type": "code",
   "execution_count": null,
   "id": "78ff3a2e",
   "metadata": {},
   "outputs": [],
   "source": []
  },
  {
   "cell_type": "code",
   "execution_count": null,
   "id": "05093096",
   "metadata": {},
   "outputs": [],
   "source": []
  },
  {
   "cell_type": "code",
   "execution_count": null,
   "id": "6dc9b5b2",
   "metadata": {},
   "outputs": [],
   "source": []
  },
  {
   "cell_type": "code",
   "execution_count": null,
   "metadata": {},
   "outputs": [],
   "source": []
  },
  {
   "cell_type": "code",
   "execution_count": null,
   "id": "37b49f98",
   "metadata": {},
   "outputs": [],
   "source": []
  },
  {
   "cell_type": "code",
   "execution_count": null,
   "metadata": {},
   "outputs": [],
   "source": []
  },
  {
   "cell_type": "code",
   "execution_count": null,
   "id": "17b371bd",
   "metadata": {},
   "outputs": [],
   "source": []
  },
  {
   "cell_type": "code",
   "execution_count": null,
   "id": "5dee0108",
   "metadata": {},
   "outputs": [],
   "source": []
  },
  {
   "cell_type": "code",
   "execution_count": null,
   "id": "39867066",
   "metadata": {},
   "outputs": [],
   "source": []
  },
  {
   "cell_type": "code",
   "execution_count": null,
   "metadata": {},
   "outputs": [],
   "source": []
  },
  {
   "cell_type": "code",
   "execution_count": null,
   "metadata": {},
   "outputs": [],
   "source": []
  },
  {
   "cell_type": "code",
   "execution_count": null,
   "id": "1939fea0",
   "metadata": {},
   "outputs": [],
   "source": []
  },
  {
   "cell_type": "code",
   "execution_count": null,
   "id": "36ed57de",
   "metadata": {},
   "outputs": [],
   "source": []
  },
  {
   "cell_type": "code",
   "execution_count": null,
   "id": "7b860d43",
   "metadata": {},
   "outputs": [],
   "source": []
  },
  {
   "cell_type": "code",
   "execution_count": null,
   "id": "b5653da2",
   "metadata": {},
   "outputs": [],
   "source": []
  },
  {
   "cell_type": "code",
   "execution_count": null,
   "id": "2c30ddc0",
   "metadata": {},
   "outputs": [],
   "source": []
  },
  {
   "cell_type": "code",
   "execution_count": null,
   "id": "d6ce1d2e",
   "metadata": {},
   "outputs": [],
   "source": []
  },
  {
   "cell_type": "code",
   "execution_count": 4,
   "id": "a97211ce",
   "metadata": {},
   "outputs": [],
   "source": [
    "out_dir = '../data/JiayangFan'\n",
    "journalist = 'JiayangFan'\n",
    "with open(os.path.join(out_dir, f'{journalist}_dict.pkl'), 'rb') as f:\n",
    "    data = pickle.load(f)\n",
    "\n",
    "with open(os.path.join(out_dir, f'{journalist}_ids.pkl'), 'rb') as f:\n",
    "    map_id = pickle.load(f)\n",
    "    \n",
    "with open(os.path.join(out_dir, f'{journalist}_lan.pkl'), 'rb') as f:\n",
    "    map_lan = pickle.load(f)\n",
    "\n",
    "with open(os.path.join(out_dir, f'{journalist}_type.pkl'), 'rb') as f:\n",
    "    map_type = pickle.load(f)\n",
    "\n",
    "with open(os.path.join(out_dir, f'{journalist}_reply.pkl'), 'rb') as f:\n",
    "    map_reply = pickle.load(f)\n",
    "\n",
    "alice = pd.DataFrame.from_dict(data)\n",
    "alice_sort = alice.sort_values(by=['created_at'])\n",
    "conv = pd.read_csv(os.path.join(out_dir, f'{journalist}_conv_labels.csv'))\n",
    "\n",
    "data = pkl.load(open(os.path.join(out_dir, f'{journalist}_dict.pkl'), 'rb'))\n",
    "journal = pd.DataFrame.from_dict(data)\n",
    "journal_sort = pd.read_csv(os.path.join(out_dir, f'{journalist}_conv_labels.csv'))"
   ]
  },
  {
   "cell_type": "code",
   "execution_count": 6,
   "id": "88c1ae12",
   "metadata": {},
   "outputs": [],
   "source": [
    "short_gap = []\n",
    "for item in journal_sort['time gap']:\n",
    "    if item < 240:\n",
    "        short_gap.append(item)\n",
    "        \n",
    "max_gap = 240\n",
    "data = []\n",
    "# for index, item in journal_sort.iterrows():\n",
    "#     data.append(superbeta.pdf(1-item['time gap'] / max_gap) + 1e-20)\n",
    "for item in short_gap:\n",
    "    data.append(superbeta.pdf(1 - item / max_gap) + 1e-10)"
   ]
  },
  {
   "cell_type": "code",
   "execution_count": 7,
   "id": "2bafe082",
   "metadata": {},
   "outputs": [],
   "source": [
    "ids = list(set(journal_sort['conversation_id']))\n",
    "batch_data = []\n",
    "target_data = []\n",
    "conv_data = []\n",
    "ref_data = []\n",
    "id_data = []\n",
    "for idx in ids:\n",
    "    convs = journal_sort[journal_sort['conversation_id'] == idx]\n",
    "    convs_batch = convs[[\"type\", \"possibly_sensitive\", \"lang\", \"reply_settings\",\n",
    "                     \"retweet_count\", \"reply_count\", \"like_count\", \"quote_count\", \"impression_count\",\n",
    "                     \"mentions\", \"urls\"]]\n",
    "    conv_data.append(list(convs['conversation_id']))\n",
    "    ref_data.append(list(convs['reference_id']))\n",
    "    id_data.append(list(convs['tweet_id']))\n",
    "    batch_data.append(convs_batch.values.tolist())\n",
    "    target_data.append(list(convs['labels']))\n",
    "    \n",
    "label_data = target_data"
   ]
  },
  {
   "cell_type": "code",
   "execution_count": 258,
   "id": "a6292f35",
   "metadata": {},
   "outputs": [],
   "source": [
    "contexts = []\n",
    "for item in conv['context']:\n",
    "    temp_s = ''\n",
    "    if item == '0':\n",
    "        contexts.append('Unified Twitter Taxonomy')\n",
    "\n",
    "    else:\n",
    "        for i in ast.literal_eval(item):\n",
    "            temp_s  += (i['domain']['name'] + ' ' + i['entity']['name'])\n",
    "        contexts.append(temp_s)\n",
    "    \n",
    "annotations = []\n",
    "for item in conv['annotations']:\n",
    "    temp_s = ''\n",
    "    if item == '0':\n",
    "        annotations.append('Others')\n",
    "\n",
    "    else:\n",
    "        for i in ast.literal_eval(item):\n",
    "            temp_s += i['type'] + ' ' + i['normalized_text']\n",
    "\n",
    "        annotations.append(temp_s)"
   ]
  },
  {
   "cell_type": "code",
   "execution_count": 340,
   "id": "ab438d99",
   "metadata": {},
   "outputs": [],
   "source": [
    "journal['context'] = contexts\n",
    "journal['annotations'] = annotations\n",
    "journal_sort = journal.sort_values(by=['created_at'])"
   ]
  },
  {
   "cell_type": "code",
   "execution_count": 341,
   "id": "8f424c4e",
   "metadata": {},
   "outputs": [],
   "source": [
    "## topics\n",
    "## people\n",
    "ref_ids = []\n",
    "\n",
    "journal_sort['topics'] = None\n",
    "journal_sort['ppls'] = None\n",
    "conv_ids = set(journal_sort['conversation_id'])\n",
    "for conv in list(conv_ids):\n",
    "    test_d = journal_sort[journal_sort['conversation_id'] == conv]\n",
    "    for index, item in test_d.iterrows():\n",
    "        i = 0\n",
    "        tweet_id = item['tweet_id']\n",
    "        ref_id = item['reference_id']\n",
    "        conv_id = item['conversation_id']\n",
    "        topic1 = item['context']\n",
    "        anno1 = item['annotations']\n",
    "        if len(test_d) == 1:\n",
    "            topic2 = 'Unified Twitter Taxonomy'\n",
    "            anno2 = 'Others'\n",
    "            journal_sort.at[index, 'topics']=[text1, text2]\n",
    "            journal_sort.at[index, 'ppls']=[anno1, anno2]\n",
    "            continue\n",
    "        if ref_id not in ref_ids:\n",
    "            if tweet_id == test_d.iloc[0]['tweet_id']:\n",
    "                text2 = test_d[test_d['tweet_id']==test_d.iloc[1]['tweet_id']]['context'].item()\n",
    "                anno2 = test_d[test_d['tweet_id']==test_d.iloc[1]['tweet_id']]['annotations'].item()\n",
    "            else:\n",
    "                text2 = test_d.iloc[i-1]['context']\n",
    "                anno2 = test_d.iloc[i-1]['annotations']\n",
    "        else:\n",
    "            #print(tweet_id,ref_id)\n",
    "            text2 = test_d[test_d['tweet_id']==ref_id]['context'].item()\n",
    "            anno2 = test_d[test_d['tweet_id']==ref_id]['annotations'].item()\n",
    "\n",
    "        ref_ids.append(tweet_id)\n",
    "        \n",
    "        journal_sort.at[index, 'topics']=[text1, text2]\n",
    "        journal_sort.at[index, 'ppls']=[anno1, anno2]\n",
    "        #print(text2, journal_sort.at[index, 'topics'])\n",
    "        i += 1\n",
    "        "
   ]
  },
  {
   "cell_type": "code",
   "execution_count": 57,
   "id": "3f634ddc",
   "metadata": {},
   "outputs": [],
   "source": [
    "journal_sort.to_csv(os.path.join(out_dir, f'{journalist}_context.csv'), index=False)"
   ]
  },
  {
   "cell_type": "code",
   "execution_count": 310,
   "id": "692dbdd0",
   "metadata": {},
   "outputs": [
    {
     "name": "stderr",
     "output_type": "stream",
     "text": [
      "Some weights of the model checkpoint at bert-base-uncased were not used when initializing BertModel: ['cls.predictions.transform.dense.weight', 'cls.predictions.transform.LayerNorm.weight', 'cls.seq_relationship.bias', 'cls.seq_relationship.weight', 'cls.predictions.bias', 'cls.predictions.transform.LayerNorm.bias', 'cls.predictions.transform.dense.bias', 'cls.predictions.decoder.weight']\n",
      "- This IS expected if you are initializing BertModel from the checkpoint of a model trained on another task or with another architecture (e.g. initializing a BertForSequenceClassification model from a BertForPreTraining model).\n",
      "- This IS NOT expected if you are initializing BertModel from the checkpoint of a model that you expect to be exactly identical (initializing a BertForSequenceClassification model from a BertForSequenceClassification model).\n",
      "10632it [17:00, 10.41it/s]\n"
     ]
    }
   ],
   "source": [
    "context_sims = []\n",
    "\n",
    "# Initialize tokenizer and model\n",
    "tokenizer = BertTokenizer.from_pretrained('bert-base-uncased')\n",
    "model = BertModel.from_pretrained('bert-base-uncased')\n",
    "for index, item in tqdm(journal_sort.iterrows()):\n",
    "    # Tokenize input text and convert to tensor\n",
    "    c1 = item['topics'][0]\n",
    "    c2 = item['topics'][1]\n",
    "    \n",
    "    a1 = item['ppls'][0]\n",
    "    a2 = item['ppls'][1]\n",
    "    inputs1 = tokenizer(c1, return_tensors=\"pt\")\n",
    "    inputs2 = tokenizer(c2, return_tensors=\"pt\")\n",
    "\n",
    "    # Generate embeddings\n",
    "    with torch.no_grad():\n",
    "        outputs1 = model(**inputs1)\n",
    "        outputs2 = model(**inputs2)\n",
    "\n",
    "    # The last hidden state is the sequence of hidden states of the last layer of the model\n",
    "    last_hidden_states1 = outputs1.last_hidden_state\n",
    "    last_hidden_states2 = outputs2.last_hidden_state\n",
    "\n",
    "    # Optionally, use the [CLS] token's embedding as the representation for the entire sentence\n",
    "    sentence_embedding1 = last_hidden_states1[:, 0, :]\n",
    "    sentence_embedding2 = last_hidden_states2[:, 0, :]\n",
    "\n",
    "    cosine = np.dot(sentence_embedding1,sentence_embedding2.T)/(norm(sentence_embedding1)*norm(sentence_embedding2))\n",
    "    context_sims.append(cosine)\n",
    "    #print(sentence_embedding.shape)\n",
    "    \n",
    "journal_sort['topics_sim'] = context_sims"
   ]
  },
  {
   "cell_type": "code",
   "execution_count": 346,
   "id": "da53ee76",
   "metadata": {
    "collapsed": true
   },
   "outputs": [
    {
     "name": "stderr",
     "output_type": "stream",
     "text": [
      "Some weights of the model checkpoint at bert-base-uncased were not used when initializing BertModel: ['cls.predictions.transform.dense.weight', 'cls.predictions.transform.LayerNorm.weight', 'cls.seq_relationship.bias', 'cls.seq_relationship.weight', 'cls.predictions.bias', 'cls.predictions.transform.LayerNorm.bias', 'cls.predictions.transform.dense.bias', 'cls.predictions.decoder.weight']\n",
      "- This IS expected if you are initializing BertModel from the checkpoint of a model trained on another task or with another architecture (e.g. initializing a BertForSequenceClassification model from a BertForPreTraining model).\n",
      "- This IS NOT expected if you are initializing BertModel from the checkpoint of a model that you expect to be exactly identical (initializing a BertForSequenceClassification model from a BertForSequenceClassification model).\n",
      "10632it [13:57, 12.70it/s]\n"
     ]
    }
   ],
   "source": [
    "# Initialize tokenizer and model\n",
    "tokenizer = BertTokenizer.from_pretrained('bert-base-uncased')\n",
    "model = BertModel.from_pretrained('bert-base-uncased')\n",
    "anno_sims = []\n",
    "for index, item in tqdm(journal_sort.iterrows()):\n",
    "    # Tokenize input text and convert to tensor\n",
    "    c1 = item['topics'][0]\n",
    "    c2 = item['topics'][1]\n",
    "    \n",
    "    a1 = item['ppls'][0]\n",
    "    a2 = item['ppls'][1]\n",
    "    inputs1 = tokenizer(a1, return_tensors=\"pt\")\n",
    "    inputs2 = tokenizer(a2, return_tensors=\"pt\")\n",
    "\n",
    "    # Generate embeddings\n",
    "    with torch.no_grad():\n",
    "        outputs1 = model(**inputs1)\n",
    "        outputs2 = model(**inputs2)\n",
    "\n",
    "    # The last hidden state is the sequence of hidden states of the last layer of the model\n",
    "    last_hidden_states1 = outputs1.last_hidden_state\n",
    "    last_hidden_states2 = outputs2.last_hidden_state\n",
    "\n",
    "    # Optionally, use the [CLS] token's embedding as the representation for the entire sentence\n",
    "    sentence_embedding1 = last_hidden_states1[:, 0, :]\n",
    "    sentence_embedding2 = last_hidden_states2[:, 0, :]\n",
    "\n",
    "    cosine = np.dot(sentence_embedding1,sentence_embedding2.T)/(norm(sentence_embedding1)*norm(sentence_embedding2))\n",
    "    anno_sims.append(cosine)\n",
    "    #print(sentence_embedding.shape)\n",
    "    \n",
    "journal_sort['ppls_sim'] = anno_sims\n",
    "journal_sort = pd.read_csv(os.path.join(out_dir, f'{journalist}_context.csv'))"
   ]
  },
  {
   "cell_type": "code",
   "execution_count": 348,
   "id": "6033f78f",
   "metadata": {
    "scrolled": true
   },
   "outputs": [],
   "source": []
  },
  {
   "cell_type": "code",
   "execution_count": 24,
   "id": "034022e5",
   "metadata": {},
   "outputs": [],
   "source": [
    "anchor_time = []\n",
    "test_d = journal_sort[journal_sort['conversation_id']==4]\n",
    "for index, item in test_d.iterrows():\n",
    "    anchor_time.append(datetime.strptime(item['created_at'][:19], date_format))"
   ]
  },
  {
   "cell_type": "code",
   "execution_count": 25,
   "id": "c3c17c75",
   "metadata": {},
   "outputs": [],
   "source": [
    "anchor = anchor_time[1] - anchor_time[0]\n",
    "anchor_hours = divmod(anchor.total_seconds() , 3600)[0]  # 1"
   ]
  },
  {
   "cell_type": "raw",
   "id": "941a8f68",
   "metadata": {},
   "source": [
    "date_format = \"%Y-%m-%dT%H:%M:%S\" \n",
    "datetime.strptime(data[0]['created_at'][:19], date_format)\n",
    "journal_sort.at[0, 'created_at'] - journal_sort.at[4, 'created_at']"
   ]
  },
  {
   "cell_type": "code",
   "execution_count": 26,
   "id": "7e097cd9",
   "metadata": {},
   "outputs": [],
   "source": [
    "## time\n",
    "from datetime import datetime\n",
    "ref_ids = []\n",
    "date_format = \"%Y-%m-%dT%H:%M:%S\" \n",
    "journal_sort['time gap'] = None\n",
    "conv_ids = set(journal_sort['conversation_id'])\n",
    "for conv in list(conv_ids):\n",
    "    test_d = journal_sort[journal_sort['conversation_id'] == conv]\n",
    "    time0 = datetime.strptime(test_d.iloc[0]['created_at'][:19], date_format)\n",
    "    k = 0\n",
    "    for index, item in test_d.iterrows():\n",
    "        tweet_id = item['tweet_id']\n",
    "        ref_id = item['reference_id']\n",
    "        conv_id = item['conversation_id']\n",
    "        time1 = datetime.strptime(item['created_at'][:19], date_format)\n",
    "        if len(test_d) == 1:\n",
    "            journal_sort.at[index, 'time gap']= float(anchor_hours) #/120\n",
    "            continue\n",
    "        if ref_id not in ref_ids:\n",
    "            if tweet_id == test_d.iloc[0]['tweet_id']:\n",
    "                time2 = datetime.strptime(item['created_at'][:19], date_format) - anchor\n",
    "            else:\n",
    "                time2 = datetime.strptime(test_d.iloc[k-1]['created_at'][:19], date_format)\n",
    "        else:\n",
    "            #print(test_d[test_d['tweet_id']==ref_id]['created_at'][:19].item())\n",
    "            time2 = datetime.strptime(test_d[test_d['tweet_id']==ref_id]['created_at'].item()[:19], date_format)\n",
    "    \n",
    "\n",
    "        ref_ids.append(tweet_id)\n",
    "        gap_in_s = (time1 - time2).total_seconds() \n",
    "        journal_sort.at[index, 'time gap']= float(divmod(gap_in_s, 3600)[0]) #/ 120\n",
    "        \n",
    "        k += 1\n",
    "        "
   ]
  },
  {
   "cell_type": "code",
   "execution_count": null,
   "id": "867368df",
   "metadata": {},
   "outputs": [],
   "source": [
    "## PA * Latest * Field * Self = 2*2*2*2 = 16\n",
    "## PA: Normal PA (p=0.1, p/#nodes + (1-p)indegree/sum_of_indegree), Uniform (1/#nodes)\n",
    "## Latest: Normal Latest (beta(10,1), x=1-(outyear-inyear)/(outyear-oldest_year)), Uniform (1/(outyear-oldest_year))\n",
    "## Field: Similar (1-(1-e^(-||x-y||_2))/(1-e^(-2)), x&y L2-normalized), Different ((1-e^(-||x-y||_2))/(1-e^(-2)), x&y L2-normalized)\n",
    "## Self: Prefer (coauthors: 0.9/#coauthors, non-coauthors: 0.1/#non-coauthors), Not Prefer (coauthors: 0.1/#coauthors, non-coauthors: 0.9/#non-coauthors)\n",
    "\n",
    "## 1st: Normal_PA * Normal_Latest * Similar_Field * Prefer_Self\n",
    "## 2nd: Normal_PA * Normal_Latest * Similar_Field * NotPrefer_Self\n",
    "## 3rd: Normal_PA * Normal_Latest * Different_Field * Prefer_Self\n",
    "## 4th: Normal_PA * Normal_Latest * Different_Field * NotPrefer_Self\n",
    "## 5th: Normal_PA * Uniform_Latest * Similar_Field * Prefer_Self\n",
    "## 6th: Normal_PA * Uniform_Latest * Similar_Field * NotPrefer_Self\n",
    "## 7th: Normal_PA * Uniform_Latest * Different_Field * Prefer_Self\n",
    "## 8th: Normal_PA * Uniform_Latest * Different_Field * NotPrefer_Self\n",
    "## 9th: Uniform_PA * Normal_Latest * Similar_Field * Prefer_Self\n",
    "## 10th: Uniform_PA * Normal_Latest * Similar_Field * NotPrefer_Self\n",
    "## 11th: Uniform_PA * Normal_Latest * Different_Field * Prefer_Self\n",
    "## 12th: Uniform_PA * Normal_Latest * Different_Field * NotPrefer_Self\n",
    "## 13th: Uniform_PA * Uniform_Latest * Similar_Field * Prefer_Self\n",
    "## 14th: Uniform_PA * Uniform_Latest * Similar_Field * NotPrefer_Self\n",
    "## 15th: Uniform_PA * Uniform_Latest * Different_Field * Prefer_Self\n",
    "## 16th: Uniform_PA * Uniform_Latest * Different_Field * NotPrefer_Self"
   ]
  },
  {
   "cell_type": "code",
   "execution_count": 26,
   "id": "ea209ebc",
   "metadata": {},
   "outputs": [],
   "source": [
    "superbeta = beta(a=10,b=1)\n",
    "\n",
    "# def cal_cite_edgeprobs(df):\n",
    "#     edge_prob = []\n",
    "#     for index, item in df.iterrows():\n",
    "         \n",
    "#         ppl_sim = float(item['ppls_sim'][2:-2])\n",
    "#         ppl_dif = 1 - ppl_sim\n",
    "\n",
    "#         topic_sim = float(item['topics_sim'][2:-2])\n",
    "#         topic_dif = 1 - topic_sim\n",
    "\n",
    "#         pnormal_latest = superbeta.pdf(1-item['time gap']) + 1e-20\n",
    "#         puniform_latest = 1 / 168\n",
    "\n",
    "#         temp1 = np.array([ppl_sim, ppl_dif])\n",
    "#         temp2 = np.outer([topic_sim,topic_dif],[pnormal_latest,puniform_latest]).flatten()\n",
    "#         result = np.outer(temp1,temp2).flatten()\n",
    "#         edge_prob.append(result)\n",
    "    \n",
    "#     return np.array(edge_prob, dtype=np.float32)\n",
    "def cal_cite_edgeprobs(ids):\n",
    "    edge_prob = [] #np.zeros((len(ids), 8))\n",
    "    for idx in ids:\n",
    "        convs = journal_sort[journal_sort['conversation_id'] == idx]\n",
    "        temp = []\n",
    "        max_gap = 240 # max(convs['time gap'])\n",
    "        for index, item in convs.iterrows():\n",
    "\n",
    "            ppl_sim = float(item['ppls_sim'][2:-2])\n",
    "            ppl_dif = 1 - ppl_sim\n",
    "\n",
    "            topic_sim = float(item['topics_sim'][2:-2]) - 1e-3\n",
    "            topic_dif = 1 - topic_sim\n",
    "\n",
    "            pnormal_latest = (superbeta.pdf(1-item['time gap'] / max_gap) + 1e-10) / 10\n",
    "            puniform_latest = 1 / 120\n",
    "\n",
    "            temp1 = np.array([ppl_sim, ppl_dif])\n",
    "            temp2 = np.outer([topic_sim,topic_dif],[pnormal_latest,puniform_latest]).flatten()\n",
    "            result = np.outer(temp1,temp2).flatten()\n",
    "            temp.append(result)\n",
    "        edge_prob.append(np.array(temp))\n",
    "    return edge_prob\n",
    "edgeprob = cal_cite_edgeprobs(ids)"
   ]
  },
  {
   "cell_type": "code",
   "execution_count": 28,
   "id": "0667dd98",
   "metadata": {},
   "outputs": [],
   "source": [
    "with open(os.path.join(out_dir, f'{journalist}_edgeprob.pkl'),'wb') as f:\n",
    "    pickle.dump(edgeprob, f)"
   ]
  },
  {
   "cell_type": "code",
   "execution_count": 29,
   "id": "51563449",
   "metadata": {},
   "outputs": [],
   "source": [
    "with open(os.path.join(out_dir, f'{journalist}_edgeprob.pkl'),'rb') as f:\n",
    "    edgeprob = pickle.load(f)"
   ]
  },
  {
   "cell_type": "code",
   "execution_count": null,
   "id": "fc0891cb",
   "metadata": {},
   "outputs": [],
   "source": []
  }
 ],
 "metadata": {
  "kernelspec": {
   "display_name": "Python 3",
   "language": "python",
   "name": "python3"
  },
  "language_info": {
   "codemirror_mode": {
    "name": "ipython",
    "version": 3
   },
   "file_extension": ".py",
   "mimetype": "text/x-python",
   "name": "python",
   "nbconvert_exporter": "python",
   "pygments_lexer": "ipython3",
   "version": "3.9.18"
  }
 },
 "nbformat": 4,
 "nbformat_minor": 5
}
