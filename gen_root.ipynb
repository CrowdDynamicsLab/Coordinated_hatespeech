{
 "cells": [
  {
   "cell_type": "code",
   "execution_count": 19,
   "metadata": {},
   "outputs": [],
   "source": [
    "import argparse\n",
    "import json\n",
    "import logging\n",
    "import os\n",
    "import sys\n",
    "\n",
    "import pandas as pd\n",
    "\n",
    "from utils.utils import separate_dps, file_tqdm, separate_lrs\n",
    "from utils.tree_utils import *\n",
    "from dataset import *"
   ]
  },
  {
   "cell_type": "code",
   "execution_count": 49,
   "metadata": {},
   "outputs": [],
   "source": [
    "data_dir = \"../data\"\n",
    "journalist = \"nighatdad\"\n",
    "out_dir = \"../data/\"\n",
    "n_ctx = 2000\n",
    "max_width = 16\n",
    "max_depth = 10\n",
    "td = True\n",
    "local_relation = True\n",
    "\n",
    "num_dps = 0\n",
    "num_classes = 3\n",
    "\n",
    "journal_sort = pd.read_csv(os.path.join(data_dir, f'{journalist}/{journalist}_conv_labels.csv'))\n",
    "num_sequences = len(set(journal_sort['conversation_id']))\n",
    "\n",
    "journal_batch = journal_sort[[\"type\", \"possibly_sensitive\", \"lang\", \"reply_settings\",\n",
    "                                \"retweet_count\", \"reply_count\", \"like_count\", \"quote_count\", \"impression_count\",\n",
    "                                \"mentions\", \"urls\", \"labels\"]]\n",
    "ids = []\n",
    "for item in list(journal_sort['conversation_id']):\n",
    "    if item not in ids:\n",
    "        ids.append(item)\n",
    "id_pair = {}\n",
    "for idx in ids:\n",
    "    id_pair[idx] = create_conversation_list(journal_sort[journal_sort['conversation_id']==idx], idx)\n"
   ]
  },
  {
   "cell_type": "code",
   "execution_count": 50,
   "metadata": {},
   "outputs": [
    {
     "data": {
      "text/plain": [
       "166"
      ]
     },
     "execution_count": 50,
     "metadata": {},
     "output_type": "execute_result"
    }
   ],
   "source": [
    "len(ids)"
   ]
  },
  {
   "cell_type": "code",
   "execution_count": 51,
   "metadata": {},
   "outputs": [
    {
     "name": "stdout",
     "output_type": "stream",
     "text": [
      "Save Relation between Child and Father\n"
     ]
    }
   ],
   "source": [
    "\n",
    "if local_relation:\n",
    "    print(\"Save Relation between Child and Father\")\n",
    "    with open(os.path.join(out_dir, f'{journalist}/{journalist}_local_path.txt'), \"w\") as fout:\n",
    "        for k in id_pair.keys():\n",
    "            tree_root = build_tree(id_pair[k][0])\n",
    "            \n",
    "            tree_root.create_local_relation()\n",
    "            node_list = tree_root.dfs()\n",
    "            name_list = []\n",
    "            for item in node_list:\n",
    "                name_list.append(item.name)\n",
    "\n",
    "            id_map, id_re = id_mapping(name_list)\n",
    "            local_relations = TreeNode.extract_data(node_list,f=lambda node: node.local_relation)\n",
    "            \"\"\"lrs = separate_lrs(local_relations, id_map, id_re, n_ctx)\n",
    "\n",
    "            for lr, extended in lrs:\n",
    "                if extended != 0:\n",
    "                    break\n",
    "                if len(lr) - extended > 1:\n",
    "                    json.dump(lr, fp=fout)  # each line is the json of a list [dict,dict,...]\n",
    "                    num_dps += 1\n",
    "                    fout.write(\"\\n\")\"\"\"\n",
    "            json.dump(local_relations, fp=fout)\n",
    "            fout.write(\"\\n\")\n",
    "\n",
    "\n"
   ]
  },
  {
   "cell_type": "code",
   "execution_count": 52,
   "metadata": {},
   "outputs": [],
   "source": [
    "# sallykohn\n",
    "# journal_sort = journal_sort.drop(10).reset_index(drop=True)\n",
    "# journal_sort.to_csv(os.path.join(data_dir, f'{journalist}/{journalist}_conv_labels.csv'))"
   ]
  },
  {
   "cell_type": "code",
   "execution_count": 53,
   "metadata": {},
   "outputs": [
    {
     "name": "stdout",
     "output_type": "stream",
     "text": [
      "Save Child Paths and Father Paths\n"
     ]
    }
   ],
   "source": [
    "if td:\n",
    "    print(\"Save Child Paths and Father Paths\")\n",
    "\n",
    "num_dps = 0\n",
    "with open(os.path.join(out_dir, f'{journalist}/{journalist}_global_path.txt'), \"w\") as fout:\n",
    "    for k in id_pair.keys():\n",
    "        tree_root = build_tree(id_pair[k][0])\n",
    "        #print(tree_root.name)\n",
    "        tree_root.create_global_relation()\n",
    "        node_list = tree_root.dfs()\n",
    "        \n",
    "        root_paths = TreeNode.extract_data(node_list,f=lambda node: clamp_and_slice_ids(\n",
    "                node.global_relation, max_width=-1, max_depth=-1))\n",
    "        \"\"\"asts = separate_dps(root_paths, n_ctx)\n",
    "\n",
    "        for lr, extended in asts:\n",
    "            if extended != 0:\n",
    "                break\n",
    "            if len(lr) - extended > 1:\n",
    "                json.dump(lr, fp=fout)  # each line is the json of a list [dict,dict,...]\n",
    "                num_dps += 1\n",
    "                fout.write(\"\\n\")\"\"\"\n",
    "        json.dump(root_paths, fp=fout)\n",
    "        fout.write(\"\\n\")\n",
    "        "
   ]
  },
  {
   "cell_type": "code",
   "execution_count": 7,
   "metadata": {},
   "outputs": [],
   "source": [
    "temp = []\n",
    "for k in id_pair.keys():\n",
    "    tree_root = build_tree(id_pair[k][0])\n",
    "    #print(tree_root.name)\n",
    "    tree_root.create_global_relation()\n",
    "    node_list = tree_root.dfs()\n",
    "    \n",
    "    root_paths = TreeNode.extract_data(node_list,f=lambda node: clamp_and_slice_ids(\n",
    "            node.global_relation, max_width=-1, max_depth=-1))\n",
    "    temp.append(root_paths)"
   ]
  },
  {
   "cell_type": "code",
   "execution_count": 8,
   "metadata": {},
   "outputs": [
    {
     "data": {
      "text/plain": [
       "[{526: {526: [[0, 0, 0]]}}, {527: {527: [[0, 0, 0], [1, 0, 0]]}}]"
      ]
     },
     "execution_count": 8,
     "metadata": {},
     "output_type": "execute_result"
    }
   ],
   "source": [
    "temp[0]"
   ]
  },
  {
   "cell_type": "code",
   "execution_count": 12,
   "metadata": {},
   "outputs": [],
   "source": [
    "split = [60, 120]\n",
    "data_dir = out_dir\n",
    "val = 0\n",
    "journal_sort = pd.read_csv((os.path.join(data_dir, f'{journalist}/{journalist}_conv_labels.csv')))\n",
    "ids = list(set(journal_sort['conversation_id']))\n",
    "dp = []\n",
    "rel = []\n",
    "id_pair = {}\n",
    "id_conv = {}\n",
    "for idx in ids:\n",
    "    id_pair[idx], id_conv[idx] = create_conversation_list(journal_sort[journal_sort['conversation_id']==idx], idx)\n",
    "id_data, data, label = create_data(journal_sort, ids)\n",
    "prob = pkl.load(open(os.path.join(data_dir, f'{journalist}/{journalist}_edgeprob.pkl'), 'rb'))\n"
   ]
  },
  {
   "cell_type": "code",
   "execution_count": 13,
   "metadata": {},
   "outputs": [
    {
     "name": "stderr",
     "output_type": "stream",
     "text": [
      "100%|██████████| 419/419 [00:00<00:00, 3094.09it/s]\n",
      "100%|██████████| 419/419 [00:00<00:00, 3179.51it/s]\n"
     ]
    }
   ],
   "source": [
    "dp = []\n",
    "rel = []\n",
    "with open(os.path.join(data_dir, f'{journalist}/{journalist}_global_path.txt'), \"r\") as f:\n",
    "    for line in tqdm(f, total=get_number_of_lines(f)):\n",
    "        dp.append(json.loads(line.strip()))\n",
    "\n",
    "with open(os.path.join(data_dir, f'{journalist}/{journalist}_local_path.txt'), \"r\") as f:\n",
    "    for line in tqdm(f, total=get_number_of_lines(f)):\n",
    "        rel.append(json.loads(line.strip()))"
   ]
  },
  {
   "cell_type": "code",
   "execution_count": 14,
   "metadata": {},
   "outputs": [],
   "source": [
    "global_input = convert_global(dp, id_data)"
   ]
  },
  {
   "cell_type": "code",
   "execution_count": null,
   "metadata": {},
   "outputs": [],
   "source": []
  }
 ],
 "metadata": {
  "kernelspec": {
   "display_name": "py39",
   "language": "python",
   "name": "python3"
  },
  "language_info": {
   "codemirror_mode": {
    "name": "ipython",
    "version": 3
   },
   "file_extension": ".py",
   "mimetype": "text/x-python",
   "name": "python",
   "nbconvert_exporter": "python",
   "pygments_lexer": "ipython3",
   "version": "3.9.18"
  }
 },
 "nbformat": 4,
 "nbformat_minor": 2
}
