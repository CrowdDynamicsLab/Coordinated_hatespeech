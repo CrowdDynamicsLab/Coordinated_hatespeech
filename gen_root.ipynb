{
 "cells": [
  {
   "cell_type": "code",
   "execution_count": 205,
   "metadata": {},
   "outputs": [],
   "source": [
    "import argparse\n",
    "import json\n",
    "import logging\n",
    "import os\n",
    "import sys\n",
    "\n",
    "import pandas as pd\n",
    "\n",
    "from utils.utils import separate_dps, file_tqdm, separate_lrs\n",
    "from utils.tree_utils import *\n",
    "from dataset import *"
   ]
  },
  {
   "cell_type": "code",
   "execution_count": 206,
   "metadata": {},
   "outputs": [],
   "source": [
    "data_dir = \"../data\"\n",
    "journalist = \"sallykohn\"\n",
    "out_dir = \"../data/\"\n",
    "n_ctx = 2000\n",
    "max_width = 16\n",
    "max_depth = 10\n",
    "td = True\n",
    "local_relation = True\n",
    "\n",
    "num_dps = 0\n",
    "num_classes = 3\n",
    "\n",
    "journal_sort = pd.read_csv(os.path.join(data_dir, f'{journalist}/{journalist}_conv_labels.csv'))\n",
    "num_sequences = len(set(journal_sort['conversation_id']))\n",
    "\n",
    "journal_batch = journal_sort[[\"type\", \"possibly_sensitive\", \"lang\", \"reply_settings\",\n",
    "                                \"retweet_count\", \"reply_count\", \"like_count\", \"quote_count\", \"impression_count\",\n",
    "                                \"mentions\", \"urls\", \"labels\"]]\n",
    "ids = list(set(journal_sort['conversation_id']))\n",
    "id_pair = {}\n",
    "for idx in ids:\n",
    "    id_pair[idx] = create_conversation_list(journal_sort[journal_sort['conversation_id']==idx], idx)\n"
   ]
  },
  {
   "cell_type": "code",
   "execution_count": 233,
   "metadata": {},
   "outputs": [
    {
     "name": "stderr",
     "output_type": "stream",
     "text": [
      "100%|██████████| 419/419 [00:00<00:00, 7471.17it/s]\n"
     ]
    }
   ],
   "source": [
    "alice_rel = []\n",
    "with open(os.path.join(data_dir, f'aliceysu/aliceysu_local_path.txt'), \"r\") as f:\n",
    "    for line in tqdm(f, total=get_number_of_lines(f)):\n",
    "        alice_rel.append(json.loads(line.strip()))"
   ]
  },
  {
   "cell_type": "code",
   "execution_count": 281,
   "metadata": {},
   "outputs": [],
   "source": [
    "def separate_lrs(lrs, id_map, id_re, max_len):\n",
    "    def reformat(lrs, left):  # [left,right)\n",
    "        new_lrs = []\n",
    "        for idx, lr in enumerate(lrs):\n",
    "            # lr -> dict: {idx:[],idx:[]}\n",
    "            temp_lr = dict()\n",
    "            for key, val in lr.items():\n",
    "                if left <= id_map[key] < left + max_len:\n",
    "                    temp_lr[id_re[id_map[key] - left]] = val\n",
    "            new_lrs.append(temp_lr)\n",
    "        return new_lrs\n",
    "\n",
    "    half_len = int(max_len / 2)\n",
    "    if len(lrs) <= max_len:\n",
    "        return [[reformat(lrs, 0), 0]]\n",
    "\n",
    "    aug_asts = [[reformat(lrs[:max_len], 0), 0]]\n",
    "    i = half_len\n",
    "    while i < len(lrs) - max_len:\n",
    "        aug_asts.append([reformat(lrs[i: i + max_len], i), half_len])\n",
    "        i += half_len\n",
    "    idx = max_len - (len(lrs) - (i + half_len))\n",
    "    aug_asts.append([reformat(lrs[len(lrs) - max_len:], len(lrs) - max_len), idx])\n",
    "    return aug_asts\n",
    "\n"
   ]
  },
  {
   "cell_type": "code",
   "execution_count": 265,
   "metadata": {},
   "outputs": [],
   "source": [
    "def id_mapping(name_li):\n",
    "    count = 0\n",
    "    id_map = {}\n",
    "    id_re = {}\n",
    "    for item in name_li:\n",
    "        if item not in id_map.keys():\n",
    "            id_map[item] = count\n",
    "            id_re[count] = item\n",
    "            count += 1\n",
    "    #id_list = [id_map[item] for item in name_li]\n",
    "    return id_map, id_re\n",
    "\n",
    "name_list = []\n",
    "for item in node_list:\n",
    "    name_list.append(item.name)\n",
    "\n",
    "id_map, id_re = id_mapping(name_list)"
   ]
  },
  {
   "cell_type": "code",
   "execution_count": 195,
   "metadata": {},
   "outputs": [
    {
     "name": "stdout",
     "output_type": "stream",
     "text": [
      "Save Relation between Child and Father\n"
     ]
    }
   ],
   "source": [
    "\n",
    "if local_relation:\n",
    "    print(\"Save Relation between Child and Father\")\n",
    "    with open(os.path.join(out_dir, f'{journalist}/{journalist}_local_path.txt'), \"w\") as fout:\n",
    "        for k in id_pair.keys():\n",
    "            tree_root = build_tree(id_pair[k][0])\n",
    "            \n",
    "            tree_root.create_local_relation()\n",
    "            node_list = tree_root.dfs()\n",
    "            name_list = []\n",
    "            for item in node_list:\n",
    "                name_list.append(item.name)\n",
    "\n",
    "            id_map, id_re = id_mapping(name_list)\n",
    "            local_relations = TreeNode.extract_data(node_list,f=lambda node: node.local_relation)\n",
    "            lrs = separate_lrs(local_relations, id_map, id_re, n_ctx)\n",
    "\n",
    "            \"\"\"for lr, extended in lrs:\n",
    "                if extended != 0:\n",
    "                    break\n",
    "                if len(lr) - extended > 1:\n",
    "                    json.dump(lr, fp=fout)  # each line is the json of a list [dict,dict,...]\n",
    "                    num_dps += 1\n",
    "                    fout.write(\"\\n\")\"\"\"\n",
    "            json.dump(local_relations, fp=fout)\n",
    "            fout.write(\"\\n\")\n",
    "\n",
    "\n"
   ]
  },
  {
   "cell_type": "code",
   "execution_count": 108,
   "metadata": {},
   "outputs": [],
   "source": [
    "# sallykohn\n",
    "# journal_sort = journal_sort.drop(10).reset_index(drop=True)\n",
    "# journal_sort.to_csv(os.path.join(data_dir, f'{journalist}/{journalist}_conv_labels.csv'))"
   ]
  },
  {
   "cell_type": "code",
   "execution_count": 196,
   "metadata": {},
   "outputs": [
    {
     "name": "stdout",
     "output_type": "stream",
     "text": [
      "Save Child Paths and Father Paths\n"
     ]
    }
   ],
   "source": [
    "if td:\n",
    "    print(\"Save Child Paths and Father Paths\")\n",
    "\n",
    "num_dps = 0\n",
    "with open(os.path.join(out_dir, f'{journalist}/{journalist}_global_path.txt'), \"w\") as fout:\n",
    "    for k in id_pair.keys():\n",
    "        tree_root = build_tree(id_pair[k][0])\n",
    "        #print(tree_root.name)\n",
    "        tree_root.create_global_relation()\n",
    "        node_list = tree_root.dfs()\n",
    "        \n",
    "        root_paths = TreeNode.extract_data(node_list,f=lambda node: clamp_and_slice_ids(\n",
    "                node.global_relation, max_width=-1, max_depth=-1))\n",
    "        asts = separate_dps(root_paths, n_ctx)\n",
    "\n",
    "        for lr, extended in asts:\n",
    "            if extended != 0:\n",
    "                break\n",
    "            if len(lr) - extended > 1:\n",
    "                json.dump(lr, fp=fout)  # each line is the json of a list [dict,dict,...]\n",
    "                num_dps += 1\n",
    "                fout.write(\"\\n\")"
   ]
  },
  {
   "cell_type": "code",
   "execution_count": 197,
   "metadata": {},
   "outputs": [],
   "source": [
    "prob = pkl.load(open(os.path.join(data_dir, f'{journalist}/{journalist}_edgeprob.pkl'), 'rb'))\n",
    "    "
   ]
  },
  {
   "cell_type": "code",
   "execution_count": 204,
   "metadata": {},
   "outputs": [
    {
     "data": {
      "text/plain": [
       "55278"
      ]
     },
     "execution_count": 204,
     "metadata": {},
     "output_type": "execute_result"
    }
   ],
   "source": [
    "len(journal_sort)"
   ]
  },
  {
   "cell_type": "code",
   "execution_count": null,
   "metadata": {},
   "outputs": [],
   "source": []
  }
 ],
 "metadata": {
  "kernelspec": {
   "display_name": "py39",
   "language": "python",
   "name": "python3"
  },
  "language_info": {
   "codemirror_mode": {
    "name": "ipython",
    "version": 3
   },
   "file_extension": ".py",
   "mimetype": "text/x-python",
   "name": "python",
   "nbconvert_exporter": "python",
   "pygments_lexer": "ipython3",
   "version": "3.9.18"
  }
 },
 "nbformat": 4,
 "nbformat_minor": 2
}
